{
 "metadata": {
  "language_info": {
   "codemirror_mode": {
    "name": "ipython",
    "version": 3
   },
   "file_extension": ".py",
   "mimetype": "text/x-python",
   "name": "python",
   "nbconvert_exporter": "python",
   "pygments_lexer": "ipython3",
   "version": "3.8.5"
  },
  "orig_nbformat": 4,
  "kernelspec": {
   "name": "python3",
   "display_name": "Python 3.8.5 64-bit ('base': conda)"
  },
  "interpreter": {
   "hash": "dca0ade3e726a953b501b15e8e990130d2b7799f14cfd9f4271676035ebe5511"
  }
 },
 "nbformat": 4,
 "nbformat_minor": 2,
 "cells": [
  {
   "cell_type": "markdown",
   "source": [
    "## pythondaily_01\n",
    "Create a function that removes all capital letters and punctuation in a string. Return the clean string."
   ],
   "metadata": {}
  },
  {
   "cell_type": "code",
   "execution_count": 8,
   "source": [
    "import string\n",
    "string.punctuation\n",
    "string.ascii_uppercase"
   ],
   "outputs": [
    {
     "output_type": "execute_result",
     "data": {
      "text/plain": [
       "'ABCDEFGHIJKLMNOPQRSTUVWXYZ'"
      ]
     },
     "metadata": {},
     "execution_count": 8
    }
   ],
   "metadata": {}
  },
  {
   "cell_type": "code",
   "execution_count": 12,
   "source": [
    "def cleanString(text):\n",
    "    cleanText = \"\"\n",
    "    for i in text:\n",
    "        if i not in string.punctuation and i not in string.ascii_uppercase:\n",
    "            cleanText += str(i)\n",
    "    return cleanText\n",
    "\n",
    "cleanText = \"We're #hiring! Read about our latest #job open...\"\n",
    "print(cleanString(cleanText))"
   ],
   "outputs": [
    {
     "output_type": "stream",
     "name": "stdout",
     "text": [
      "ere hiring ead about our latest job open\n"
     ]
    }
   ],
   "metadata": {}
  }
 ]
}