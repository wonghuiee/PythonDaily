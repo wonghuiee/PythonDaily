{
 "metadata": {
  "language_info": {
   "codemirror_mode": {
    "name": "ipython",
    "version": 3
   },
   "file_extension": ".py",
   "mimetype": "text/x-python",
   "name": "python",
   "nbconvert_exporter": "python",
   "pygments_lexer": "ipython3",
   "version": "3.8.5"
  },
  "orig_nbformat": 4,
  "kernelspec": {
   "name": "python3",
   "display_name": "Python 3.8.5 64-bit ('base': conda)"
  },
  "interpreter": {
   "hash": "dca0ade3e726a953b501b15e8e990130d2b7799f14cfd9f4271676035ebe5511"
  }
 },
 "nbformat": 4,
 "nbformat_minor": 2,
 "cells": [
  {
   "cell_type": "markdown",
   "source": [
    "## pythondaily_26\n",
    "\n",
    "Create a function that takes a list and returns a new list containing only prime numbers.\n",
    "\n",
    "Examples ﬁlter_primes([7, 9, 3, 9, 10, 11, 27]) ➞ [7, 3, 11] <br>\n",
    "ﬁlter_primes([10007, 1009, 1007, 27, 147, 77, 1001, 70]) ➞ [10007, 1009] <br>\n",
    "ﬁlter_primes([1009, 10, 10, 10, 3, 33, 9, 4, 1, 61, 63, 69, 1087, 1091, 1093, 1097]) ➞ [1009, 3, 61, 1087, 1091, 1093, 1097]"
   ],
   "metadata": {}
  },
  {
   "cell_type": "code",
   "execution_count": 62,
   "source": [
    "\n",
    "import math\n",
    "\n",
    "def isPrime(inputLst):\n",
    "\n",
    "    primeLst = []\n",
    "\n",
    "    for i in inputLst:\n",
    "        for j in range(2, int(math.sqrt(i)) +1):\n",
    "            if i%j == 0:\n",
    "                break\n",
    "        else:\n",
    "            primeLst.append(i)\n",
    "        \n",
    "    return primeLst\n",
    "\n",
    "print(isPrime([7, 9, 3, 9, 10, 11, 27]))\n",
    "print(isPrime([10007, 1009, 1007, 27, 147, 77, 1001, 70]))\n",
    "print(isPrime([1009, 10, 10, 10, 3, 33, 9, 4, 1, 61, 63, 69, 1087, 1091, 1093, 1097]))\n"
   ],
   "outputs": [
    {
     "output_type": "stream",
     "name": "stdout",
     "text": [
      "[7, 3, 11]\n",
      "[10007, 1009]\n",
      "[1009, 3, 1, 61, 1087, 1091, 1093, 1097]\n"
     ]
    }
   ],
   "metadata": {}
  }
 ]
}