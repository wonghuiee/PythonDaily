{
 "metadata": {
  "language_info": {
   "codemirror_mode": {
    "name": "ipython",
    "version": 3
   },
   "file_extension": ".py",
   "mimetype": "text/x-python",
   "name": "python",
   "nbconvert_exporter": "python",
   "pygments_lexer": "ipython3",
   "version": "3.8.5"
  },
  "orig_nbformat": 4,
  "kernelspec": {
   "name": "python3",
   "display_name": "Python 3.8.5 64-bit ('base': conda)"
  },
  "interpreter": {
   "hash": "dca0ade3e726a953b501b15e8e990130d2b7799f14cfd9f4271676035ebe5511"
  }
 },
 "nbformat": 4,
 "nbformat_minor": 2,
 "cells": [
  {
   "cell_type": "markdown",
   "source": [
    "## PythonDaily41\n",
    "\n",
    "Given an integer, create a function that returns the next prime. \n",
    "If the number is prime, return the number itself. \n",
    "\n",
    "Examples <br>\n",
    "next_prime(12) ➞ 13  <br>\n",
    "next_prime(24) ➞ 29  <br>\n",
    "next_prime(11) ➞ 11  <br>\n",
    "11 is a prime, so we return the number itself."
   ],
   "metadata": {}
  },
  {
   "cell_type": "code",
   "execution_count": 51,
   "source": [
    "import math\n",
    " \n",
    "def isPrime(num):\n",
    "     \n",
    "    if(num <= 1):\n",
    "        return False\n",
    "    if(num <= 3):\n",
    "        return True\n",
    "    if(num % 2 == 0 or num % 3 == 0):\n",
    "        return False\n",
    "     \n",
    "    for i in range(5,int(math.sqrt(num) + 1), 6):\n",
    "        if(num % i == 0 or num % (i + 2) == 0):\n",
    "            return False\n",
    "            break\n",
    "     \n",
    "    return True\n",
    " \n",
    "def nextPrime(number):\n",
    "    \n",
    "    if (number <= 1):\n",
    "        return 2\n",
    " \n",
    "    prime = number\n",
    "    found = False\n",
    " \n",
    "    while(not found):\n",
    "        prime += 1\n",
    "        if(isPrime(prime) == True):\n",
    "            found = True\n",
    " \n",
    "    return prime\n",
    " \n",
    "\n",
    "print(nextPrime(12))\n",
    "print(nextPrime(24))\n",
    "print(nextPrime(11)) # ??"
   ],
   "outputs": [
    {
     "output_type": "stream",
     "name": "stdout",
     "text": [
      "13\n",
      "29\n",
      "13\n"
     ]
    }
   ],
   "metadata": {}
  },
  {
   "cell_type": "markdown",
   "source": [],
   "metadata": {}
  }
 ]
}