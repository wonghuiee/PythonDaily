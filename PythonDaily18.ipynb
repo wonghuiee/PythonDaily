{
 "metadata": {
  "language_info": {
   "codemirror_mode": {
    "name": "ipython",
    "version": 3
   },
   "file_extension": ".py",
   "mimetype": "text/x-python",
   "name": "python",
   "nbconvert_exporter": "python",
   "pygments_lexer": "ipython3",
   "version": "3.8.5"
  },
  "orig_nbformat": 4,
  "kernelspec": {
   "name": "python3",
   "display_name": "Python 3.8.5 64-bit ('base': conda)"
  },
  "interpreter": {
   "hash": "dca0ade3e726a953b501b15e8e990130d2b7799f14cfd9f4271676035ebe5511"
  }
 },
 "nbformat": 4,
 "nbformat_minor": 2,
 "cells": [
  {
   "cell_type": "markdown",
   "source": [
    "## PythonDaily18\n",
    "\n",
    "Given an integer greater than 0, return a list of all possible palindromes of the integer.\n",
    "\n",
    "Example:\n",
    "\n",
    "Input:<br>\n",
    "34322122 <br>\n",
    "Output: <br>\n",
    "[22, 212, 343, 22122]"
   ],
   "metadata": {}
  },
  {
   "cell_type": "code",
   "execution_count": 25,
   "source": [
    "def checkisPalindrome(inputLst):\n",
    "    lst1 = inputLst.copy()\n",
    "    lst1.reverse()\n",
    "\n",
    "    if inputLst == lst1:\n",
    "        return True\n",
    "    else:\n",
    "        return False\n",
    "\n",
    "def isString(inputLst):\n",
    "    outputStr = \"\"\n",
    "    for i in inputLst:\n",
    "        outputStr += str(i)\n",
    "    return outputStr\n",
    "\n",
    "def isPalindrome(inputNum):\n",
    "\n",
    "    inputNum = str(inputNum) # '34322122'\n",
    "    inputNum = list(inputNum) # ['3', '4', '3', '2', '2', '1', '2', '2']\n",
    "\n",
    "    numLst = []\n",
    "    for num in inputNum:\n",
    "        numLst.append(int(num))\n",
    "    # numLst \n",
    "    # [3, 4, 3, 2, 2, 1, 2, 2]\n",
    "\n",
    "    outputLst = []\n",
    "    for i in range(len(numLst)):\n",
    "        for j in range(i, len(numLst) + 1):\n",
    "            if checkisPalindrome(numLst[i:j]) and len(numLst[i:j])>=2:\n",
    "                outputLst.append(isString(numLst[i:j]))\n",
    "            else:\n",
    "                continue\n",
    "\n",
    "    return outputLst\n",
    "\n",
    "isPalindrome(34322122)\n"
   ],
   "outputs": [
    {
     "output_type": "execute_result",
     "data": {
      "text/plain": [
       "['343', '22', '22122', '212', '22']"
      ]
     },
     "metadata": {},
     "execution_count": 25
    }
   ],
   "metadata": {}
  }
 ]
}