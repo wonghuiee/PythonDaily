{
 "metadata": {
  "language_info": {
   "codemirror_mode": {
    "name": "ipython",
    "version": 3
   },
   "file_extension": ".py",
   "mimetype": "text/x-python",
   "name": "python",
   "nbconvert_exporter": "python",
   "pygments_lexer": "ipython3",
   "version": "3.8.5"
  },
  "orig_nbformat": 4,
  "kernelspec": {
   "name": "python3",
   "display_name": "Python 3.8.5 64-bit ('base': conda)"
  },
  "interpreter": {
   "hash": "dca0ade3e726a953b501b15e8e990130d2b7799f14cfd9f4271676035ebe5511"
  }
 },
 "nbformat": 4,
 "nbformat_minor": 2,
 "cells": [
  {
   "cell_type": "markdown",
   "source": [
    "## PythonDaily09\n",
    "\n",
    "Example:\n",
    "\n",
    "Input: 1plus2plus3minus4 Output: 2\n",
    "\n",
    "Input: 2minus6plus4plus7 Output: 7\n"
   ],
   "metadata": {}
  },
  {
   "cell_type": "code",
   "execution_count": 61,
   "source": [
    "# solution 1 \n",
    "\n",
    "def plusMinus(inputStr):\n",
    "\n",
    "    modStr = inputStr.replace(\"plus\", \"+\").replace(\"minus\", \"-\")\n",
    "\n",
    "    sum = 0\n",
    "    count = -1\n",
    "\n",
    "    for i in range(len(modStr)):\n",
    "        if count == i:\n",
    "            continue\n",
    "        if modStr[i] in [\"+\", \"-\"]:\n",
    "            nextValue = int(modStr[i+1])\n",
    "            if modStr[i] == \"+\":\n",
    "                sum += nextValue\n",
    "                count = i+1\n",
    "            if modStr[i] == \"-\":\n",
    "                sum -= nextValue\n",
    "                count = i+1\n",
    "        else:\n",
    "            sum = int(modStr[i])\n",
    "    return sum\n",
    "\n",
    "\n",
    "print(plusMinus(\"1plus2plus3minus4\"))\n",
    "print(plusMinus(\"2minus6plus4plus7\"))"
   ],
   "outputs": [
    {
     "output_type": "stream",
     "name": "stdout",
     "text": [
      "2\n",
      "7\n"
     ]
    }
   ],
   "metadata": {}
  },
  {
   "cell_type": "code",
   "execution_count": 45,
   "source": [
    "# solution 2\n",
    "\n",
    "def plusMinus(strInput):\n",
    "    sum = strInput.replace(\"plus\", \"+\").replace(\"minus\", \"-\")\n",
    "    return eval(sum)\n",
    "\n",
    "print(plusMinus(\"1plus2plus3minus4\"))\n",
    "print(plusMinus(\"2minus6plus4plus7\"))"
   ],
   "outputs": [
    {
     "output_type": "stream",
     "name": "stdout",
     "text": [
      "2\n",
      "7\n"
     ]
    }
   ],
   "metadata": {}
  },
  {
   "cell_type": "code",
   "execution_count": 33,
   "source": [
    "# David's solution\n",
    "\n",
    "def sum(strInput, shift):\n",
    "    #shift is 1 when add positive otherwise 0\n",
    "    if shift == 1:\n",
    "        num = int(strInput[0])\n",
    "    else:\n",
    "        num = -int(strInput[0])\n",
    "\n",
    "    strInputNext = strInput[1:]\n",
    "    if len(strInputNext) ==0:\n",
    "        return num\n",
    "    \n",
    "    if strInputNext[0:4] == \"plus\":\n",
    "        num += sum(strInputNext[4:], 1)\n",
    "    elif strInputNext[0:5] == \"minus\":\n",
    "        num += sum(strInputNext[5:], 0)\n",
    "        \n",
    "    return num\n",
    "        \n",
    "print(sum(\"1plus2plus3minus4\",1))\n",
    "print(sum(\"2minus6plus4plus7\",1))\n",
    "\n"
   ],
   "outputs": [
    {
     "output_type": "stream",
     "name": "stdout",
     "text": [
      "2\n",
      "7\n"
     ]
    }
   ],
   "metadata": {}
  }
 ]
}