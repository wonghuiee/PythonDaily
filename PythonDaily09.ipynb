{
 "metadata": {
  "language_info": {
   "codemirror_mode": {
    "name": "ipython",
    "version": 3
   },
   "file_extension": ".py",
   "mimetype": "text/x-python",
   "name": "python",
   "nbconvert_exporter": "python",
   "pygments_lexer": "ipython3",
   "version": "3.8.5"
  },
  "orig_nbformat": 4,
  "kernelspec": {
   "name": "python3",
   "display_name": "Python 3.8.5 64-bit ('base': conda)"
  },
  "interpreter": {
   "hash": "dca0ade3e726a953b501b15e8e990130d2b7799f14cfd9f4271676035ebe5511"
  }
 },
 "nbformat": 4,
 "nbformat_minor": 2,
 "cells": [
  {
   "source": [
    "## pythondaily_09\n",
    "\n",
    "Example:\n",
    "\n",
    "Input: 1plus2plus3minus4 Output: 2\n",
    "\n",
    "Input: 2minus6plus4plus7 Output: 7\n"
   ],
   "cell_type": "markdown",
   "metadata": {}
  },
  {
   "cell_type": "code",
   "execution_count": 28,
   "metadata": {},
   "outputs": [
    {
     "output_type": "stream",
     "name": "stdout",
     "text": [
      "2\n7\n"
     ]
    }
   ],
   "source": [
    "def sum(input_str):\n",
    "    sum = input_str.replace(\"plus\", \"+\").replace(\"minus\", \"-\")\n",
    "    return eval(sum)\n",
    "\n",
    "print(sum(\"1plus2plus3minus4\"))\n",
    "print(sum(\"2minus6plus4plus7\"))"
   ]
  },
  {
   "cell_type": "code",
   "execution_count": 1,
   "metadata": {},
   "outputs": [
    {
     "output_type": "stream",
     "name": "stdout",
     "text": [
      "['1', 'plus', '2', 'plus', '3', 'minus', '4']\n"
     ]
    }
   ],
   "source": [
    "# test if input is a list\n",
    "\n",
    "def seperate_string_number(string):\n",
    "    \n",
    "    previous_character = string[0]\n",
    "    groups = []\n",
    "    newword = string[0]\n",
    "\n",
    "    for x, i in enumerate(string[1:]):\n",
    "        if i.isalpha() and previous_character.isalpha():\n",
    "            newword += i\n",
    "        elif i.isnumeric() and previous_character.isnumeric():\n",
    "            newword += i\n",
    "        else:\n",
    "            groups.append(newword)\n",
    "            newword = i\n",
    "\n",
    "        previous_character = i\n",
    "\n",
    "        if x == len(string) - 2:\n",
    "            groups.append(newword)\n",
    "            newword = ''\n",
    "            \n",
    "    return groups\n",
    "\n",
    "print(seperate_string_number('1plus2plus3minus4'))\n",
    "# outputs : ['10', 'in', '20', 'ft', '10400', 'bg'] "
   ]
  },
  {
   "cell_type": "code",
   "execution_count": 9,
   "metadata": {},
   "outputs": [
    {
     "output_type": "stream",
     "name": "stdout",
     "text": [
      "2\n7\n"
     ]
    }
   ],
   "source": [
    "# test if input is a list -- David's solution\n",
    "\n",
    "def addSubtract(strInput, shift):\n",
    "    #shift is 1 when add positive otherwise 0\n",
    "    if shift == 1:\n",
    "        num = int(strInput[0])\n",
    "    else:\n",
    "        num = -int(strInput[0])\n",
    "\n",
    "    next_strInput = strInput[1:]\n",
    "    if len(next_strInput) ==0:\n",
    "        return num\n",
    "    \n",
    "    if next_strInput[0:4] == \"plus\":\n",
    "        num += addSubtract(next_strInput[4:], 1)\n",
    "    elif next_strInput[0:5] == \"minus\":\n",
    "        num += addSubtract(next_strInput[5:], 0)\n",
    "        \n",
    "    return num\n",
    "        \n",
    "print(addSubtract(\"1plus2plus3minus4\",1))\n",
    "print(addSubtract(\"2minus6plus4plus7\",1))\n",
    "\n"
   ]
  },
  {
   "cell_type": "code",
   "execution_count": null,
   "metadata": {},
   "outputs": [],
   "source": []
  }
 ]
}