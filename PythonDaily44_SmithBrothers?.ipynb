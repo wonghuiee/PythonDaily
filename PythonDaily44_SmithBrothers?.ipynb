{
 "metadata": {
  "language_info": {
   "codemirror_mode": {
    "name": "ipython",
    "version": 3
   },
   "file_extension": ".py",
   "mimetype": "text/x-python",
   "name": "python",
   "nbconvert_exporter": "python",
   "pygments_lexer": "ipython3",
   "version": "3.8.5"
  },
  "orig_nbformat": 4,
  "kernelspec": {
   "name": "python3",
   "display_name": "Python 3.8.5 64-bit ('base': conda)"
  },
  "interpreter": {
   "hash": "dca0ade3e726a953b501b15e8e990130d2b7799f14cfd9f4271676035ebe5511"
  }
 },
 "nbformat": 4,
 "nbformat_minor": 2,
 "cells": [
  {
   "cell_type": "markdown",
   "source": [
    "## PythonDaily44\n",
    "\n",
    "In numbers theory, a positive composite integer is a Smith number if its digital root is equal to the digital root of the sum of its prime factors, with factors being counted by multiplicity. Trivially, every prime is also a Smith number, having just one prime factor that is equal to itself. If two Smith numbers are consecutive in the integer series, then they are Smith brothers. Any other number will not be a Smith.\n",
    "\n",
    "Given a positive integer number, implement a function that returns:\n",
    "\n",
    "\"Youngest Smith\" if the given number is the lower element of a couple of Smith brothers. <br>\n",
    "\"Oldest Smith\" if the given number is the higher element of a couple of Smith brothers. <br>\n",
    "\"Single Smith\" if the given number is a Smith number without another Smith number adjacent, lower or higher. <br> \n",
    "\"Trivial Smith\" if the given number is a prime. <br> \n",
    "\"Not a Smith\" if the given number is not a Smith number. \n",
    "\n",
    "Examples\n",
    "\n",
    "smith_type(22) ➞ \"Single Smith\"<br> \n",
    "Digital root of 22 = 2 + 2 = 4<br> \n",
    "Sum of prime factors of 22 = 2 + 11 = 13<br> \n",
    "Digital root of 13 = 1 + 3 = 4<br> \n",
    "Is a Smith number without a brother\n",
    "\n",
    "smith_type(7) ➞ \"Trivial Smith\"<br> \n",
    "The given number is a prime\n",
    "\n",
    "smith_type(728) ➞ \"Youngest Smith\"<br> \n",
    "Digital root of 728 = 7 + 2 + 8 = 17 = 1 + 7 = 8<br> \n",
    "Sum of prime factors of 728 = 2 + 2 + 2 + 7 + 13 = 26<br> \n",
    "Digital root of 26 = 2 + 6 = 8<br> \n",
    "The number 729 is a Smith number, so 728 is the youngest brother\n",
    "\n",
    "smith_type(6) ➞ \"Not a Smith\"<br> \n",
    "Digital root of 6 = 6 <br> \n",
    "Sum of prime factors of 6 = 2 + 3 = 5<br> \n",
    "Digital root of 5 = 5"
   ],
   "metadata": {}
  },
  {
   "cell_type": "code",
   "execution_count": 2,
   "source": [
    "def sumDigits(num):\n",
    "    return num if num<10 else num%10 + sumDigits(num//10)\n",
    "\n",
    "def primeFactors(num):\n",
    "    p,inc = 2,1\n",
    "    while p*p<num:\n",
    "        while num%p == 0:\n",
    "            yield p\n",
    "            num //= p\n",
    "        p,inc = p+inc,2\n",
    "    if num > 1: yield num\n",
    "\n",
    "def isSmith(num):\n",
    "    pf = list(primeFactors(num))\n",
    "    if len(pf) == 1: return -1 # trivial Smith (prime)\n",
    "    return int(sumDigits(num) == sum(map(sumDigits,pf))) # 1 or 0\n",
    "\n",
    "def smithType(num):\n",
    "    smith = isSmith(num)\n",
    "    if smith:\n",
    "        if smith < 0:\n",
    "            return f\"{num} is Trivial Smith\"\n",
    "        if isSmith(num+1)>0 or isSmith(num-1)>0:\n",
    "            return f\"{num} is a Smith Brother\"\n",
    "        return f\"{num} is a Smith number\"\n",
    "    return f\"{num} is not a Smith number\"\n",
    "\n",
    "print( smithType(22) )\n",
    "print( smithType(7) )\n",
    "print( smithType(728) ) ## ?? \n",
    "print( smithType(6) ) ## ??\n",
    "    "
   ],
   "outputs": [
    {
     "output_type": "stream",
     "name": "stdout",
     "text": [
      "22 is a Smith number\n",
      "7 is Trivial Smith\n",
      "728 is a Smith Brother\n",
      "6 is not a Smith number\n"
     ]
    }
   ],
   "metadata": {}
  },
  {
   "cell_type": "code",
   "execution_count": 4,
   "source": [
    "# digital root\n",
    "def digRoot(num):\n",
    "    return (num - 1) % 9 + 1 if num > 0 else 0\n",
    "\n",
    "# prime factors list\n",
    "def primeFactors(num):\n",
    "    primeLst = []\n",
    "    for i in range(2, num+1):\n",
    "        for j in range(2, int(i**0.5)+1):\n",
    "            if i % j == 0:\n",
    "                break\n",
    "        else:\n",
    "            primeLst.append(i)\n",
    "\n",
    "    primeSum = 0\n",
    "    for i in primeLst:\n",
    "        if num%i == 0:\n",
    "            primeSum += i\n",
    "    return primeSum\n",
    "\n",
    "\n",
    "# prime factors digital root\n",
    "def digRootPrime(primeSum):\n",
    "    return (primeSum - 1) % 9 + 1 if primeSum > 0 else 0\n",
    "\n",
    "\n",
    "# check Smith Brothers\n",
    "def smithType(num):\n",
    "\n",
    "    # Trivial Smith\n",
    "    if num > 1 and num < 9:\n",
    "        for i in range(2, num):\n",
    "            if num%i == 0:\n",
    "                break\n",
    "        else:\n",
    "            print(f\"{num} is Trivial Smith\")\n",
    "\n",
    "    # Smith Brothers\n",
    "    elif digRoot(num) == digRootPrime(primeSum):\n",
    "        print(f\"{num} is Smith Brothers\")\n",
    "\n",
    "# print( smithType(22) )\n",
    "# print( smithType(7) )\n",
    "# print( smithType(728) ) ## ?? \n",
    "# print( smithType(6) ) ## ??\n",
    "\n"
   ],
   "outputs": [],
   "metadata": {}
  },
  {
   "cell_type": "markdown",
   "source": [],
   "metadata": {}
  }
 ]
}