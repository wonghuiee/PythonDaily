{
 "metadata": {
  "language_info": {
   "codemirror_mode": {
    "name": "ipython",
    "version": 3
   },
   "file_extension": ".py",
   "mimetype": "text/x-python",
   "name": "python",
   "nbconvert_exporter": "python",
   "pygments_lexer": "ipython3",
   "version": "3.8.5"
  },
  "orig_nbformat": 4,
  "kernelspec": {
   "name": "python3",
   "display_name": "Python 3.8.5 64-bit ('base': conda)"
  },
  "interpreter": {
   "hash": "dca0ade3e726a953b501b15e8e990130d2b7799f14cfd9f4271676035ebe5511"
  }
 },
 "nbformat": 4,
 "nbformat_minor": 2,
 "cells": [
  {
   "cell_type": "markdown",
   "source": [
    "## PythonDaily34\n",
    "\n",
    "In this challenge, you have to establish if a positive integer is a Modest number, accordingly to the following algorithm:\n",
    "\n",
    "Divide the number into two left and right partitions. For each combination of left and right parts, you have to check if a condition is true: the remainder of the number divided by the right part is equal to the left part. If at least a combination of two parts satisﬁes the above condition, the number is Modest, otherwise, it's not. Given an integer num, implement a function that returns True if num is a Modest number, or False if it's not.\n",
    "\n",
    "Example #1 <br>\n",
    "is_modest(2036) ➞ True <br>\n",
    "Combination 1: Left = 2 | Right = 036 = 36 (Leading zeros are not considered) <br>Number (2036) % Right (36) = 20 != Left (2) <br> Combination 2: Left = 20 | Right = 36<br>\n",
    "Number (2036) % Right (36) = 20 = Left (20) <br>\n",
    "At least a combination satisﬁes the condition <br>\n",
    "It's a Modest number \n",
    "\n",
    "Example #2<br>\n",
    "is_modest(3412) ➞ False  <br>\n",
    "Combination 1: Left = 3 | Right = 412\n",
    "3412 % 412 = 116 != Left  <br>\n",
    "Combination 2: Left = 34 | Right = 12 <br>\n",
    "3412 % 12 = 4 != Left <br> \n",
    "Combination 3: Left = 341 | Right = 2 <br>\n",
    "3412 % 2 = 0 != Left  <br>\n",
    "It's not a Modest number  <br>\n",
    "Notice how left and right parts are made: <br>\n",
    "They are not permutations or combinations... <br>\n",
    "..but partitions of consecutive digits. <br>\n",
    "\n",
    "Example #3 <br>\n",
    "is_modest(21333) ➞ True  <br>\n",
    "Combination 1: Left = 2 | Right = 1333 21333 % 1333 = 5 != Left  <br>\n",
    "Combination 2: Left = 21 | Right = 333 21333 % 333 = 21 = Left  <br>\n",
    "At least a combination satisﬁes the condition  <br>\n",
    "It's a Modest number \n",
    "\n",
    "Example #4 is_modest(8) ➞ False  <br>\n",
    "An integer with less than two digits can't be partitioned. <br>"
   ],
   "metadata": {}
  },
  {
   "cell_type": "code",
   "execution_count": 52,
   "source": [
    "def isModest(num):\n",
    "    numStr = str(num)\n",
    "    numLen = len(numStr)\n",
    "\n",
    "    while numLen > 1:\n",
    "        for i in range(1, numLen):\n",
    "            rem = num % (int(numStr[i:])) # 5, 21, 15, 0\n",
    "            if rem == int(numStr[:i]):\n",
    "                return True\n",
    "        else:\n",
    "            return False\n",
    "        \n",
    "print(isModest(2036))\n",
    "print(isModest(3412))\n",
    "print(isModest(21333))\n",
    "print(isModest(8))"
   ],
   "outputs": [
    {
     "output_type": "stream",
     "name": "stdout",
     "text": [
      "True\n",
      "False\n",
      "True\n",
      "None\n"
     ]
    }
   ],
   "metadata": {}
  },
  {
   "cell_type": "code",
   "execution_count": 43,
   "source": [
    "# Python3 program to check if a can be splitted\n",
    "# into two strings such that one is divisible by 'a'\n",
    "# and other is divisible by 'b'.\n",
    " \n",
    "# Finds if it is possible to partition str\n",
    "# into two parts such that first part is\n",
    "# divisible by a and second part is divisible\n",
    "# by b.\n",
    "def findDivision(str, a, b):\n",
    "    lenn = len(str)\n",
    "     \n",
    "    # Create an array of size lenn+1 and\n",
    "    # initialize it with 0.\n",
    "    # Store remainders from left to right\n",
    "    # when divided by 'a'\n",
    "    lr = [0] * (lenn + 1)\n",
    "    lr[0] = (int(str[0]))%a\n",
    "    for i in range(1, lenn):\n",
    "        lr[i] = ((lr[i - 1] * 10) % a + \\\n",
    "                     int(str[i])) % a\n",
    "                      \n",
    "    # Compute remainders from right to left\n",
    "    # when divided by 'b'\n",
    "    rl = [0] * (lenn + 1)\n",
    "    rl[lenn - 1] = int(str[lenn - 1]) % b\n",
    "    power10 = 10\n",
    "    for i in range(lenn - 2, -1, -1):\n",
    "        rl[i] = (rl[i + 1] + int(str[i]) * power10) % b\n",
    "        power10 = (power10 * 10) % b\n",
    "         \n",
    "    # Find a pothat can partition a number\n",
    "    for i in range(0, lenn - 1):\n",
    "         \n",
    "        # If split is not possible at this point\n",
    "        if (lr[i] != 0):\n",
    "            continue\n",
    "             \n",
    "        # We can split at i if one of the following\n",
    "        # two is true.\n",
    "        # a) All characters after str[i] are 0\n",
    "        # b) after str[i] is divisible by b, i.e.,\n",
    "        # str[i+1..n-1] is divisible by b.\n",
    "        if (rl[i + 1] == 0):\n",
    "            print(\"YES\")\n",
    "            for k in range(0, i + 1):\n",
    "                print(str[k], end = \"\")\n",
    "             \n",
    "            print(\",\", end = \" \")\n",
    "             \n",
    "            for i in range(i + 1, lenn):\n",
    "                print(str[k], end = \"\")\n",
    "                return\n",
    "     \n",
    "            print(\"NO\")\n",
    "\n",
    "\n",
    "findDivision(\"21333\", 21, 333)\n"
   ],
   "outputs": [
    {
     "output_type": "stream",
     "name": "stdout",
     "text": [
      "YES\n",
      "21, 1"
     ]
    }
   ],
   "metadata": {}
  }
 ]
}