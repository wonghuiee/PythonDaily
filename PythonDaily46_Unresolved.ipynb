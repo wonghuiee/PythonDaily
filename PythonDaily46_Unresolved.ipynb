{
 "metadata": {
  "language_info": {
   "codemirror_mode": {
    "name": "ipython",
    "version": 3
   },
   "file_extension": ".py",
   "mimetype": "text/x-python",
   "name": "python",
   "nbconvert_exporter": "python",
   "pygments_lexer": "ipython3",
   "version": "3.8.5"
  },
  "orig_nbformat": 4,
  "kernelspec": {
   "name": "python3",
   "display_name": "Python 3.8.5 64-bit ('base': conda)"
  },
  "interpreter": {
   "hash": "dca0ade3e726a953b501b15e8e990130d2b7799f14cfd9f4271676035ebe5511"
  }
 },
 "nbformat": 4,
 "nbformat_minor": 2,
 "cells": [
  {
   "cell_type": "markdown",
   "source": [
    "## PythonDaily46\n",
    "\n",
    "Given an array of strings and an original string, write a function to output an array of boolean values - True if the word can be formed from the original word by swapping two letters only once and False otherwise.\n",
    "\n",
    "Examples<br>\n",
    "validate_swaps([\"BACDE\", \"EBCDA\", \"BCDEA\", \"ACBED\"], \"ABCDE\") ➞ [True, True, False, False]<br>\n",
    "Swap \"A\" and \"B\" from \"ABCDE\" to get \"BACDE\".<br>\n",
    "Swap \"A\" and \"E\" from \"ABCDE\" to get \"EBCDA\".<br>\n",
    "Both \"BCDEA\" and \"ACBED\" cannot be formed from \"ABCDE\" using only a single swap.\n",
    "\n",
    "validate_swaps([\"32145\", \"12354\", \"15342\", \"12543\"], \"12345\") ➞ [True, True, True, True]<br>\n",
    "validate_swaps([\"9786\", \"9788\", \"97865\", \"7689\"], \"9768\") ➞ [True, False, False, False]"
   ],
   "metadata": {}
  },
  {
   "cell_type": "code",
   "execution_count": 40,
   "source": [
    "def bubbleSort(arrStr):\n",
    "\n",
    "    arr = [x for x in arrStr]\n",
    "    n = len(arr)\n",
    "\n",
    "    for i in range( n - 1 ) \n",
    "        flag = 0\n",
    "        for j in range(n - 1) :\n",
    "            if arr[j] > arr[j + 1] : \n",
    "                temp = arr[j]\n",
    "                arr[j] = arr[j + 1]\n",
    "                arr[j + 1] = temp\n",
    "                flag = 1\n",
    "        if flag == 0:\n",
    "            break\n",
    "\n",
    "    return arr\n",
    "\n",
    "bubbleSort(\"32145\")\n",
    "\n"
   ],
   "outputs": [
    {
     "output_type": "execute_result",
     "data": {
      "text/plain": [
       "['1', '2', '3', '4', '5']"
      ]
     },
     "metadata": {},
     "execution_count": 40
    }
   ],
   "metadata": {}
  },
  {
   "cell_type": "code",
   "execution_count": 48,
   "source": [
    "# bubble sort count\n",
    "\n",
    "def bubble_count(a_list):\n",
    "    \"\"\"\n",
    "    Function that bubble sorts the number of comparisons and exchanges\n",
    "    and returns a tuple of the two values\n",
    "    \"\"\"\n",
    "    exchanges = 0\n",
    "\n",
    "    # loop from 0 to length - 1\n",
    "    for i in range(len(a_list)):\n",
    "        for j in range(len(a_list)-1):\n",
    "            # compare elements\n",
    "            if a_list[j] > a_list[j+1]:\n",
    "                # swap elements\n",
    "                a_list[j], a_list[j+1] = a_list[j+1], a_list[j]\n",
    "                exchanges += 1\n",
    "                \n",
    "    return exchanges\n",
    "\n",
    "bubble_count([\"3\", \"2\", \"1\", \"4\", \"5\"])"
   ],
   "outputs": [
    {
     "output_type": "execute_result",
     "data": {
      "text/plain": [
       "3"
      ]
     },
     "metadata": {},
     "execution_count": 48
    }
   ],
   "metadata": {}
  },
  {
   "cell_type": "markdown",
   "source": [],
   "metadata": {}
  }
 ]
}