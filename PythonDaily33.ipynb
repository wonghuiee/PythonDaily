{
 "metadata": {
  "language_info": {
   "codemirror_mode": {
    "name": "ipython",
    "version": 3
   },
   "file_extension": ".py",
   "mimetype": "text/x-python",
   "name": "python",
   "nbconvert_exporter": "python",
   "pygments_lexer": "ipython3",
   "version": "3.8.5"
  },
  "orig_nbformat": 4,
  "kernelspec": {
   "name": "python3",
   "display_name": "Python 3.8.5 64-bit ('base': conda)"
  },
  "interpreter": {
   "hash": "dca0ade3e726a953b501b15e8e990130d2b7799f14cfd9f4271676035ebe5511"
  }
 },
 "nbformat": 4,
 "nbformat_minor": 2,
 "cells": [
  {
   "cell_type": "markdown",
   "source": [
    "## PythonDaily33\n",
    "\n",
    "Make a function that encrypts a given input with these steps: <br>\n",
    "Input: \"apple\" <br> \n",
    "Step 1: Reverse the input: \"elppa\" <br> \n",
    "Step 2: Replace all vowels using the following chart: <br>\n",
    "a => 0 e => 1 o => 2 u => 3 <br> \n",
    "#\"1lpp0\" <br> \n",
    "Step 3: Add \"aca\" to the end of the word: \"1lpp0aca\" <br> \n",
    "Output: \"1lpp0aca\" \n",
    "\n",
    "Examples <br> \n",
    "encrypt(\"banana\") ➞ \"0n0n0baca\" <br> \n",
    "encrypt(\"karaca\") ➞ \"0c0r0kaca\" <br> \n",
    "encrypt(\"burak\") ➞ \"k0r3baca\" <br> \n",
    "encrypt(\"alpaca\") ➞ \"0c0pl0aca\" <br>"
   ],
   "metadata": {}
  },
  {
   "cell_type": "code",
   "execution_count": 75,
   "source": [
    "def encrypt(inputStr):\n",
    "\n",
    "    vowel = [\"a\", \"e\", \"o\", \"u\"]\n",
    "    vowelDict = {vow:str(index) for index, vow in enumerate(vowel)}\n",
    "    # return vowelDict\n",
    "    # {'a': '0', 'e': '1', 'o': '2', 'u': '3'}\n",
    "    \n",
    "    inputStrRev = inputStr[::-1]\n",
    "\n",
    "    for i in vowelDict:\n",
    "        # return i\n",
    "        # a\n",
    "        # return vowelDict[i]\n",
    "        # 0\n",
    "        inputStrRev = inputStrRev.replace(i, vowelDict[i])\n",
    "        \n",
    "    return \"\".join((inputStrRev, \"aca\"))\n",
    "\n",
    "print( encrypt(\"apple\") )\n",
    "print( encrypt(\"banana\") )\n",
    "print( encrypt(\"karaca\") )\n",
    "print( encrypt(\"burak\") )\n",
    "print( encrypt(\"alpaca\") )"
   ],
   "outputs": [
    {
     "output_type": "stream",
     "name": "stdout",
     "text": [
      "1lpp0aca\n",
      "0n0n0baca\n",
      "0c0r0kaca\n",
      "k0r3baca\n",
      "0c0pl0aca\n"
     ]
    }
   ],
   "metadata": {}
  }
 ]
}