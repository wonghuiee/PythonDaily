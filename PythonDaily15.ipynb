{
 "metadata": {
  "language_info": {
   "codemirror_mode": {
    "name": "ipython",
    "version": 3
   },
   "file_extension": ".py",
   "mimetype": "text/x-python",
   "name": "python",
   "nbconvert_exporter": "python",
   "pygments_lexer": "ipython3",
   "version": "3.8.5"
  },
  "orig_nbformat": 4,
  "kernelspec": {
   "name": "python3",
   "display_name": "Python 3.8.5 64-bit ('base': conda)"
  },
  "interpreter": {
   "hash": "dca0ade3e726a953b501b15e8e990130d2b7799f14cfd9f4271676035ebe5511"
  }
 },
 "nbformat": 4,
 "nbformat_minor": 2,
 "cells": [
  {
   "cell_type": "markdown",
   "source": [
    "## PythonDaily15\n",
    "\n",
    "Given two lists of any data type, return a list that combines the two lists by alternating the elements passed. The input lists can be of different lengths.\n",
    "\n",
    "Example 1:\n",
    "\n",
    "Input lists:\n",
    "\n",
    "[1, 2, 3, 4, 5] ['a', 'b', 'c', 'd', 'e'] Returns:\n",
    "\n",
    "[1, 'a', 2, b', 3, 'c', 4, 'd', 5, 'e']\n",
    "\n",
    "Example 2:\n",
    "\n",
    "Input lists:\n",
    "\n",
    "[1, 2, 3] ['a', 'b', 'c', 'd', 'e'] Returns:\n",
    "\n",
    "[1, 'a', 2, 'b', 3, 'c', 'd', 'e']\n",
    "\n",
    "Example 3: Input lists:\n",
    "\n",
    "[1, 2, 3, 4, 5] ['a', 'b'] Returns:\n",
    "\n",
    "[1, 'a', 2, 'b', 3, 4, 5]"
   ],
   "metadata": {}
  },
  {
   "cell_type": "code",
   "execution_count": 21,
   "source": [
    "def alternateLst(lst1, lst2):\n",
    "     \n",
    "    newLst = [] \n",
    "    \n",
    "    for x, y in zip(lst1, lst2):\n",
    "        newLst.append(x)\n",
    "        newLst.append(y)\n",
    "    # return newLst\n",
    "    # [1, 'a', 2, 'b', 3, 'c']\n",
    "\n",
    "    newLst.extend(lst1[len(lst2):])\n",
    "    newLst.extend(lst2[len(lst1):])\n",
    "\n",
    "    return newLst\n",
    "\n",
    "print(alternateLst([1, 2, 3, 4, 5] , ['a', 'b', 'c', 'd', 'e']))\n",
    "print(alternateLst([1, 2, 3] , ['a', 'b', 'c', 'd', 'e']))\n",
    "print(alternateLst([1, 2, 3, 4, 5] , ['a', 'b']))"
   ],
   "outputs": [
    {
     "output_type": "stream",
     "name": "stdout",
     "text": [
      "[1, 'a', 2, 'b', 3, 'c', 4, 'd', 5, 'e']\n",
      "[1, 'a', 2, 'b', 3, 'c', 'd', 'e']\n",
      "[1, 'a', 2, 'b', 3, 4, 5]\n"
     ]
    }
   ],
   "metadata": {}
  }
 ]
}