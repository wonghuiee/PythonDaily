{
 "metadata": {
  "language_info": {
   "codemirror_mode": {
    "name": "ipython",
    "version": 3
   },
   "file_extension": ".py",
   "mimetype": "text/x-python",
   "name": "python",
   "nbconvert_exporter": "python",
   "pygments_lexer": "ipython3",
   "version": "3.8.5"
  },
  "orig_nbformat": 4,
  "kernelspec": {
   "name": "python3",
   "display_name": "Python 3.8.5 64-bit ('base': conda)"
  },
  "interpreter": {
   "hash": "dca0ade3e726a953b501b15e8e990130d2b7799f14cfd9f4271676035ebe5511"
  }
 },
 "nbformat": 4,
 "nbformat_minor": 2,
 "cells": [
  {
   "cell_type": "markdown",
   "source": [
    "## PythonDaily20\n",
    "\n",
    "Given a string, count all the lowercase letters. Return a dictionary with the keys as the lowercase letters and the values as the letters' counts respectively. The keys should be sorted in alphabetical order.\n",
    "\n",
    "Example:\n",
    "\n",
    "Input:\n",
    "\n",
    "\"apple\" Output:\n",
    "\n",
    "{'a': 1, 'e': 1, 'l': 1, 'p': 2}"
   ],
   "metadata": {}
  },
  {
   "cell_type": "code",
   "execution_count": 14,
   "source": [
    "def alphaCount(inputStr):\n",
    "\n",
    "    inputLst = list(inputStr)\n",
    "\n",
    "    d = {}\n",
    "    for alpha in inputLst:\n",
    "        if alpha not in d:\n",
    "            d[alpha] = 1\n",
    "        else:\n",
    "            d[alpha] += 1\n",
    "    return d\n",
    "\n",
    "alphaCount(\"apple\")\n"
   ],
   "outputs": [
    {
     "output_type": "execute_result",
     "data": {
      "text/plain": [
       "{'a': 1, 'p': 2, 'l': 1, 'e': 1}"
      ]
     },
     "metadata": {},
     "execution_count": 14
    }
   ],
   "metadata": {}
  }
 ]
}