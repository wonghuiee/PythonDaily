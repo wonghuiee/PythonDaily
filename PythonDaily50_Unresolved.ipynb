{
 "metadata": {
  "language_info": {
   "codemirror_mode": {
    "name": "ipython",
    "version": 3
   },
   "file_extension": ".py",
   "mimetype": "text/x-python",
   "name": "python",
   "nbconvert_exporter": "python",
   "pygments_lexer": "ipython3",
   "version": "3.8.5"
  },
  "orig_nbformat": 4,
  "kernelspec": {
   "name": "python3",
   "display_name": "Python 3.8.5 64-bit ('base': conda)"
  },
  "interpreter": {
   "hash": "dca0ade3e726a953b501b15e8e990130d2b7799f14cfd9f4271676035ebe5511"
  }
 },
 "nbformat": 4,
 "nbformat_minor": 2,
 "cells": [
  {
   "cell_type": "markdown",
   "source": [
    "## PythonDaily50\n",
    "\n",
    "A number is Economical if the quantity of digits of its prime factorization (including exponents greater than 1) is equal to or lower than the digit quantity of the number itself.\n",
    "\n",
    "Given an integer n, implement a function that returns a string:\n",
    "\n",
    "\"Equidigital\" if the quantity of digits of the prime factorization (including exponents greater than 1) is equal to the quantity of digits of n; \"Frugal\" if the quantity of digits of the prime factorization (including exponents greater than 1) is lower than the quantity of digits of n; \"Wasteful\" if none of the two above conditions is true. Examples is_economical(14) ➞ \"Equidigital\" The prime factorization of 14 (2 digits) is [2, 7] (2 digits)\n",
    "\n",
    "Exponents equal to 1 are not counted\n",
    "\n",
    "is_economical(125) ➞ \"Frugal\" The prime factorization of 125 (3 digits) is [5^3] (2 digits)\n",
    "\n",
    "Notice how exponents greater than 1 are counted\n",
    "\n",
    "is_economical(1024) ➞ \"Frugal\" The prime factorization of 1024 (4 digits) is [2^10] (3 digits)\n",
    "\n",
    "is_economical(30) ➞ \"Wasteful\" The prime factorization of 30 (2 digits) is [2, 3, 5] (3 digits)"
   ],
   "metadata": {}
  },
  {
   "cell_type": "code",
   "execution_count": 1,
   "source": [
    "# not resolved"
   ],
   "outputs": [],
   "metadata": {}
  },
  {
   "cell_type": "markdown",
   "source": [],
   "metadata": {}
  }
 ]
}