{
 "metadata": {
  "language_info": {
   "codemirror_mode": {
    "name": "ipython",
    "version": 3
   },
   "file_extension": ".py",
   "mimetype": "text/x-python",
   "name": "python",
   "nbconvert_exporter": "python",
   "pygments_lexer": "ipython3",
   "version": "3.8.5"
  },
  "orig_nbformat": 4,
  "kernelspec": {
   "name": "python3",
   "display_name": "Python 3.8.5 64-bit ('base': conda)"
  },
  "interpreter": {
   "hash": "dca0ade3e726a953b501b15e8e990130d2b7799f14cfd9f4271676035ebe5511"
  }
 },
 "nbformat": 4,
 "nbformat_minor": 2,
 "cells": [
  {
   "cell_type": "markdown",
   "source": [
    "## PythonDaily14\n",
    "\n",
    "Given a list of integers, split the list into two, put the arrays on top of each other, then add them together. Return the finished list.\n",
    "\n",
    "Example: Input:\n",
    "\n",
    "[1, 2, 3, 4, 5, 6, 7]\n",
    "\n",
    "Putting on top: [1, 2, 3] [4, 5, 6, 7]\n",
    "\n",
    "Adding up process: [1, 2, 3] + [4, 5, 6, 7] ------------[5, 7, 9, 7]\n",
    "\n",
    "Returns: [5, 7, 9, 7]"
   ],
   "metadata": {}
  },
  {
   "cell_type": "code",
   "execution_count": null,
   "source": [
    "# visualize\n",
    "\n",
    "1  2  3\n",
    "4  5  6  7\n",
    "5  7  9  7"
   ],
   "outputs": [],
   "metadata": {}
  },
  {
   "cell_type": "code",
   "execution_count": 18,
   "source": [
    "def sumArr(numLst):\n",
    "\n",
    "    mid = len(numLst)//2\n",
    "    split1 = numLst[:mid]\n",
    "    split2 = numLst[mid:]\n",
    "    # return split1, split2 \n",
    "    # ([1, 2, 3], [4, 5, 6, 7])\n",
    "\n",
    "    sumLst = []\n",
    "    for x, y in zip(split1, split2):\n",
    "        sumLst.append(x + y)\n",
    "    if split2 > split1:\n",
    "        sumLst.append(numLst[-1])\n",
    "    return sumLst\n",
    "        \n",
    "sumArr([1, 2, 3, 4, 5, 6, 7])"
   ],
   "outputs": [
    {
     "output_type": "execute_result",
     "data": {
      "text/plain": [
       "[5, 7, 9, 7]"
      ]
     },
     "metadata": {},
     "execution_count": 18
    }
   ],
   "metadata": {}
  }
 ]
}