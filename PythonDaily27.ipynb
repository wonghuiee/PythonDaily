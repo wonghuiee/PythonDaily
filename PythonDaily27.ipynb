{
 "metadata": {
  "language_info": {
   "codemirror_mode": {
    "name": "ipython",
    "version": 3
   },
   "file_extension": ".py",
   "mimetype": "text/x-python",
   "name": "python",
   "nbconvert_exporter": "python",
   "pygments_lexer": "ipython3",
   "version": "3.8.5"
  },
  "orig_nbformat": 4,
  "kernelspec": {
   "name": "python3",
   "display_name": "Python 3.8.5 64-bit ('base': conda)"
  },
  "interpreter": {
   "hash": "dca0ade3e726a953b501b15e8e990130d2b7799f14cfd9f4271676035ebe5511"
  }
 },
 "nbformat": 4,
 "nbformat_minor": 2,
 "cells": [
  {
   "cell_type": "markdown",
   "source": [
    "## PythonDaily27\n",
    "\n",
    "Mona has created a method to sort a list in ascending order.\n",
    "\n",
    "Starting from the left of the list, she compares numbers by pairs. If the ﬁrst pair is ordered [smaller number, larger number], she moves on. If the ﬁrst pair is ordered [larger number, smaller number], she swaps the two integers before moving on to the next pair. She repeats this process until she reaches the end of the list.\n",
    "\n",
    "Then, she moves back to the beginning of the list and repeats this process until the entire list is sorted.\n",
    "\n",
    "If the unsorted list is: [3, 9, 7, 4], she will perform the following steps (note Swaps here refers to cumulative swaps):\n",
    "\n",
    "She starts with the ﬁrst pair. [3, 9] is in order, move on. List: [3, 9, 7, 4]. Swaps: 0. [9, 7] is not. Swap. List: [3, 7, 9, 4]. Swaps: 1 [9, 4] is not. Swap. List: [3, 7, 4, 9]. Swaps: 2 Check if list is sorted. It is not, so start over at ﬁrst pair. [3, 7] is in order, move on. List: [3, 7, 4, 9]. Swaps: 2 [7, 4] is not. Swap. List: [3, 4, 7, 9]. Swaps: 3. [7, 9] is in order, move on. List: [3, 4, 7, 9]. Swaps: 3. Check if list is sorted. It is. End. Sorting the list [3, 9, 7, 4] takes her 3 swaps. Write a function that takes in an unsorted list and returns the number of swaps it takes for the list to be sorted according to Mona's algorithm.\n",
    "\n",
    "Examples number_of_swaps([5, 4, 3]) ➞ 3 <br>\n",
    "number_of_swaps([1, 3, 4, 5]) ➞ 0 <br>\n",
    "number_of_swaps([5, 4, 3, 2]) ➞ 6 <br>"
   ],
   "metadata": {}
  },
  {
   "cell_type": "code",
   "execution_count": 38,
   "source": [
    "def bubblesortCount(intLst):\n",
    "\n",
    "    swapcount = 0\n",
    "\n",
    "    for i in range(len(intLst)):\n",
    "        for j in range(i + 1, len(intLst)):\n",
    "            if intLst[i] > intLst[j]:\n",
    "                swapcount += 1\n",
    "                intLst[i], intLst[j] = intLst[j], intLst[i] \n",
    "    return intLst, swapcount\n",
    "\n",
    "print(bubblesortCount([5, 4, 3]))\n",
    "print(bubblesortCount([1, 3, 4, 5]))\n",
    "print(bubblesortCount([5, 4, 3, 2]))\n"
   ],
   "outputs": [
    {
     "output_type": "stream",
     "name": "stdout",
     "text": [
      "([3, 4, 5], 3)\n",
      "([1, 3, 4, 5], 0)\n",
      "([2, 3, 4, 5], 6)\n"
     ]
    }
   ],
   "metadata": {}
  }
 ]
}