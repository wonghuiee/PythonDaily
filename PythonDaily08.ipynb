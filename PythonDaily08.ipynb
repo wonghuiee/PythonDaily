{
 "metadata": {
  "language_info": {
   "codemirror_mode": {
    "name": "ipython",
    "version": 3
   },
   "file_extension": ".py",
   "mimetype": "text/x-python",
   "name": "python",
   "nbconvert_exporter": "python",
   "pygments_lexer": "ipython3",
   "version": "3.8.5"
  },
  "orig_nbformat": 4,
  "kernelspec": {
   "name": "python3",
   "display_name": "Python 3.8.5 64-bit ('base': conda)"
  },
  "interpreter": {
   "hash": "dca0ade3e726a953b501b15e8e990130d2b7799f14cfd9f4271676035ebe5511"
  }
 },
 "nbformat": 4,
 "nbformat_minor": 2,
 "cells": [
  {
   "cell_type": "markdown",
   "source": [
    "## PythonDaily08\n",
    "\n",
    "Given two integer inputs n and d, create a function that squares all numbers from 1 to n, then returns the count of all instances of d from the square results.\n",
    "\n",
    "Example:\n",
    "\n",
    "n: 5 d: 1 square of numbers from 1 to 5: 1, 4, 9, 16, 25 returns: 2 (since there's 2 instances of the digit 1, in 1 and 16)\n"
   ],
   "metadata": {}
  },
  {
   "cell_type": "code",
   "execution_count": null,
   "source": [
    "# Visualize\n",
    "\n",
    "n = 5\n",
    "d = 1\n",
    "\n",
    "1**2 = 1    # <---\n",
    "2**2 = 4\n",
    "3**2 = 9\n",
    "4**2 = 16   # <---\n",
    "5**2 = 25\n",
    "\n",
    "return = 2"
   ],
   "outputs": [],
   "metadata": {}
  },
  {
   "cell_type": "code",
   "execution_count": 68,
   "source": [
    "# solution 1 -- function\n",
    "\n",
    "def squared_res(n, d):\n",
    "\n",
    "    # integer to string\n",
    "    if type(d) != str:\n",
    "        d = str(d)\n",
    "\n",
    "    # squared list, integer [1, 4, 9, 16, 25]\n",
    "    squared_lst_i = [i**2 for i in range(1, n+1)]\n",
    "    # squared list, string ['1', '4', '9', '16', '25']\n",
    "    squared_lst_s = [str(i) for i in squared_lst_i]\n",
    "\n",
    "    # squared result\n",
    "    squared_res = 0\n",
    "    for count in squared_lst_s:\n",
    "        if d in count:\n",
    "            squared_res += 1 \n",
    "    return squared_res\n",
    "\n",
    "squared_res(5,1)"
   ],
   "outputs": [
    {
     "output_type": "execute_result",
     "data": {
      "text/plain": [
       "2"
      ]
     },
     "metadata": {},
     "execution_count": 68
    }
   ],
   "metadata": {}
  },
  {
   "cell_type": "code",
   "execution_count": 64,
   "source": [
    "# solution 2 -- thought process\n",
    "\n",
    "n = 5\n",
    "d = 1\n",
    "\n",
    "# convert integer to string\n",
    "d = str(d)\n",
    "\n",
    "# squared list, integer [1, 4, 9, 16, 25]\n",
    "squared_lst_i = []\n",
    "for i in range(1, n+1):\n",
    "    squared = i**2\n",
    "    squared_lst_i.append(squared)\n",
    "print(squared_lst_i)\n",
    "\n",
    "# squared list, string ['1', '4', '9', '16', '25']\n",
    "squared_lst_s = []\n",
    "for i in squared_lst_i:\n",
    "    squared_lst_s.append(str(i))\n",
    "print(squared_lst_s)\n",
    "\n",
    "# squared result\n",
    "squared_res = 0\n",
    "for count in squared_lst_s:\n",
    "    if d in count:\n",
    "        squared_res += 1\n",
    "print(squared_res)"
   ],
   "outputs": [
    {
     "output_type": "stream",
     "name": "stdout",
     "text": [
      "[1, 4, 9, 16, 25]\n",
      "['1', '4', '9', '16', '25']\n",
      "2\n"
     ]
    }
   ],
   "metadata": {}
  },
  {
   "cell_type": "code",
   "execution_count": null,
   "source": [],
   "outputs": [],
   "metadata": {}
  }
 ]
}