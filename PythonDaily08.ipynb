{
 "metadata": {
  "language_info": {
   "codemirror_mode": {
    "name": "ipython",
    "version": 3
   },
   "file_extension": ".py",
   "mimetype": "text/x-python",
   "name": "python",
   "nbconvert_exporter": "python",
   "pygments_lexer": "ipython3",
   "version": "3.8.5"
  },
  "orig_nbformat": 4,
  "kernelspec": {
   "name": "python3",
   "display_name": "Python 3.8.5 64-bit ('base': conda)"
  },
  "interpreter": {
   "hash": "dca0ade3e726a953b501b15e8e990130d2b7799f14cfd9f4271676035ebe5511"
  }
 },
 "nbformat": 4,
 "nbformat_minor": 2,
 "cells": [
  {
   "cell_type": "markdown",
   "source": [
    "## PythonDaily08\n",
    "\n",
    "Given two integer inputs n and d, create a function that squares all numbers from 1 to n, then returns the count of all instances of d from the square results.\n",
    "\n",
    "Example: <br>\n",
    "n: 5 d: 1 <br>\n",
    "square of numbers from 1 to 5: 1, 4, 9, 16, 25 <br>\n",
    "returns: 2 (since there's 2 instances of the digit 1, in 1 and 16)<br>\n"
   ],
   "metadata": {}
  },
  {
   "cell_type": "code",
   "execution_count": null,
   "source": [
    "# Visualize\n",
    "\n",
    "n = 5\n",
    "d = 1\n",
    "\n",
    "1**2 = 1    # <---\n",
    "2**2 = 4\n",
    "3**2 = 9\n",
    "4**2 = 16   # <---\n",
    "5**2 = 25\n",
    "\n",
    "return = 2"
   ],
   "outputs": [],
   "metadata": {}
  },
  {
   "cell_type": "code",
   "execution_count": 15,
   "source": [
    "# solution 1\n",
    "\n",
    "def sqCount(n, d):\n",
    "\n",
    "    count=0\n",
    "    for num in range(1, n+1):\n",
    "        sq = num**2\n",
    "        if \"1\" in str(sq):\n",
    "            count += 1\n",
    "    return count\n",
    "\n",
    "sqCount(5, 1)"
   ],
   "outputs": [
    {
     "output_type": "execute_result",
     "data": {
      "text/plain": [
       "2"
      ]
     },
     "metadata": {},
     "execution_count": 15
    }
   ],
   "metadata": {}
  },
  {
   "cell_type": "code",
   "execution_count": 19,
   "source": [
    "# solution 2\n",
    "\n",
    "def sqCount(n, d):\n",
    "\n",
    "    # integer to string\n",
    "    if type(d) != str:\n",
    "        d = str(d)\n",
    "\n",
    "    # squared list, integer [1, 4, 9, 16, 25]\n",
    "    sqLstInt = [num**2 for num in range(1, n+1)]\n",
    "    # squared list, string ['1', '4', '9', '16', '25']\n",
    "    sqLstStr = [str(num) for num in sqLstInt]\n",
    "\n",
    "    # squared result\n",
    "    sqRes = 0\n",
    "    for numStr in sqLstStr:\n",
    "        if d in numStr:\n",
    "            sqRes += 1 \n",
    "    return sqRes\n",
    "\n",
    "sqCount(5,1)"
   ],
   "outputs": [
    {
     "output_type": "execute_result",
     "data": {
      "text/plain": [
       "2"
      ]
     },
     "metadata": {},
     "execution_count": 19
    }
   ],
   "metadata": {}
  },
  {
   "cell_type": "code",
   "execution_count": 18,
   "source": [
    "# solution 3 -- thought process\n",
    "\n",
    "n = 5\n",
    "d = 1\n",
    "\n",
    "# convert integer to string\n",
    "d = str(d)\n",
    "\n",
    "# squared list, integer [1, 4, 9, 16, 25]\n",
    "sqLstInt = []\n",
    "for num in range(1, n+1):\n",
    "    sq = num**2\n",
    "    sqLstInt.append(sq)\n",
    "print(sqLstInt)\n",
    "\n",
    "# squared list, string ['1', '4', '9', '16', '25']\n",
    "sqLstStr = []\n",
    "for num in sqLstInt:\n",
    "    sqLstStr.append(str(num))\n",
    "print(sqLstStr)\n",
    "\n",
    "# squared result\n",
    "sqRes = 0\n",
    "for numStr in sqLstStr:\n",
    "    if d in numStr:\n",
    "        sqRes += 1\n",
    "print(sqRes)"
   ],
   "outputs": [
    {
     "output_type": "stream",
     "name": "stdout",
     "text": [
      "[1, 4, 9, 16, 25]\n",
      "['1', '4', '9', '16', '25']\n",
      "2\n"
     ]
    }
   ],
   "metadata": {}
  }
 ]
}