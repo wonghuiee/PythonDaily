{
 "metadata": {
  "language_info": {
   "codemirror_mode": {
    "name": "ipython",
    "version": 3
   },
   "file_extension": ".py",
   "mimetype": "text/x-python",
   "name": "python",
   "nbconvert_exporter": "python",
   "pygments_lexer": "ipython3",
   "version": "3.8.5"
  },
  "orig_nbformat": 4,
  "kernelspec": {
   "name": "python3",
   "display_name": "Python 3.8.5 64-bit ('base': conda)"
  },
  "interpreter": {
   "hash": "dca0ade3e726a953b501b15e8e990130d2b7799f14cfd9f4271676035ebe5511"
  }
 },
 "nbformat": 4,
 "nbformat_minor": 2,
 "cells": [
  {
   "cell_type": "markdown",
   "source": [
    "## PythonDaily04\n",
    "\n",
    "Given the number of people in the room, calculate the probability that any two people in that room have the same birthday, assuming we have 365 days in a year. (no leap years) Return the probability rounded off to two decimal points.\n",
    "\n",
    "def calculate_probability(n):\n",
    "\n",
    "return probability\n",
    "\n",
    "Hint: In order to calculate the probability, you might find it useful to use the probability that NO ONE shares the same birthday in the room:\n",
    "\n",
    "365! / ((365-n)! * 365^n)\n",
    "\n",
    "The ! sign above denotes the mathematical notation factorial. eg. 10! = 10 x 9 x 8 x 7 x 6 x 5 x 4 x 3 x 2 x 1 The math module in Python has a built-in function for factorials which you can easily call. As a challenge you can also attempt the question without using the built-in factorial function.\n",
    "\n",
    "Here's a link on how to calculate birthday probability (http://mathforum.org/dr.math/faq/faq.birthdayprob.html)."
   ],
   "metadata": {}
  },
  {
   "cell_type": "code",
   "execution_count": 25,
   "source": [
    "def calculate_probability(n):\n",
    "    ratio = 1\n",
    "    for i in range(1, n):\n",
    "        probability = i/366\n",
    "        ratio *= 1-probability\n",
    "    probNoMatch = 1-ratio\n",
    "    print(probNoMatch)\n",
    "\n",
    "\n",
    "calculate_probability(23)"
   ],
   "outputs": [
    {
     "output_type": "stream",
     "name": "stdout",
     "text": [
      "0.5063230118194602\n"
     ]
    }
   ],
   "metadata": {}
  },
  {
   "cell_type": "code",
   "execution_count": 26,
   "source": [
    "# n = number of people in the room\n",
    "\n",
    "import math\n",
    "\n",
    "def calculate_probability(n):\n",
    "    # probability of shared birthday\n",
    "    probability = 1 - (math.factorial(365) / math.factorial(365-n)) / (365)**n\n",
    "    return round(probability, 2)\n",
    "\n",
    "calculate_probability(23)"
   ],
   "outputs": [
    {
     "output_type": "execute_result",
     "data": {
      "text/plain": [
       "0.51"
      ]
     },
     "metadata": {},
     "execution_count": 26
    }
   ],
   "metadata": {}
  }
 ]
}