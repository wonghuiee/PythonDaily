{
 "metadata": {
  "language_info": {
   "codemirror_mode": {
    "name": "ipython",
    "version": 3
   },
   "file_extension": ".py",
   "mimetype": "text/x-python",
   "name": "python",
   "nbconvert_exporter": "python",
   "pygments_lexer": "ipython3",
   "version": "3.8.5"
  },
  "orig_nbformat": 4,
  "kernelspec": {
   "name": "python3",
   "display_name": "Python 3.8.5 64-bit ('base': conda)"
  },
  "interpreter": {
   "hash": "dca0ade3e726a953b501b15e8e990130d2b7799f14cfd9f4271676035ebe5511"
  }
 },
 "nbformat": 4,
 "nbformat_minor": 2,
 "cells": [
  {
   "source": [
    "## pythondaily_10\n",
    "\n",
    "Given an integer, create a function that finds and returns the length of the longest binary gap of the binary representation of that integer. A binary gap is the sequence of consecutive zeros in between ones in a binary representation. Reference for binary representation can be found here: https://www.rapidtables.com/convert/number/decimal-to-binary.html\n",
    "\n",
    "Example:\n",
    "\n",
    "Input: 9, which has binary representation 1001\n",
    "Returns: 2 \n",
    "\n",
    "Input: 529, which has binary representation 1000010001\n",
    "Returns: 4\n",
    "\n",
    "Input: 20, which has binary representation 10100\n",
    "Returns: 1\n",
    "\n",
    "Input: 15, which has binary representation 1111 \n",
    "Returns: 0\n"
   ],
   "cell_type": "markdown",
   "metadata": {}
  },
  {
   "cell_type": "code",
   "execution_count": 73,
   "metadata": {},
   "outputs": [
    {
     "output_type": "stream",
     "name": "stdout",
     "text": [
      "2\n4\n1\n0\n"
     ]
    }
   ],
   "source": [
    "def binarygap(n):\n",
    "\n",
    "    # convert integer to binary string\n",
    "    binstring = bin(n).replace(\"0b\", \"\")\n",
    "\n",
    "    countgap = 0\n",
    "    maxgap = 0\n",
    "\n",
    "    for i in binstring:\n",
    "        if i == \"0\":\n",
    "            countgap += 1\n",
    "        elif i == \"1\":\n",
    "            if countgap > maxgap:\n",
    "                maxgap = countgap\n",
    "            countgap = 0\n",
    "\n",
    "    return maxgap\n",
    "\n",
    "print(binarygap(9))\n",
    "print(binarygap(529))\n",
    "print(binarygap(20))\n",
    "print(binarygap(15))"
   ]
  },
  {
   "cell_type": "code",
   "execution_count": null,
   "metadata": {},
   "outputs": [],
   "source": []
  }
 ]
}
