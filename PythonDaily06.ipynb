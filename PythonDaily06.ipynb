{
 "metadata": {
  "language_info": {
   "codemirror_mode": {
    "name": "ipython",
    "version": 3
   },
   "file_extension": ".py",
   "mimetype": "text/x-python",
   "name": "python",
   "nbconvert_exporter": "python",
   "pygments_lexer": "ipython3",
   "version": "3.8.5"
  },
  "orig_nbformat": 4,
  "kernelspec": {
   "name": "python3",
   "display_name": "Python 3.8.5 64-bit ('base': conda)"
  },
  "interpreter": {
   "hash": "dca0ade3e726a953b501b15e8e990130d2b7799f14cfd9f4271676035ebe5511"
  }
 },
 "nbformat": 4,
 "nbformat_minor": 2,
 "cells": [
  {
   "cell_type": "markdown",
   "source": [
    "## PythonDaily06\n",
    "\n",
    "Create a function that given a string, it returns the middle character of the string. If the length of the string is even, return the two middle characters of the string.\n",
    "\n"
   ],
   "metadata": {}
  },
  {
   "cell_type": "code",
   "execution_count": null,
   "source": [
    "#test\n",
    "evenstring = \"abcd\"\n",
    "middle character = \"bc\"\n",
    "\n",
    "oddstring = \"abcde\"\n",
    "middle character = \"c\""
   ],
   "outputs": [],
   "metadata": {}
  },
  {
   "cell_type": "code",
   "execution_count": 27,
   "source": [
    "string = input(\"Enter a String: \")\n",
    "\n",
    "def middle(string):\n",
    "\n",
    "    midindex = int(len(string)/2)\n",
    "\n",
    "    if len(string)%2 == 0:\n",
    "        middle_string = string[midindex-1:midindex+1]\n",
    "        return middle_string\n",
    "    else:\n",
    "        middle_string = string[midindex]\n",
    "        return middle_string\n",
    "\n",
    "middle(string)"
   ],
   "outputs": [
    {
     "output_type": "execute_result",
     "data": {
      "text/plain": [
       "'bb'"
      ]
     },
     "metadata": {},
     "execution_count": 27
    }
   ],
   "metadata": {}
  }
 ]
}