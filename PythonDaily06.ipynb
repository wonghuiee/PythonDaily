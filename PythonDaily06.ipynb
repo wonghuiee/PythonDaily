{
 "metadata": {
  "language_info": {
   "codemirror_mode": {
    "name": "ipython",
    "version": 3
   },
   "file_extension": ".py",
   "mimetype": "text/x-python",
   "name": "python",
   "nbconvert_exporter": "python",
   "pygments_lexer": "ipython3",
   "version": "3.8.5"
  },
  "orig_nbformat": 4,
  "kernelspec": {
   "name": "python3",
   "display_name": "Python 3.8.5 64-bit ('base': conda)"
  },
  "interpreter": {
   "hash": "dca0ade3e726a953b501b15e8e990130d2b7799f14cfd9f4271676035ebe5511"
  }
 },
 "nbformat": 4,
 "nbformat_minor": 2,
 "cells": [
  {
   "cell_type": "markdown",
   "source": [
    "## PythonDaily06\n",
    "\n",
    "Create a function that given a string, it returns the middle character of the string. If the length of the string is even, return the two middle characters of the string.\n",
    "\n"
   ],
   "metadata": {}
  },
  {
   "cell_type": "code",
   "execution_count": null,
   "source": [
    "#test\n",
    "evenstring = \"abcd\"\n",
    "middle character = \"bc\"\n",
    "\n",
    "oddstring = \"abcde\"\n",
    "middle character = \"c\""
   ],
   "outputs": [],
   "metadata": {}
  },
  {
   "cell_type": "code",
   "execution_count": 26,
   "source": [
    "def midChar(stri):\n",
    "\n",
    "    midStri = int(len(stri)/2)\n",
    "    if len(stri)%2 == 0:\n",
    "        return stri[midStri-1 : midStri+1]\n",
    "    else:\n",
    "        return stri[midStri]\n",
    "\n",
    "\n",
    "print(midChar(\"abcd\"))  \n",
    "print(midChar(\"abcde\"))         \n"
   ],
   "outputs": [
    {
     "output_type": "stream",
     "name": "stdout",
     "text": [
      "bc\n",
      "c\n"
     ]
    }
   ],
   "metadata": {}
  }
 ]
}