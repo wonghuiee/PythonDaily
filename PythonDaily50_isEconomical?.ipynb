{
 "metadata": {
  "language_info": {
   "codemirror_mode": {
    "name": "ipython",
    "version": 3
   },
   "file_extension": ".py",
   "mimetype": "text/x-python",
   "name": "python",
   "nbconvert_exporter": "python",
   "pygments_lexer": "ipython3",
   "version": "3.8.5"
  },
  "orig_nbformat": 4,
  "kernelspec": {
   "name": "python3",
   "display_name": "Python 3.8.5 64-bit ('base': conda)"
  },
  "interpreter": {
   "hash": "dca0ade3e726a953b501b15e8e990130d2b7799f14cfd9f4271676035ebe5511"
  }
 },
 "nbformat": 4,
 "nbformat_minor": 2,
 "cells": [
  {
   "cell_type": "markdown",
   "source": [
    "## PythonDaily50\n",
    "\n",
    "A number is Economical if the quantity of digits of its prime factorization (including exponents greater than 1) is equal to or lower than the digit quantity of the number itself.\n",
    "\n",
    "Given an integer n, implement a function that returns a string:\n",
    "\n",
    "\"Equidigital\" if the quantity of digits of the prime factorization (including exponents greater than 1) is equal to the quantity of digits of n;<br>\n",
    "\"Frugal\" if the quantity of digits of the prime factorization (including exponents greater than 1) is lower than the quantity of digits of n;<br>\n",
    "\"Wasteful\" if none of the two above conditions is true. \n",
    "\n",
    "Examples<br>\n",
    "is_economical(14) ➞ \"Equidigital\" <br>\n",
    "The prime factorization of 14 (2 digits) is [2, 7] (2 digits)\n",
    "\n",
    "Exponents equal to 1 are not counted\n",
    "\n",
    "is_economical(125) ➞ \"Frugal\" \n",
    "The prime factorization of 125 (3 digits) is [5^3] (2 digits)<br>\n",
    "Notice how exponents greater than 1 are counted\n",
    "\n",
    "is_economical(1024) ➞ \"Frugal\" <br>\n",
    "The prime factorization of 1024 (4 digits) is [2^10] (3 digits)\n",
    "\n",
    "is_economical(30) ➞ \"Wasteful\" <br>\n",
    "The prime factorization of 30 (2 digits) is [2, 3, 5] (3 digits)"
   ],
   "metadata": {}
  },
  {
   "cell_type": "code",
   "execution_count": 86,
   "source": [
    "# prime factor list\n",
    "def primeFactor(num):\n",
    "\n",
    "    i = 2\n",
    "    factLst = []\n",
    "\n",
    "    while i * i <= num:\n",
    "        if num % i:\n",
    "            i += 1\n",
    "        else:\n",
    "            num //= i\n",
    "            factLst.append(i)\n",
    "    if num > 1:\n",
    "        factLst.append(num)\n",
    "\n",
    "    return factLst\n",
    "\n",
    "num = 14\n",
    "primeFactor(num)\n",
    "\n",
    "for i in primeFactor(num):\n",
    "    print(i)\n",
    "\n",
    "\n",
    "\n",
    "# len prime factor list\n",
    "# len(primeFactor(num))\n",
    "\n",
    "# len num\n",
    "# len(str(num))\n",
    "\n",
    "\n",
    "\n",
    "# def isEconomical(num):\n",
    "#     if primeFactor(num) == len(str(num)):\n",
    "#         return \"Equidigital\"\n",
    "\n",
    "# isEconomical(14)\n"
   ],
   "outputs": [
    {
     "output_type": "stream",
     "name": "stdout",
     "text": [
      "2\n",
      "7\n"
     ]
    }
   ],
   "metadata": {}
  },
  {
   "cell_type": "code",
   "execution_count": 77,
   "source": [
    "a = [2, 7]\n",
    "b = 14\n",
    "\n",
    "len(a), len(str(b))"
   ],
   "outputs": [
    {
     "output_type": "execute_result",
     "data": {
      "text/plain": [
       "(2, 2)"
      ]
     },
     "metadata": {},
     "execution_count": 77
    }
   ],
   "metadata": {}
  },
  {
   "cell_type": "code",
   "execution_count": 68,
   "source": [
    "# list prime factor\n",
    "def primeFactor(num):\n",
    "    i = 2\n",
    "    factLst = []\n",
    "    while i * i <= num:\n",
    "        if num % i:\n",
    "            i += 1\n",
    "        else:\n",
    "            num //= i\n",
    "            factLst.append(i)\n",
    "    if num > 1:\n",
    "        factLst.append(num)\n",
    "    return len(factLst)\n",
    "\n",
    "\n",
    "def isEconomical(num):\n",
    "    # check quantity of digit\n",
    "    quant = len(str(num))\n",
    "    if primeFactor(num) == quant:\n",
    "        return f\" {num} is Equidigital \"\n",
    "\n",
    "print( isEconomical(14) )\n",
    "print( isEconomical(125) )\n",
    "print( isEconomical(1024) )\n",
    "print( isEconomical(30) )\n",
    "\n",
    "\n",
    "\n",
    "\n",
    "\n",
    "# # check perfect cube\n",
    "# print(round(num ** (1 / 2)) ** 2 == num )\n",
    "\n",
    "# # check perfect square\n",
    "# print(round(num ** (1 / 3)) ** 3 == num )\n"
   ],
   "outputs": [
    {
     "output_type": "stream",
     "name": "stdout",
     "text": [
      " 14 is Equidigital \n",
      " 125 is Equidigital \n",
      "None\n",
      "None\n"
     ]
    }
   ],
   "metadata": {}
  },
  {
   "cell_type": "code",
   "execution_count": null,
   "source": [],
   "outputs": [],
   "metadata": {}
  }
 ]
}