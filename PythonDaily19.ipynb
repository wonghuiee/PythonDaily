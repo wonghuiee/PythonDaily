{
 "metadata": {
  "language_info": {
   "codemirror_mode": {
    "name": "ipython",
    "version": 3
   },
   "file_extension": ".py",
   "mimetype": "text/x-python",
   "name": "python",
   "nbconvert_exporter": "python",
   "pygments_lexer": "ipython3",
   "version": "3.8.5"
  },
  "orig_nbformat": 4,
  "kernelspec": {
   "name": "python3",
   "display_name": "Python 3.8.5 64-bit ('base': conda)"
  },
  "interpreter": {
   "hash": "dca0ade3e726a953b501b15e8e990130d2b7799f14cfd9f4271676035ebe5511"
  }
 },
 "nbformat": 4,
 "nbformat_minor": 2,
 "cells": [
  {
   "source": [
    "## pythondaily_19\n",
    "\n",
    "Given a string of names with a certain pattern, return a formatted string with a certain pattern.\n",
    "\n",
    "Example:\n",
    "\n",
    "Input:\n",
    "\n",
    "\"Alfred:Black;Carey:Drake;Elena:Ferguson;Georgina:Harrison\" Output:\n",
    "\n",
    "\"(BLACK, ALFRED)(DRAKE, CAREY)(FERGUSON, ELENA)(HARRISON, GEORGINA)\""
   ],
   "cell_type": "markdown",
   "metadata": {}
  },
  {
   "cell_type": "code",
   "execution_count": 166,
   "metadata": {},
   "outputs": [
    {
     "output_type": "execute_result",
     "data": {
      "text/plain": [
       "'(Black,Alfred)(Drake,Carey)(Ferguson,Elena)(Harrison,Georgina)'"
      ]
     },
     "metadata": {},
     "execution_count": 166
    }
   ],
   "source": [
    "def eleFormat(inputStr):\n",
    "    formatLst = inputStr.split(\":\")\n",
    "    return \"(\" + formatLst[1] + \",\" + formatLst[0] +\")\"\n",
    "\n",
    "def changeFormat(inputStr):\n",
    "    formatLst = inputStr.split(\";\")\n",
    "    outputStr = \"\"\n",
    "    for ele in formatLst:\n",
    "        outputStr += eleFormat(ele)\n",
    "    return outputStr\n",
    "\n",
    "changeFormat(\"Alfred:Black;Carey:Drake;Elena:Ferguson;Georgina:Harrison\")\n"
   ]
  }
 ]
}