{
 "metadata": {
  "language_info": {
   "codemirror_mode": {
    "name": "ipython",
    "version": 3
   },
   "file_extension": ".py",
   "mimetype": "text/x-python",
   "name": "python",
   "nbconvert_exporter": "python",
   "pygments_lexer": "ipython3",
   "version": "3.8.5"
  },
  "orig_nbformat": 4,
  "kernelspec": {
   "name": "python3",
   "display_name": "Python 3.8.5 64-bit ('base': conda)"
  },
  "interpreter": {
   "hash": "dca0ade3e726a953b501b15e8e990130d2b7799f14cfd9f4271676035ebe5511"
  }
 },
 "nbformat": 4,
 "nbformat_minor": 2,
 "cells": [
  {
   "cell_type": "markdown",
   "source": [
    "## PythonDaily19\n",
    "\n",
    "Given a string of names with a certain pattern, return a formatted string with a certain pattern.\n",
    "\n",
    "Example:\n",
    "\n",
    "Input:\n",
    "\n",
    "\"Alfred:Black;Carey:Drake;Elena:Ferguson;Georgina:Harrison\" \n",
    "\n",
    "Output:\n",
    "\n",
    "\"(BLACK, ALFRED)(DRAKE, CAREY)(FERGUSON, ELENA)(HARRISON, GEORGINA)\""
   ],
   "metadata": {}
  },
  {
   "cell_type": "code",
   "execution_count": 84,
   "source": [
    "def formatStr(inputStr):\n",
    "\n",
    "    lst1 = inputStr.split(\";\")\n",
    "    # return lst1\n",
    "    # ['Alfred:Black', 'Carey:Drake', 'Elena:Ferguson', 'Georgina:Harrison']\n",
    "\n",
    "    lst2 = []\n",
    "    for i in range(len(lst1)):\n",
    "        lst2.append(lst1[i].split(\":\"))\n",
    "    # return lst2\n",
    "    # [['Alfred', 'Black'], ['Carey', 'Drake'], ['Elena', 'Ferguson'], ['Georgina', 'Harrison']]\n",
    "\n",
    "    str1 = \"\"\n",
    "    for j in range(len(lst2)):\n",
    "        str1 += \"(\" + lst2[j][1] + \", \" + lst2[j][0] + \") \"\n",
    "    \n",
    "    return str1.upper()\n",
    "\n",
    "formatStr(\"Alfred:Black;Carey:Drake;Elena:Ferguson;Georgina:Harrison\")\n"
   ],
   "outputs": [
    {
     "output_type": "execute_result",
     "data": {
      "text/plain": [
       "'(BLACK, ALFRED) (DRAKE, CAREY) (FERGUSON, ELENA) (HARRISON, GEORGINA) '"
      ]
     },
     "metadata": {},
     "execution_count": 84
    }
   ],
   "metadata": {}
  }
 ]
}