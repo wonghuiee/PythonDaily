{
 "metadata": {
  "language_info": {
   "codemirror_mode": {
    "name": "ipython",
    "version": 3
   },
   "file_extension": ".py",
   "mimetype": "text/x-python",
   "name": "python",
   "nbconvert_exporter": "python",
   "pygments_lexer": "ipython3",
   "version": "3.8.5"
  },
  "orig_nbformat": 4,
  "kernelspec": {
   "name": "python3",
   "display_name": "Python 3.8.5 64-bit ('base': conda)"
  },
  "interpreter": {
   "hash": "dca0ade3e726a953b501b15e8e990130d2b7799f14cfd9f4271676035ebe5511"
  }
 },
 "nbformat": 4,
 "nbformat_minor": 2,
 "cells": [
  {
   "cell_type": "markdown",
   "source": [
    "## PythonDaily35\n",
    "\n",
    "The factorial of a positive number n is the product of all numbers from 1 to n.\n",
    "\n",
    "5! = 5 x 4 x 3 x 2 x 1 = 120 The semifactorial (also known as the double factorial) of a positive number n is the product of all numbers from 1 to n that have the same parity (i.e. odd or even) as n.\n",
    "\n",
    "12!! = 12 x 10 x 8 x 6 x 4 x 2 = 46,080 7!! = 7 x 5 x 3 x 1 = 105 The alternating factorial of a positive number n is the sum of the consecutive factorials from n to 1, where every other factorial is multiplied by -1.\n",
    "\n",
    "Alternating factorial of 1:<br>\n",
    "af(1) = 1!<br>\n",
    "Alternating factorial of 2:<br>\n",
    "af(2) = 2! + (-1)x(1!) = 2! - 1! = 2 -1 = 1<br>\n",
    "Alternating factorial of 3:<br>\n",
    "af(3) = 3! - 2! + 1! = 6 - 2 + 1 = 5 <br>\n",
    "\n",
    "Create a function that takes a number n and returns the diﬀerence between the alternating factorial and semifactorial of n.\n",
    "\n",
    "Examples <br>\n",
    "alt_semi(1) ➞ 1 <br>\n",
    "alt_semi(2) ➞ -1 <br>\n",
    "alt_semi(3)➞ 5<br>"
   ],
   "metadata": {}
  },
  {
   "cell_type": "code",
   "execution_count": 12,
   "source": [
    "# visualize\n",
    "\n",
    "3! = 3*2*1 = 6\n",
    "2! = 2*1 = 2\n",
    "1! = 1\n",
    "\n",
    "3! - 2! + 1! \n",
    "6  - 2  + 1 = 5"
   ],
   "outputs": [],
   "metadata": {}
  },
  {
   "cell_type": "code",
   "execution_count": 48,
   "source": [
    "# solution \n",
    "\n",
    "def altSemi(num):\n",
    "\n",
    "    fact = 1\n",
    "    factLst = []\n",
    "    for i in range(1, num+1):\n",
    "        fact *= i\n",
    "        factLst.append(fact)\n",
    "    # return factLst\n",
    "    # [1, 2, 6]\n",
    "\n",
    "    factSum = 0\n",
    "    for j in range(len(factLst)):\n",
    "        if j%2 != 0:\n",
    "            factSum -= factLst[j]\n",
    "        else:\n",
    "            factSum += factLst[j]\n",
    "    return factSum\n",
    "\n",
    "\n",
    "print( altSemi(1) )\n",
    "print( altSemi(2) )\n",
    "print( altSemi(3) )"
   ],
   "outputs": [
    {
     "output_type": "stream",
     "name": "stdout",
     "text": [
      "1\n",
      "-1\n",
      "5\n"
     ]
    }
   ],
   "metadata": {}
  }
 ]
}