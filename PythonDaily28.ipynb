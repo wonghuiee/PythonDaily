{
 "metadata": {
  "language_info": {
   "codemirror_mode": {
    "name": "ipython",
    "version": 3
   },
   "file_extension": ".py",
   "mimetype": "text/x-python",
   "name": "python",
   "nbconvert_exporter": "python",
   "pygments_lexer": "ipython3",
   "version": "3.8.5"
  },
  "orig_nbformat": 4,
  "kernelspec": {
   "name": "python3",
   "display_name": "Python 3.8.5 64-bit ('base': conda)"
  },
  "interpreter": {
   "hash": "dca0ade3e726a953b501b15e8e990130d2b7799f14cfd9f4271676035ebe5511"
  }
 },
 "nbformat": 4,
 "nbformat_minor": 2,
 "cells": [
  {
   "cell_type": "markdown",
   "source": [
    "## PythonDaily28\n",
    "\n",
    "A string is an almost-palindrome if, by changing only one character, you can make it a palindrome. Create a function that returns True if a string is an almost-palindrome and False otherwise.\n",
    "\n",
    "Examples almost_palindrome(\"abcdcbg\") ➞ True<br>\n",
    "#Transformed to \"abcdcba\" by changing \"g\" to \"a\".\n",
    "\n",
    "almost_palindrome(\"abccia\") ➞ True<br>\n",
    "#Transformed to \"abccba\" by changing \"i\" to \"b\".\n",
    "\n",
    "almost_palindrome(\"abcdaaa\") ➞ False<br>\n",
    "#Can't be transformed to a palindrome in exactly 1 turn.\n",
    "\n",
    "almost_palindrome(\"1234312\") ➞ False"
   ],
   "metadata": {}
  },
  {
   "cell_type": "code",
   "execution_count": 69,
   "source": [
    "# check if string is almost palindrome (one element to replace only) --> True\n",
    "# else --> False"
   ],
   "outputs": [],
   "metadata": {}
  },
  {
   "cell_type": "code",
   "execution_count": 118,
   "source": [
    "def almostPalindrome(inputStr):\n",
    "\n",
    "    n = len(inputStr)\n",
    "\n",
    "    # count character that should be changed\n",
    "    count = 0\n",
    "    for i in range(0, int(n/2)):\n",
    "        if (inputStr[i] != inputStr[n-i-1]):\n",
    "            count += 1\n",
    "            \n",
    "    # check if count of changes is less than or equal to 1\n",
    "    if (count<=1):\n",
    "        return True\n",
    "    else:\n",
    "        return False\n",
    "\n",
    "print(almostPalindrome(\"abcdcbg\"))\n",
    "print(almostPalindrome(\"abccia\"))\n",
    "print(almostPalindrome(\"abcdaaa\"))\n",
    "print(almostPalindrome(\"1234312\"))"
   ],
   "outputs": [
    {
     "output_type": "stream",
     "name": "stdout",
     "text": [
      "True\n",
      "True\n",
      "False\n",
      "False\n"
     ]
    }
   ],
   "metadata": {}
  }
 ]
}