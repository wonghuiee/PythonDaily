{
 "metadata": {
  "language_info": {
   "codemirror_mode": {
    "name": "ipython",
    "version": 3
   },
   "file_extension": ".py",
   "mimetype": "text/x-python",
   "name": "python",
   "nbconvert_exporter": "python",
   "pygments_lexer": "ipython3",
   "version": "3.8.5"
  },
  "orig_nbformat": 4,
  "kernelspec": {
   "name": "python3",
   "display_name": "Python 3.8.5 64-bit ('base': conda)"
  },
  "interpreter": {
   "hash": "dca0ade3e726a953b501b15e8e990130d2b7799f14cfd9f4271676035ebe5511"
  }
 },
 "nbformat": 4,
 "nbformat_minor": 2,
 "cells": [
  {
   "cell_type": "markdown",
   "source": [
    "## PythonDaily16\n",
    "\n",
    "Given an integer n, find all the integers that is the multiple of 3 from 0 to n. Return the sum of all these integers.\n",
    "\n",
    "Example:\n",
    "\n",
    "Input:\n",
    "\n",
    "10 Multiples of 3 from 0 to 10:\n",
    "\n",
    "3, 6, 9 Return sum of these integers: 18"
   ],
   "metadata": {}
  },
  {
   "cell_type": "code",
   "execution_count": 1,
   "source": [
    "# 0 to n\n",
    "# find all integer multiple of 3\n",
    "# sum it up"
   ],
   "outputs": [],
   "metadata": {}
  },
  {
   "cell_type": "code",
   "execution_count": 8,
   "source": [
    "def multiple3sum(n):\n",
    "\n",
    "    sum = 0\n",
    "    for i in range(0, n+1):\n",
    "        if i%3==0:\n",
    "            sum += i\n",
    "    return sum\n",
    "\n",
    "multiple3sum(10)"
   ],
   "outputs": [
    {
     "output_type": "execute_result",
     "data": {
      "text/plain": [
       "18"
      ]
     },
     "metadata": {},
     "execution_count": 8
    }
   ],
   "metadata": {}
  }
 ]
}