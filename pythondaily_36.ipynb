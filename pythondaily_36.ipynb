{
 "metadata": {
  "language_info": {
   "codemirror_mode": {
    "name": "ipython",
    "version": 3
   },
   "file_extension": ".py",
   "mimetype": "text/x-python",
   "name": "python",
   "nbconvert_exporter": "python",
   "pygments_lexer": "ipython3",
   "version": "3.8.5"
  },
  "orig_nbformat": 4,
  "kernelspec": {
   "name": "python3",
   "display_name": "Python 3.8.5 64-bit ('base': conda)"
  },
  "interpreter": {
   "hash": "dca0ade3e726a953b501b15e8e990130d2b7799f14cfd9f4271676035ebe5511"
  }
 },
 "nbformat": 4,
 "nbformat_minor": 2,
 "cells": [
  {
   "cell_type": "markdown",
   "source": [
    "## pythondaily_36\n",
    "\n",
    "Write a function that returns the closest palindrome number to an integer. If two palindrome numbers tie in absolute distance, return the smaller number.\n",
    "\n",
    "Examples<br>\n",
    "closest_palindrome(887) ➞ 888<br>\n",
    "closest_palindrome(100) ➞ 99<br>\n",
    "99 and 101 are equally distant, so we return the smaller palindrome.<br>\n",
    "\n",
    "closest_palindrome(888) ➞ 888<br>\n",
    "closest_palindrome(27) ➞ 22<br>"
   ],
   "metadata": {}
  },
  {
   "cell_type": "code",
   "execution_count": 89,
   "source": [
    "def closestPalindrom(n):\n",
    "    x = n\n",
    "    y = n\n",
    "    while True:\n",
    "        if str(x) == str(x)[::-1]:\n",
    "            return x\n",
    "        x -=  1\n",
    "        if str(y) == str(y)[::-1]:\n",
    "            return y\n",
    "        y += 1\n",
    "        \n",
    "    return int(bin(n)[::-1][:-2], 2)\n",
    "\n",
    "print(closestPalindrome(887))\n",
    "print(closestPalindrome(100))\n",
    "print(closestPalindrome(888))\n",
    "print(closestPalindrome(27))"
   ],
   "outputs": [
    {
     "output_type": "stream",
     "name": "stdout",
     "text": [
      "888\n",
      "99\n",
      "878\n",
      "22\n"
     ]
    }
   ],
   "metadata": {}
  }
 ]
}