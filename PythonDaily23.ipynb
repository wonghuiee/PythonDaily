{
 "metadata": {
  "language_info": {
   "codemirror_mode": {
    "name": "ipython",
    "version": 3
   },
   "file_extension": ".py",
   "mimetype": "text/x-python",
   "name": "python",
   "nbconvert_exporter": "python",
   "pygments_lexer": "ipython3",
   "version": "3.8.5"
  },
  "orig_nbformat": 4,
  "kernelspec": {
   "name": "python3",
   "display_name": "Python 3.8.5 64-bit ('base': conda)"
  },
  "interpreter": {
   "hash": "dca0ade3e726a953b501b15e8e990130d2b7799f14cfd9f4271676035ebe5511"
  }
 },
 "nbformat": 4,
 "nbformat_minor": 2,
 "cells": [
  {
   "cell_type": "markdown",
   "source": [
    "## PythonDaily23\n",
    "\n",
    "Given an input integer x,<br>\n",
    "return a list of integers in which the sum is equal to x.<br>\n",
    "The integers inside the list must consist of values that are a power of 3. <br>\n",
    "\n",
    "1 is a possible number of the list because of 3^0 => 1<br>\n",
    "3 is also a possible number of the list because 3^1 => 3<br>\n",
    "and so on.\n",
    "\n",
    "Example: Input:<br>\n",
    "4<br>\n",
    "Output:<br>\n",
    "[1, 3] Because 1 +3 = 4<br>\n",
    "And 3^0 => 1 and 3^1 => 3\n",
    "\n",
    "Invalid output:<br>\n",
    "[2, 2] Even though 2 + 2 = 4, 2 is not a power of 3.<br>\n",
    "Therefore, 2 is an invalid output in the list."
   ],
   "metadata": {}
  },
  {
   "cell_type": "code",
   "execution_count": 71,
   "source": [
    "import math\n",
    "\n",
    "def sumPair(X):\n",
    "    lst = []\n",
    "    for i in range(0, X):\n",
    "        for j in range(i+1, X):\n",
    "            if i + j == X and (math.log10(i)/math.log10(3))%1==0:\n",
    "                lst.append([i,j])\n",
    "    return lst\n",
    "\n",
    "print(sumPair(4))\n",
    "print(sumPair(81))"
   ],
   "outputs": [
    {
     "output_type": "stream",
     "name": "stdout",
     "text": [
      "[[1, 3]]\n",
      "[[1, 80], [3, 78], [9, 72], [27, 54]]\n"
     ]
    }
   ],
   "metadata": {}
  }
 ]
}