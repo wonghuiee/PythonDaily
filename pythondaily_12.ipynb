{
 "metadata": {
  "language_info": {
   "codemirror_mode": {
    "name": "ipython",
    "version": 3
   },
   "file_extension": ".py",
   "mimetype": "text/x-python",
   "name": "python",
   "nbconvert_exporter": "python",
   "pygments_lexer": "ipython3",
   "version": "3.8.5"
  },
  "orig_nbformat": 4,
  "kernelspec": {
   "name": "python3",
   "display_name": "Python 3.8.5 64-bit ('base': conda)"
  },
  "interpreter": {
   "hash": "dca0ade3e726a953b501b15e8e990130d2b7799f14cfd9f4271676035ebe5511"
  }
 },
 "nbformat": 4,
 "nbformat_minor": 2,
 "cells": [
  {
   "source": [
    "## pythondaily_12\n",
    "\n",
    "Given a list of 5 floats, return a tuple of the average of the middle 3 floats and the lowest float of that list.\n",
    "\n",
    "Example:\n",
    "\n",
    "Input:\n",
    "\n",
    "[6.4, 11.4, 7.6, 10.5, 8.1] Returns:\n",
    "\n",
    "(9.83, 6.4), 9.83 (rounded off to nearest two decimal places) is the average of 11.4, 7.6 and 10.5 and 6.4 is the lowest float of the list.\n"
   ],
   "cell_type": "markdown",
   "metadata": {}
  },
  {
   "cell_type": "code",
   "execution_count": 96,
   "metadata": {},
   "outputs": [
    {
     "output_type": "execute_result",
     "data": {
      "text/plain": [
       "(9.83, 6.4)"
      ]
     },
     "metadata": {},
     "execution_count": 96
    }
   ],
   "source": [
    "def returnTuple(inputList):\n",
    "\n",
    "    # average of middle 3 floats\n",
    "    count = len(inputList)//2\n",
    "    ave = (sum(inputList[count-1 : count+2])) /3\n",
    "    average = round(ave, 2)\n",
    "\n",
    "    # lowest float\n",
    "    lowest = min(inputList)\n",
    "\n",
    "    return((average, lowest))\n",
    "\n",
    "returnTuple([6.4, 11.4, 7.6, 10.5, 8.1])"
   ]
  },
  {
   "cell_type": "code",
   "execution_count": 95,
   "metadata": {},
   "outputs": [
    {
     "output_type": "stream",
     "name": "stdout",
     "text": [
      "(8.73, 6.4)\n"
     ]
    }
   ],
   "source": [
    "# test\n",
    "\n",
    "# average of middle 3 floats\n",
    "count = len(inputList)//2\n",
    "ave = (sum(inputList[count-1 : count+2])) /3\n",
    "average = round(ave, 2)\n",
    "\n",
    "# lowest float\n",
    "lowest = min(inputList)\n",
    "\n",
    "# return tuple (aveof3, lowest) \n",
    "print((average,lowest))\n"
   ]
  },
  {
   "cell_type": "code",
   "execution_count": null,
   "metadata": {},
   "outputs": [],
   "source": []
  }
 ]
}