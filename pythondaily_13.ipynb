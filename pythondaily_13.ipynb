{
 "metadata": {
  "language_info": {
   "codemirror_mode": {
    "name": "ipython",
    "version": 3
   },
   "file_extension": ".py",
   "mimetype": "text/x-python",
   "name": "python",
   "nbconvert_exporter": "python",
   "pygments_lexer": "ipython3",
   "version": "3.8.5"
  },
  "orig_nbformat": 4,
  "kernelspec": {
   "name": "python3",
   "display_name": "Python 3.8.5 64-bit ('base': conda)"
  },
  "interpreter": {
   "hash": "dca0ade3e726a953b501b15e8e990130d2b7799f14cfd9f4271676035ebe5511"
  }
 },
 "nbformat": 4,
 "nbformat_minor": 2,
 "cells": [
  {
   "source": [
    "## pythondaily_13\n",
    "\n",
    "Given a string, create a function that splits the string into pairs of two characters. Put the pairs inside a list then return the list. If a character is missing in a pair, use the character '?' to replace the missing character.\n",
    "\n",
    "Example:\n",
    "\n",
    "Input: \"abcdefg\" Output = [\"ab\", \"cd\", \"ef\", \"g?\"]\n",
    "\n",
    "Input: \"abcdef\" Output = [\"ab\", \"cd\", \"ef\"]\n"
   ],
   "cell_type": "markdown",
   "metadata": {}
  },
  {
   "cell_type": "code",
   "execution_count": 8,
   "metadata": {},
   "outputs": [
    {
     "output_type": "stream",
     "name": "stdout",
     "text": [
      "['ab', 'cd', 'ef']\n['ab', 'cd', 'ef', 'g?']\n"
     ]
    }
   ],
   "source": [
    "def splitPair(inputStr):\n",
    "\n",
    "    newLst = []\n",
    "\n",
    "    if len(inputStr) %2 != 0:\n",
    "        inputStr += \"?\"\n",
    "\n",
    "    for i in range(0, len(inputStr), 2):\n",
    "        newLst.append(inputStr[i:i+2])\n",
    "        \n",
    "    return newLst\n",
    "\n",
    "print(splitPair(\"abcdef\"))\n",
    "print(splitPair(\"abcdefg\"))"
   ]
  }
 ]
}