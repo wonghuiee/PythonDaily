{
 "metadata": {
  "language_info": {
   "codemirror_mode": {
    "name": "ipython",
    "version": 3
   },
   "file_extension": ".py",
   "mimetype": "text/x-python",
   "name": "python",
   "nbconvert_exporter": "python",
   "pygments_lexer": "ipython3",
   "version": "3.8.5"
  },
  "orig_nbformat": 4,
  "kernelspec": {
   "name": "python3",
   "display_name": "Python 3.8.5 64-bit ('base': conda)"
  },
  "interpreter": {
   "hash": "dca0ade3e726a953b501b15e8e990130d2b7799f14cfd9f4271676035ebe5511"
  }
 },
 "nbformat": 4,
 "nbformat_minor": 2,
 "cells": [
  {
   "cell_type": "markdown",
   "source": [
    "## PythonDaily11\n",
    "\n",
    "Given a string, return the character with the most value. The value of a character is the difference between the index of its first occurrence and the index of its last occurrence. If there is a tie, return the character that goes first alphabetically.\n",
    "\n",
    "Example:\n",
    "\n",
    "Input: 'abcdbcd' Output: 'b', since difference between first index and last index = 4 - 1 = 3, which ties with the values of c and d but since b goes first alphabetically, that's the most valuable character.\n"
   ],
   "metadata": {}
  },
  {
   "cell_type": "code",
   "execution_count": 63,
   "source": [
    "# solution\n",
    "\n",
    "def mostValueChar(inputStr):\n",
    "\n",
    "    d = {}\n",
    "\n",
    "    for count, inputStr in enumerate(inputStr):\n",
    "        if inputStr not in d:\n",
    "            d[inputStr] = [count]\n",
    "        else:\n",
    "            d[inputStr].append(count)\n",
    "    \n",
    "    for key, valueList in d.items():\n",
    "        d[key] = valueList[-1] - valueList[0]\n",
    "    \n",
    "    d = dict(sorted(d.items(), key = lambda x: x[0].lower()))\n",
    "\n",
    "    return max(d, key=d.get)\n",
    "\n",
    "mostValueChar(\"abcdbcd\")"
   ],
   "outputs": [
    {
     "output_type": "execute_result",
     "data": {
      "text/plain": [
       "'b'"
      ]
     },
     "metadata": {},
     "execution_count": 63
    }
   ],
   "metadata": {}
  },
  {
   "cell_type": "code",
   "execution_count": 1,
   "source": [
    "# test\n",
    "\n",
    "inputStr = \"abcdbcd\"\n",
    "\n",
    "d = {}\n",
    "\n",
    "for count, inputStr in enumerate(inputStr):\n",
    "    if inputStr not in d:\n",
    "        d[inputStr] = [count]\n",
    "    else:\n",
    "        d[inputStr].append(count)\n",
    "# print(d)\n",
    "# # {'a': [0], 'b': [1, 4], 'c': [2, 5], 'd': [3, 6]}\n",
    "\n",
    "for key, valueLst in d.items():\n",
    "    # print(key, valueLst)\n",
    "    # a [0]\n",
    "    # b [1, 4]\n",
    "    # c [2, 5]\n",
    "    # d [3, 6]\n",
    "    # print(d[key]) \n",
    "    # [0], [1, 4], [2, 5], [3, 6]\n",
    "    d[key] = valueLst[-1] - valueLst[0]\n",
    "    # print(d)\n",
    "    # {'a': 0, 'b': 3, 'c': 3, 'd': 3}\n",
    "\n",
    "d = dict(sorted(d.items(), key = lambda x: x[0].lower()))\n",
    "max(d, key=d.get)"
   ],
   "outputs": [
    {
     "output_type": "execute_result",
     "data": {
      "text/plain": [
       "'b'"
      ]
     },
     "metadata": {},
     "execution_count": 1
    }
   ],
   "metadata": {}
  }
 ]
}