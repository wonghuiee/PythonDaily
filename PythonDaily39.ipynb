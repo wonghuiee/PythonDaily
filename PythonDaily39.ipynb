{
 "metadata": {
  "language_info": {
   "codemirror_mode": {
    "name": "ipython",
    "version": 3
   },
   "file_extension": ".py",
   "mimetype": "text/x-python",
   "name": "python",
   "nbconvert_exporter": "python",
   "pygments_lexer": "ipython3",
   "version": "3.8.5"
  },
  "orig_nbformat": 4,
  "kernelspec": {
   "name": "python3",
   "display_name": "Python 3.8.5 64-bit ('base': conda)"
  },
  "interpreter": {
   "hash": "dca0ade3e726a953b501b15e8e990130d2b7799f14cfd9f4271676035ebe5511"
  }
 },
 "nbformat": 4,
 "nbformat_minor": 2,
 "cells": [
  {
   "cell_type": "markdown",
   "source": [
    "## PythonDaily39\n",
    "\n",
    "A semiprime is a composite number that is the product of two primes. Apart from these two primes, its only other proper (non-self) divisor is 1.\n",
    "\n",
    "The two prime factors of a semiprime can be the same number (e.g. the semiprime 49 is the product of 7x7). A semiprime that has two distinct prime factors is called a squarefree semiprime.\n",
    "\n",
    "Create a function that takes a number and returns \"Squarefree Semiprime\", \"Semiprime\", or \"Neither\".\n",
    "\n",
    "Examples\n",
    "semiprime(49) ➞ \"Semiprime\" <br>\n",
    "semiprime(15) ➞ \"Squarefree Semiprime\" <br>\n",
    "semiprime(97) ➞ \"Neither\" <br>\n",
    "\n",
    "https://iamketan.wordpress.com/2020/02/01/semiprime/"
   ],
   "metadata": {}
  },
  {
   "cell_type": "code",
   "execution_count": 70,
   "source": [
    "# solution only allows for composite of two prime numbers\n",
    "\n",
    "import math\n",
    "\n",
    "def semiPrime(num):\n",
    "\n",
    "    primeLst = []\n",
    "\n",
    "    for i in range(2, int(math.sqrt(num))+1):\n",
    "        while num%i == 0:\n",
    "            num = int(num/i)\n",
    "            primeLst.append(i)\n",
    "            if len(primeLst) >= 2:\n",
    "                break\n",
    "\n",
    "    if num > 1:\n",
    "        primeLst.append(num)\n",
    "    if len(primeLst) == 2:\n",
    "        if primeLst[0] == primeLst[1]:\n",
    "            n = primeLst[0] * primeLst[1]\n",
    "            return f\"'Semiprime' {primeLst[0]}*{primeLst[1]}={n}\"\n",
    "        else:\n",
    "            n = primeLst[0] * primeLst[1]\n",
    "            return f\"'Squarefree Semiprime' {primeLst[0]}*{primeLst[1]}={n}\"\n",
    "    else:\n",
    "        return \"Neither\"\n",
    "            \n",
    "print( semiPrime(49) )\n",
    "print( semiPrime(15) )\n",
    "print( semiPrime(97) )\n",
    "print( semiPrime(1331) ) # 11*11*11=1331"
   ],
   "outputs": [
    {
     "output_type": "stream",
     "name": "stdout",
     "text": [
      "'Semiprime' 7*7=49\n",
      "'Squarefree Semiprime' 3*5=15\n",
      "Neither\n",
      "Neither\n"
     ]
    }
   ],
   "metadata": {}
  }
 ]
}