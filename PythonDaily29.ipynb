{
 "metadata": {
  "language_info": {
   "codemirror_mode": {
    "name": "ipython",
    "version": 3
   },
   "file_extension": ".py",
   "mimetype": "text/x-python",
   "name": "python",
   "nbconvert_exporter": "python",
   "pygments_lexer": "ipython3",
   "version": "3.8.5"
  },
  "orig_nbformat": 4,
  "kernelspec": {
   "name": "python3",
   "display_name": "Python 3.8.5 64-bit ('base': conda)"
  },
  "interpreter": {
   "hash": "dca0ade3e726a953b501b15e8e990130d2b7799f14cfd9f4271676035ebe5511"
  }
 },
 "nbformat": 4,
 "nbformat_minor": 2,
 "cells": [
  {
   "cell_type": "markdown",
   "source": [
    "## PythonDaily29\n",
    "\n",
    "Create a function that takes in n, a, b and returns the number of values raised to the nth power that lie in the range [a, b], inclusive.\n",
    "\n",
    "Examples<br>\n",
    "power_ranger(2, 49, 65) ➞ 2<br>\n",
    " #2 squares (n^2) lie between 49 and 65, 49 (7^2) and 64 (8^2)<br>\n",
    "\n",
    " power_ranger(3, 1, 27) ➞ 3<br>\n",
    " #3 cubes (n^3) lie between 1 and 27, 1 (1^3), 8 (2^3) and 27 (3^3)<br>\n",
    "\n",
    " power_ranger(10, 1, 5) ➞ 1<br>\n",
    " #1 value raised to the 10th power lies between 1 and 5, 1 (1^10)<br>\n",
    " \n",
    " power_ranger(5, 31, 33) ➞ 1<br>\n",
    " power_ranger(4, 250, 1300) ➞ 3<br>"
   ],
   "metadata": {}
  },
  {
   "cell_type": "code",
   "execution_count": 44,
   "source": [
    "def power_ranger(n, a, b):\n",
    "\n",
    "    count = 0\n",
    "\n",
    "    for i in range(1, 1000):\n",
    "        if i**n in range(a,b+1):\n",
    "            count+=1\n",
    "    return count\n",
    "\n",
    "print(power_ranger(2, 49, 65))\n",
    "print(power_ranger(3, 1, 27))\n",
    "print(power_ranger(10, 1, 5))\n",
    "print(power_ranger(5, 31, 33))\n",
    "print(power_ranger(4, 250, 1300))"
   ],
   "outputs": [
    {
     "output_type": "stream",
     "name": "stdout",
     "text": [
      "2\n",
      "3\n",
      "1\n",
      "1\n",
      "3\n"
     ]
    }
   ],
   "metadata": {}
  }
 ]
}