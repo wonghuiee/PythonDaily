{
 "metadata": {
  "language_info": {
   "codemirror_mode": {
    "name": "ipython",
    "version": 3
   },
   "file_extension": ".py",
   "mimetype": "text/x-python",
   "name": "python",
   "nbconvert_exporter": "python",
   "pygments_lexer": "ipython3",
   "version": "3.8.5"
  },
  "orig_nbformat": 4,
  "kernelspec": {
   "name": "python3",
   "display_name": "Python 3.8.5 64-bit ('base': conda)"
  },
  "interpreter": {
   "hash": "dca0ade3e726a953b501b15e8e990130d2b7799f14cfd9f4271676035ebe5511"
  }
 },
 "nbformat": 4,
 "nbformat_minor": 2,
 "cells": [
  {
   "cell_type": "markdown",
   "source": [
    "## PythonDaily46\n",
    "\n",
    "Given an array of strings and an original string, write a function to output an array of boolean values - True if the word can be formed from the original word by swapping two letters only once and False otherwise.\n",
    "\n",
    "Examples<br>\n",
    "validate_swaps([\"BACDE\", \"EBCDA\", \"BCDEA\", \"ACBED\"], \"ABCDE\") ➞ [True, True, False, False]<br>\n",
    "Swap \"A\" and \"B\" from \"ABCDE\" to get \"BACDE\".<br>\n",
    "Swap \"A\" and \"E\" from \"ABCDE\" to get \"EBCDA\".<br>\n",
    "Both \"BCDEA\" and \"ACBED\" cannot be formed from \"ABCDE\" using only a single swap.\n",
    "\n",
    "validate_swaps([\"32145\", \"12354\", \"15342\", \"12543\"], \"12345\") ➞ [True, True, True, True]<br>\n",
    "validate_swaps([\"9786\", \"9788\", \"97865\", \"7689\"], \"9768\") ➞ [True, False, False, False]\n",
    "\n",
    "https://www.geeksforgeeks.org/meta-strings-check-two-strings-can-become-swap-one-string/"
   ],
   "metadata": {}
  },
  {
   "cell_type": "code",
   "execution_count": null,
   "source": [
    "# unresolved for array\n",
    "\n",
    "def validateSwap(str1, str2) :\n",
    "\n",
    "    if len(str1) != len(str2) :\n",
    "        return False\n",
    "       \n",
    "    if str1 == str2:\n",
    "        eleLst = []\n",
    "        for ele in str1:\n",
    "            if ele not in eleLst:\n",
    "                eleLst.append(ele)\n",
    "        if len(eleLst) < len(str1):\n",
    "            return True\n",
    "        return False       \n",
    "       \n",
    "\n",
    "    prev = -1\n",
    "    curr = -1\n",
    "    count = 0\n",
    "    i = 0\n",
    "    while i < len(str1) :\n",
    "        if (str1[i] != str2[i] ) :\n",
    "            count += 1\n",
    "            if (count > 2) :\n",
    "                return False\n",
    "            prev = curr\n",
    "            curr = i   \n",
    "        i += 1\n",
    "\n",
    "    return (count == 2 and str1[prev] == str2[curr]\n",
    "               and str1[curr] == str2[prev])\n",
    "\n",
    "validateSwap(\"7689\",  \"9768\")"
   ],
   "outputs": [],
   "metadata": {}
  },
  {
   "cell_type": "markdown",
   "source": [],
   "metadata": {}
  }
 ]
}