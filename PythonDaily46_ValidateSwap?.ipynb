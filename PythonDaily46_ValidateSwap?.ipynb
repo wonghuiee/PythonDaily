{
 "metadata": {
  "language_info": {
   "codemirror_mode": {
    "name": "ipython",
    "version": 3
   },
   "file_extension": ".py",
   "mimetype": "text/x-python",
   "name": "python",
   "nbconvert_exporter": "python",
   "pygments_lexer": "ipython3",
   "version": "3.8.5"
  },
  "orig_nbformat": 4,
  "kernelspec": {
   "name": "python3",
   "display_name": "Python 3.8.5 64-bit ('base': conda)"
  },
  "interpreter": {
   "hash": "dca0ade3e726a953b501b15e8e990130d2b7799f14cfd9f4271676035ebe5511"
  }
 },
 "nbformat": 4,
 "nbformat_minor": 2,
 "cells": [
  {
   "cell_type": "markdown",
   "source": [
    "## PythonDaily46\n",
    "\n",
    "Given an array of strings and an original string, write a function to output an array of boolean values - True if the word can be formed from the original word by swapping two letters only once and False otherwise.\n",
    "\n",
    "Examples<br>\n",
    "validate_swaps([\"BACDE\", \"EBCDA\", \"BCDEA\", \"ACBED\"], \"ABCDE\") ➞ [True, True, False, False]<br>\n",
    "Swap \"A\" and \"B\" from \"ABCDE\" to get \"BACDE\".<br>\n",
    "Swap \"A\" and \"E\" from \"ABCDE\" to get \"EBCDA\".<br>\n",
    "Both \"BCDEA\" and \"ACBED\" cannot be formed from \"ABCDE\" using only a single swap.\n",
    "\n",
    "validate_swaps([\"32145\", \"12354\", \"15342\", \"12543\"], \"12345\") ➞ [True, True, True, True]<br>\n",
    "validate_swaps([\"9786\", \"9788\", \"97865\", \"7689\"], \"9768\") ➞ [True, False, False, False]\n",
    "\n",
    "https://iamketan.wordpress.com/2020/01/09/single-letter-swaps/<br>\n",
    "https://www.geeksforgeeks.org/meta-strings-check-two-strings-can-become-swap-one-string/"
   ],
   "metadata": {}
  },
  {
   "cell_type": "code",
   "execution_count": 161,
   "source": [
    "def validateSwap( lst1, str1 ):\n",
    "\n",
    "    resLst = []\n",
    "    for l in lst1:\n",
    "        resLst.append( len(l) == len(str1) )\n",
    "    return resLst\n",
    "    \n",
    "print( validateSwap([\"32145\", \"12354\", \"15342\", \"12543\"], \"12345\") )\n",
    "print( validateSwap([\"9786\", \"9788\", \"97865\", \"7689\"], \"9768\") )"
   ],
   "outputs": [
    {
     "output_type": "stream",
     "name": "stdout",
     "text": [
      "[True, True, True, True]\n",
      "[True, True, False, True]\n"
     ]
    }
   ],
   "metadata": {}
  },
  {
   "cell_type": "code",
   "execution_count": 165,
   "source": [
    "def validateSwap (lst1, str1):\n",
    "\n",
    "    resLst = []\n",
    "    for ele in lst1:\n",
    "            count = 0\n",
    "            i = 0\n",
    "            while i < len(str1):\n",
    "                if ele[i] != str1[i]:\n",
    "                    count += 1\n",
    "                i += 1\n",
    "            resLst.append(count==2)\n",
    "    return resLst\n",
    "\n",
    "print( validateSwap([\"32145\", \"12354\", \"15342\", \"12543\"], \"12345\") )\n",
    "print( validateSwap([\"9786\", \"9788\", \"97865\", \"7689\"], \"9768\") )"
   ],
   "outputs": [
    {
     "output_type": "stream",
     "name": "stdout",
     "text": [
      "[True, True, True, True]\n",
      "[True, False, True, False]\n"
     ]
    }
   ],
   "metadata": {}
  },
  {
   "cell_type": "markdown",
   "source": [],
   "metadata": {}
  }
 ]
}