{
 "metadata": {
  "language_info": {
   "codemirror_mode": {
    "name": "ipython",
    "version": 3
   },
   "file_extension": ".py",
   "mimetype": "text/x-python",
   "name": "python",
   "nbconvert_exporter": "python",
   "pygments_lexer": "ipython3",
   "version": "3.8.5"
  },
  "orig_nbformat": 4,
  "kernelspec": {
   "name": "python3",
   "display_name": "Python 3.8.5 64-bit ('base': conda)"
  },
  "interpreter": {
   "hash": "dca0ade3e726a953b501b15e8e990130d2b7799f14cfd9f4271676035ebe5511"
  }
 },
 "nbformat": 4,
 "nbformat_minor": 2,
 "cells": [
  {
   "cell_type": "markdown",
   "source": [
    "## PythonDaily25\n",
    "\n",
    "An anagram is a word, x, \n",
    "formed by rearranging the letters that make up another word, y, <br>\n",
    "and using up all the letters in y at the same frequency. <br>\n",
    "For example, \"dear\" is an anagram of \"read\" and <br>\n",
    "\"plead\" is an anagram of \"paled\".\n",
    "\n",
    "The Hamming distance between two strings is the number of positions at which they diﬀer. <br>\n",
    "Hamming distances can only be calculated for strings of equal length.<br>\n",
    "They only have the third position (index 2) in common, giving them a Hamming distance of 5.\n",
    "\n",
    "s1 = \"eleven\"<br>\n",
    "s2 = \"twelve\" \n",
    "\n",
    "As anagrams are of identical length, the Hamming distance between them can be calculated.\n",
    "\n",
    "s1 = \"read\"<br>\n",
    "s2 = \"dear\"\n",
    "\n",
    "These strings diﬀer at the ﬁrst and last positions,<br>\n",
    "giving them a Hamming distance of 2. <br>\n",
    "\"Plead\" and \"paled\" have a Hamming distance of 3.\n",
    "\n",
    "Create a function that takes two strings, and returns:\n",
    "\n",
    "True if they are anagrams of each other and <br>\n",
    "their Hamming distance is equal to their length  \n",
    "(i.e. no letters in the same positions).<br>\n",
    "\n",
    "False if they aren't anagrams, \n",
    "or Their Hamming distance if they are anagrams with >=1 letter at the same index. \n",
    "\n",
    "Examples <br>\n",
    "max_ham(\"dear\", \"read\") ➞ 2 <br>\n",
    "max_ham(\"dare\", \"read\") ➞ True <br>\n",
    "max_ham(\"solemn\", \"molest\") ➞ False"
   ],
   "metadata": {}
  },
  {
   "cell_type": "code",
   "execution_count": null,
   "source": [
    "# 1 -- Anagrams + Hamming Distance\n",
    "# 2 -- Anagrams + Hamming distance==len(text)\n",
    "# 3 -- Nor Anagrams "
   ],
   "outputs": [],
   "metadata": {}
  },
  {
   "cell_type": "code",
   "execution_count": 45,
   "source": [
    "def max_ham(s1, s2):\n",
    "\n",
    "    if len(s1) != len(s2):\n",
    "        return \"Is Not An Anagram\"\n",
    "\n",
    "    count = 0\n",
    "    for i in range(len(s1)):\n",
    "        if s1[i] != s2[i]:\n",
    "            count += 1\n",
    "    return count == len(s1), count\n",
    "    \n",
    "print(max_ham(\"dear\", \"reade\"))\n",
    "print(max_ham(\"dare\", \"read\"))\n",
    "print(max_ham(\"solemn\", \"molest\"))"
   ],
   "outputs": [
    {
     "output_type": "stream",
     "name": "stdout",
     "text": [
      "Is Not An Anagram\n",
      "(True, 4)\n",
      "(False, 3)\n"
     ]
    }
   ],
   "metadata": {}
  },
  {
   "cell_type": "code",
   "execution_count": 49,
   "source": [
    "def isAnagram(s1, s2):\n",
    "\n",
    "    # hamming distance == len(text)\n",
    "    i = 0\n",
    "    count = 0\n",
    "\n",
    "    while i < len(s1):\n",
    "\n",
    "        if (s1[i] != s2[i]):\n",
    "            count += 1\n",
    "        i += 1\n",
    "\n",
    "    return count == len(s1)\n",
    "\n",
    "print(isAnagram(\"dare\", \"read\"))\n",
    "print(isAnagram(\"solemn\", \"molest\"))\n"
   ],
   "outputs": [
    {
     "output_type": "stream",
     "name": "stdout",
     "text": [
      "True\n",
      "False\n"
     ]
    }
   ],
   "metadata": {}
  }
 ]
}