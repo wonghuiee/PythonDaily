{
 "metadata": {
  "language_info": {
   "codemirror_mode": {
    "name": "ipython",
    "version": 3
   },
   "file_extension": ".py",
   "mimetype": "text/x-python",
   "name": "python",
   "nbconvert_exporter": "python",
   "pygments_lexer": "ipython3",
   "version": "3.8.5"
  },
  "orig_nbformat": 4,
  "kernelspec": {
   "name": "python3",
   "display_name": "Python 3.8.5 64-bit ('base': conda)"
  },
  "interpreter": {
   "hash": "dca0ade3e726a953b501b15e8e990130d2b7799f14cfd9f4271676035ebe5511"
  }
 },
 "nbformat": 4,
 "nbformat_minor": 2,
 "cells": [
  {
   "source": [
    "## pythondaily_14\n",
    "\n",
    "Given a list of integers, split the list into two, put the arrays on top of each other, then add them together. Return the finished list.\n",
    "\n",
    "Example: Input:\n",
    "\n",
    "[1, 2, 3, 4, 5, 6, 7]\n",
    "\n",
    "Putting on top: [1, 2, 3] [4, 5, 6, 7]\n",
    "\n",
    "Adding up process: [1, 2, 3] + [4, 5, 6, 7] ------------[5, 7, 9, 7]\n",
    "\n",
    "Returns: [5, 7, 9, 7]"
   ],
   "cell_type": "markdown",
   "metadata": {}
  },
  {
   "cell_type": "code",
   "execution_count": null,
   "metadata": {},
   "outputs": [],
   "source": [
    "# visualize\n",
    "\n",
    "1  2  3\n",
    "4  5  6  7\n",
    "5  7  9  7"
   ]
  },
  {
   "cell_type": "code",
   "execution_count": 40,
   "metadata": {},
   "outputs": [
    {
     "output_type": "stream",
     "name": "stdout",
     "text": [
      "[5, 7, 9, 7]\n[5, 7, 9]\n"
     ]
    }
   ],
   "source": [
    "def split_sum(intList):\n",
    "\n",
    "    split1 = intList[:int(len(intList)/2)]\n",
    "    split2 = intList[int(len(intList)/2):]\n",
    "\n",
    "    sumList = []\n",
    "\n",
    "    for x, y in zip(split1, split2):\n",
    "        sumList.append(x + y)\n",
    "\n",
    "    if len(split2) > len(split1):\n",
    "        sumList.append(split2[-1])\n",
    "\n",
    "    return sumList\n",
    "\n",
    "\n",
    "print(split_sum([1, 2, 3, 4, 5, 6, 7]))\n",
    "print(split_sum([1, 2, 3, 4, 5, 6]))"
   ]
  },
  {
   "cell_type": "code",
   "execution_count": 22,
   "metadata": {},
   "outputs": [
    {
     "output_type": "execute_result",
     "data": {
      "text/plain": [
       "[5, 7, 9, 7]"
      ]
     },
     "metadata": {},
     "execution_count": 22
    }
   ],
   "source": [
    "# thought process\n",
    "intList = [1, 2, 3, 4, 5, 6, 7]\n",
    "\n",
    "split = len(intList)//2\n",
    "split1 = intList[:half]\n",
    "split2 = intList[half:]\n",
    "\n",
    "s0 = half1[0] + half2[0]\n",
    "s1 = half1[1] + half2[1]\n",
    "s2 = half1[2] + half2[2]\n",
    "s3 = half2[3]\n",
    "\n",
    "intList_sum = [s0, s1, s2, s3]\n",
    "intList_sum"
   ]
  }
 ]
}