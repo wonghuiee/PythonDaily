{
 "metadata": {
  "language_info": {
   "codemirror_mode": {
    "name": "ipython",
    "version": 3
   },
   "file_extension": ".py",
   "mimetype": "text/x-python",
   "name": "python",
   "nbconvert_exporter": "python",
   "pygments_lexer": "ipython3",
   "version": "3.8.5"
  },
  "orig_nbformat": 4,
  "kernelspec": {
   "name": "python3",
   "display_name": "Python 3.8.5 64-bit ('base': conda)"
  },
  "interpreter": {
   "hash": "dca0ade3e726a953b501b15e8e990130d2b7799f14cfd9f4271676035ebe5511"
  }
 },
 "nbformat": 4,
 "nbformat_minor": 2,
 "cells": [
  {
   "cell_type": "markdown",
   "source": [
    "## PythonDaily45\n",
    "\n",
    "The goal of this challenge is to return Pascal's triangle up to number 29. Pascal's triangle is the sum of the two upper corners. 111211331 There will always be the 1 in the ﬁrst place and the row in the second.\n",
    "\n",
    "Create a function that returns a row from Pascal's triangle. To ﬁnd the row and column you can use n!/(k!*(n-k)!) where n is the row down and k is the column.\n",
    "\n",
    "Examples <br>\n",
    "pascals_triangle(1) ➞ \"1 1\"<br>\n",
    "pascals_triangle(4) ➞ \"1 4 6 4 1\"<br>\n",
    "pascals_triangle(6) ➞ \"1 6 15 20 15 6 1\"<br>\n",
    "pascals_triangle(8) ➞ \"1 8 28 56 70 56 28 8 1\"<br>"
   ],
   "metadata": {}
  },
  {
   "cell_type": "code",
   "execution_count": 17,
   "source": [
    "# solution 1\n",
    "\n",
    "def pascalTriangle(rowNum):\n",
    "    row = [1]\n",
    "    y = [0]\n",
    "    for x in range(rowNum):\n",
    "      row=[left+right for left,right in zip(row+y, y+row)]\n",
    "    return row\n",
    "print( pascalTriangle(1) )\n",
    "print( pascalTriangle(4) )\n",
    "print( pascalTriangle(6) )\n",
    "print( pascalTriangle(8) )"
   ],
   "outputs": [
    {
     "output_type": "stream",
     "name": "stdout",
     "text": [
      "[1, 1]\n",
      "[1, 4, 6, 4, 1]\n",
      "[1, 6, 15, 20, 15, 6, 1]\n",
      "[1, 8, 28, 56, 70, 56, 28, 8, 1]\n"
     ]
    }
   ],
   "metadata": {}
  },
  {
   "cell_type": "code",
   "execution_count": 1,
   "source": [
    "# solution 2\n",
    "\n",
    "def pascalTriangle(rowNum): \n",
    "\n",
    "    lmt = 100\n",
    "    row = []\n",
    "    for i in range(lmt):\n",
    "        row.append([])\n",
    "        row[i].append(1)\n",
    "        for j in range(1, i+1):\n",
    "            row[i].append(row[i - 1][j - 1] + row[i - 1][j])\n",
    "        if (lmt != 0):\n",
    "            row[i].append(1)\n",
    "\n",
    "    for i in range(0, len(row[rowNum-1])):\n",
    "        print(row[rowNum-1][i], end=\" \")\n",
    "\n",
    "print( pascalTriangle(1) )\n",
    "print( pascalTriangle(4) )\n",
    "print( pascalTriangle(6) )\n",
    "print( pascalTriangle(8) )"
   ],
   "outputs": [
    {
     "output_type": "stream",
     "name": "stdout",
     "text": [
      "1 1 None\n",
      "1 4 6 4 1 None\n",
      "1 6 15 20 15 6 1 None\n",
      "1 8 28 56 70 56 28 8 1 None\n"
     ]
    }
   ],
   "metadata": {}
  },
  {
   "cell_type": "markdown",
   "source": [],
   "metadata": {}
  }
 ]
}