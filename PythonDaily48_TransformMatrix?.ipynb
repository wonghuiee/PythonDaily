{
 "metadata": {
  "language_info": {
   "codemirror_mode": {
    "name": "ipython",
    "version": 3
   },
   "file_extension": ".py",
   "mimetype": "text/x-python",
   "name": "python",
   "nbconvert_exporter": "python",
   "pygments_lexer": "ipython3",
   "version": "3.8.5"
  },
  "orig_nbformat": 4,
  "kernelspec": {
   "name": "python3",
   "display_name": "Python 3.8.5 64-bit ('base': conda)"
  },
  "interpreter": {
   "hash": "dca0ade3e726a953b501b15e8e990130d2b7799f14cfd9f4271676035ebe5511"
  }
 },
 "nbformat": 4,
 "nbformat_minor": 2,
 "cells": [
  {
   "cell_type": "markdown",
   "source": [
    "## PythonDaily48\n",
    "\n",
    "Suppose any nxm matrix of 0s and 1s can be transformed into a second matrix, where each number in position (i, j) in the new matrix is the sum of 1s in row i and column j in the original matrix, excluding itself (if it is a 1).\n",
    "\n",
    "[[1, 0, 0, 0, 1], <br>\n",
    " [0, 1, 0, 0, 0], <br>\n",
    " [0, 0, 0, 1, 0], <br>\n",
    " [0, 1, 0, 1, 0], <br>\n",
    " [0, 1, 0, 0, 0]] <br>\n",
    "\n",
    " [1, 5, 2, 4, 1], <br>\n",
    " [2, 4, 1, 3, 2], <br>\n",
    " [2, 4, 1, 1, 2], <br>\n",
    " [3, 2, 2, 2, 3], <br>\n",
    " [2, 2, 1, 3, 2]<br>\n",
    "The 1 on the upper left corner has 1 other 1 in the same row as itself (excluding itself).<br>\n",
    "The 0 to the right of the 1 has 2 1's on the same row as itself, and 3 1's in the same column, etc.\n",
    "\n",
    "Create a function that transforms the ﬁrst matrix into its second matrix equivalent.<br>\n",
    "Examples<br>\n",
    "transform_matrix([ [1, 0, 0], [0, 1, 0], [0, 0, 1] ]) ➞ [ [0, 2, 2], [2, 0, 2], [2, 2, 0] ]<br>\n",
    "transform_matrix([ [1, 1, 1], [0, 0, 1], [0, 0, 1] ]) ➞ [ [2, 2, 4], [2, 2, 2], [2, 2, 2] ]<br>\n",
    "transform_matrix([ [1, 1, 1], [0, 1, 1], [0, 0, 1] ]) ➞ [ [2, 3, 4], [3, 2, 3], [2, 3, 2] ]"
   ],
   "metadata": {}
  },
  {
   "cell_type": "code",
   "execution_count": 36,
   "source": [
    "import numpy\n",
    "lst1 = [    [1, 2, 3],\n",
    "            [4, 5, 6],\n",
    "            [7, 8, 9]]\n",
    "\n",
    "lst1.\n",
    "\n",
    "for i in range(len(lst1)):\n",
    "    print(sum(lst1[i]))"
   ],
   "outputs": [
    {
     "output_type": "error",
     "ename": "AttributeError",
     "evalue": "'list' object has no attribute 'ndim'",
     "traceback": [
      "\u001b[0;31m---------------------------------------------------------------------------\u001b[0m",
      "\u001b[0;31mAttributeError\u001b[0m                            Traceback (most recent call last)",
      "\u001b[0;32m<ipython-input-36-f5fb75c5fe26>\u001b[0m in \u001b[0;36m<module>\u001b[0;34m\u001b[0m\n\u001b[1;32m      4\u001b[0m             [7, 8, 9]]\n\u001b[1;32m      5\u001b[0m \u001b[0;34m\u001b[0m\u001b[0m\n\u001b[0;32m----> 6\u001b[0;31m \u001b[0mlst1\u001b[0m\u001b[0;34m.\u001b[0m\u001b[0mndim\u001b[0m\u001b[0;34m\u001b[0m\u001b[0;34m\u001b[0m\u001b[0m\n\u001b[0m\u001b[1;32m      7\u001b[0m \u001b[0;34m\u001b[0m\u001b[0m\n\u001b[1;32m      8\u001b[0m \u001b[0;32mfor\u001b[0m \u001b[0mi\u001b[0m \u001b[0;32min\u001b[0m \u001b[0mrange\u001b[0m\u001b[0;34m(\u001b[0m\u001b[0mlen\u001b[0m\u001b[0;34m(\u001b[0m\u001b[0mlst1\u001b[0m\u001b[0;34m)\u001b[0m\u001b[0;34m)\u001b[0m\u001b[0;34m:\u001b[0m\u001b[0;34m\u001b[0m\u001b[0;34m\u001b[0m\u001b[0m\n",
      "\u001b[0;31mAttributeError\u001b[0m: 'list' object has no attribute 'ndim'"
     ]
    }
   ],
   "metadata": {}
  },
  {
   "cell_type": "code",
   "execution_count": 24,
   "source": [
    "R = 5\n",
    "C = 5\n",
    " \n",
    "def modifyMatrix(mat):\n",
    "    row = [0] * R\n",
    "    col = [0] * C\n",
    "     \n",
    "    # Initialize all values of row[] as 0\n",
    "    for i in range(0, R):\n",
    "        row[i] = 0\n",
    "         \n",
    "    # Initialize all values of col[] as 0\n",
    "    for i in range(0, C) :\n",
    "        col[i] = 0\n",
    " \n",
    " \n",
    "    # Store the rows and columns to be marked\n",
    "    # as 1 in row[] and col[] arrays respectively\n",
    "    for i in range(0, R) :\n",
    "         \n",
    "        for j in range(0, C) :\n",
    "            if (mat[i][j] == 1) :\n",
    "                row[i] = 1\n",
    "                col[j] = 1\n",
    "    return mat\n",
    "\n",
    "mat = [    [1, 0, 0],\n",
    "            [0, 1, 0],\n",
    "            [0, 0 ,1]]\n",
    "\n",
    "modifyMatrix( mat)"
   ],
   "outputs": [
    {
     "output_type": "error",
     "ename": "IndexError",
     "evalue": "list index out of range",
     "traceback": [
      "\u001b[0;31m---------------------------------------------------------------------------\u001b[0m",
      "\u001b[0;31mIndexError\u001b[0m                                Traceback (most recent call last)",
      "\u001b[0;32m<ipython-input-24-fb453b22af70>\u001b[0m in \u001b[0;36m<module>\u001b[0;34m\u001b[0m\n\u001b[1;32m     29\u001b[0m             [0, 0 ,1]]\n\u001b[1;32m     30\u001b[0m \u001b[0;34m\u001b[0m\u001b[0m\n\u001b[0;32m---> 31\u001b[0;31m \u001b[0mmodifyMatrix\u001b[0m\u001b[0;34m(\u001b[0m \u001b[0mmat\u001b[0m\u001b[0;34m)\u001b[0m\u001b[0;34m\u001b[0m\u001b[0;34m\u001b[0m\u001b[0m\n\u001b[0m",
      "\u001b[0;32m<ipython-input-24-fb453b22af70>\u001b[0m in \u001b[0;36mmodifyMatrix\u001b[0;34m(mat)\u001b[0m\n\u001b[1;32m     20\u001b[0m \u001b[0;34m\u001b[0m\u001b[0m\n\u001b[1;32m     21\u001b[0m         \u001b[0;32mfor\u001b[0m \u001b[0mj\u001b[0m \u001b[0;32min\u001b[0m \u001b[0mrange\u001b[0m\u001b[0;34m(\u001b[0m\u001b[0;36m0\u001b[0m\u001b[0;34m,\u001b[0m \u001b[0mC\u001b[0m\u001b[0;34m)\u001b[0m \u001b[0;34m:\u001b[0m\u001b[0;34m\u001b[0m\u001b[0;34m\u001b[0m\u001b[0m\n\u001b[0;32m---> 22\u001b[0;31m             \u001b[0;32mif\u001b[0m \u001b[0;34m(\u001b[0m\u001b[0mmat\u001b[0m\u001b[0;34m[\u001b[0m\u001b[0mi\u001b[0m\u001b[0;34m]\u001b[0m\u001b[0;34m[\u001b[0m\u001b[0mj\u001b[0m\u001b[0;34m]\u001b[0m \u001b[0;34m==\u001b[0m \u001b[0;36m1\u001b[0m\u001b[0;34m)\u001b[0m \u001b[0;34m:\u001b[0m\u001b[0;34m\u001b[0m\u001b[0;34m\u001b[0m\u001b[0m\n\u001b[0m\u001b[1;32m     23\u001b[0m                 \u001b[0mrow\u001b[0m\u001b[0;34m[\u001b[0m\u001b[0mi\u001b[0m\u001b[0;34m]\u001b[0m \u001b[0;34m=\u001b[0m \u001b[0;36m1\u001b[0m\u001b[0;34m\u001b[0m\u001b[0;34m\u001b[0m\u001b[0m\n\u001b[1;32m     24\u001b[0m                 \u001b[0mcol\u001b[0m\u001b[0;34m[\u001b[0m\u001b[0mj\u001b[0m\u001b[0;34m]\u001b[0m \u001b[0;34m=\u001b[0m \u001b[0;36m1\u001b[0m\u001b[0;34m\u001b[0m\u001b[0;34m\u001b[0m\u001b[0m\n",
      "\u001b[0;31mIndexError\u001b[0m: list index out of range"
     ]
    }
   ],
   "metadata": {}
  }
 ]
}