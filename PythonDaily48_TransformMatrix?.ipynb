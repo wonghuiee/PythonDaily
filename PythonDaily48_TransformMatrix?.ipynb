{
 "metadata": {
  "language_info": {
   "codemirror_mode": {
    "name": "ipython",
    "version": 3
   },
   "file_extension": ".py",
   "mimetype": "text/x-python",
   "name": "python",
   "nbconvert_exporter": "python",
   "pygments_lexer": "ipython3",
   "version": "3.8.5"
  },
  "orig_nbformat": 4,
  "kernelspec": {
   "name": "python3",
   "display_name": "Python 3.8.5 64-bit ('base': conda)"
  },
  "interpreter": {
   "hash": "dca0ade3e726a953b501b15e8e990130d2b7799f14cfd9f4271676035ebe5511"
  }
 },
 "nbformat": 4,
 "nbformat_minor": 2,
 "cells": [
  {
   "cell_type": "markdown",
   "source": [
    "## PythonDaily48\n",
    "\n",
    "Suppose any nxm matrix of 0s and 1s can be transformed into a second matrix, where each number in position (i, j) in the new matrix is the sum of 1s in row i and column j in the original matrix, excluding itself (if it is a 1).\n",
    "\n",
    "[[1, 0, 0, 0, 1], <br>\n",
    " [0, 1, 0, 0, 0], <br>\n",
    " [0, 0, 0, 1, 0], <br>\n",
    " [0, 1, 0, 1, 0], <br>\n",
    " [0, 1, 0, 0, 0]] <br>\n",
    "\n",
    " [1, 5, 2, 4, 1], <br>\n",
    " [2, 4, 1, 3, 2], <br>\n",
    " [2, 4, 1, 1, 2], <br>\n",
    " [3, 2, 2, 2, 3], <br>\n",
    " [2, 2, 1, 3, 2]<br>\n",
    "The 1 on the upper left corner has 1 other 1 in the same row as itself (excluding itself).<br>\n",
    "The 0 to the right of the 1 has 2 1's on the same row as itself, and 3 1's in the same column, etc.\n",
    "\n",
    "Create a function that transforms the ﬁrst matrix into its second matrix equivalent.<br>\n",
    "Examples<br>\n",
    "transform_matrix([ [1, 0, 0], [0, 1, 0], [0, 0, 1] ]) ➞ [ [0, 2, 2], [2, 0, 2], [2, 2, 0] ]<br>\n",
    "transform_matrix([ [1, 1, 1], [0, 0, 1], [0, 0, 1] ]) ➞ [ [2, 2, 4], [2, 2, 2], [2, 2, 2] ]<br>\n",
    "transform_matrix([ [1, 1, 1], [0, 1, 1], [0, 0, 1] ]) ➞ [ [2, 3, 4], [3, 2, 3], [2, 3, 2] ]"
   ],
   "metadata": {}
  },
  {
   "cell_type": "markdown",
   "source": [],
   "metadata": {}
  }
 ]
}