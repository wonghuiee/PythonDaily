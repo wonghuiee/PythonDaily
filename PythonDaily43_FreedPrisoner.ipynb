{
 "metadata": {
  "language_info": {
   "codemirror_mode": {
    "name": "ipython",
    "version": 3
   },
   "file_extension": ".py",
   "mimetype": "text/x-python",
   "name": "python",
   "nbconvert_exporter": "python",
   "pygments_lexer": "ipython3",
   "version": "3.8.5"
  },
  "orig_nbformat": 4,
  "kernelspec": {
   "name": "python3",
   "display_name": "Python 3.8.5 64-bit ('base': conda)"
  },
  "interpreter": {
   "hash": "dca0ade3e726a953b501b15e8e990130d2b7799f14cfd9f4271676035ebe5511"
  }
 },
 "nbformat": 4,
 "nbformat_minor": 2,
 "cells": [
  {
   "cell_type": "markdown",
   "source": [
    "## PythonDaily43\n",
    "\n",
    "A prison can be represented as a list of cells. Each cell contains exactly one prisoner. A 1 represents an unlocked cell and a 0 represents a locked cell. [1, 1, 0, 0, 0, 1, 0] Starting from the leftmost cell, you are tasked with seeing how many prisoners you can set free, with a catch. Each time you free a prisoner, the locked cells become unlocked, and the unlocked cells become locked again.\n",
    "\n",
    "So, if we use the example above:\n",
    "\n",
    "[1, 1, 0, 0, 0, 1, 0] You free the prisoner in the 1st cell.\n",
    "\n",
    "[0, 0, 1, 1, 1, 0, 1] You free the prisoner in the 3rd cell (2nd one locked).\n",
    "\n",
    "[1, 1, 0, 0, 0, 1, 0] You free the prisoner in the 6th cell (3rd, 4th and 5th locked).\n",
    "\n",
    "[0, 0, 1, 1, 1, 0, 1] You free the prisoner in the 7th cell - and you are done!\n",
    "\n",
    "Here, we have freed 4 prisoners in total.\n",
    "\n",
    "Create a function that, <br>\n",
    "given this unique prison arrangement, <br>\n",
    "returns the number of freed prisoners. <br>\n",
    "Examples <br>\n",
    "freed_prisoners([1, 1, 0, 0, 0, 1, 0]) ➞ 4 <br>\n",
    "freed_prisoners([1, 1, 1]) ➞ 1 <br>\n",
    "freed_prisoners([0, 0, 0]) ➞ 0 <br>\n",
    "freed_prisoners([0, 1, 1, 1]) ➞ 0 <br>"
   ],
   "metadata": {}
  },
  {
   "cell_type": "code",
   "execution_count": 3,
   "source": [
    "import itertools\n",
    "\n",
    "def freedPrisoner(prison):\n",
    "\n",
    "    group = [ (k, list(v)) for k,v in itertools.groupby(prison)]\n",
    "    print( f\"Group: {group}\" )\n",
    "    # group \n",
    "    # [(1, [1, 1]), (0, [0, 0, 0]), (1, [1]), (0, [0])]\n",
    "    freed = [ k for k, i in group]\n",
    "    # freed\n",
    "    # [1, 0, 1, 0]\n",
    "    freedTotal = len(freed) if freed[0]==1 else 0\n",
    "    print( f\"Freed: {freed}; Freed {freedTotal} prisoners\" )\n",
    "    return freedTotal\n",
    "\n",
    "print( freedPrisoner([1, 1, 0, 0, 0, 1, 0]) )\n",
    "print( freedPrisoner([1, 1, 1]) )\n",
    "print( freedPrisoner([0, 0, 0]) )\n",
    "print( freedPrisoner([0, 1, 1, 1]) )\n"
   ],
   "outputs": [
    {
     "output_type": "stream",
     "name": "stdout",
     "text": [
      "Group: [(1, [1, 1]), (0, [0, 0, 0]), (1, [1]), (0, [0])]\n",
      "Freed: [1, 0, 1, 0]; Freed 4 prisoners\n",
      "4\n",
      "Group: [(1, [1, 1, 1])]\n",
      "Freed: [1]; Freed 1 prisoners\n",
      "1\n",
      "Group: [(0, [0, 0, 0])]\n",
      "Freed: [0]; Freed 0 prisoners\n",
      "0\n",
      "Group: [(0, [0]), (1, [1, 1, 1])]\n",
      "Freed: [0, 1]; Freed 0 prisoners\n",
      "0\n"
     ]
    }
   ],
   "metadata": {}
  }
 ]
}