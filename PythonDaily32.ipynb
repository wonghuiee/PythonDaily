{
 "metadata": {
  "language_info": {
   "codemirror_mode": {
    "name": "ipython",
    "version": 3
   },
   "file_extension": ".py",
   "mimetype": "text/x-python",
   "name": "python",
   "nbconvert_exporter": "python",
   "pygments_lexer": "ipython3",
   "version": "3.8.5"
  },
  "orig_nbformat": 4,
  "kernelspec": {
   "name": "python3",
   "display_name": "Python 3.8.5 64-bit ('base': conda)"
  },
  "interpreter": {
   "hash": "dca0ade3e726a953b501b15e8e990130d2b7799f14cfd9f4271676035ebe5511"
  }
 },
 "nbformat": 4,
 "nbformat_minor": 2,
 "cells": [
  {
   "cell_type": "markdown",
   "source": [
    "## PythonDaily32\n",
    "\n",
    "Given any number, we can create a new number by adding the sums of squares of digits of that number.<br>\n",
    "For example, given 203, our new number is 4 + 0 + 9 = 13.<br>\n",
    "If we repeat this process, we get a sequence of numbers:\n",
    "\n",
    "203 -> 13 -> 10 -> 1 -> 1 Sometimes, like with 203, the sequence reaches (and stays at) 1. <br>\n",
    "Numbers like this are called happy.\n",
    "\n",
    "Not all numbers are happy. <br>\n",
    "If we started with 11, <br>\n",
    "the sequence would be: 11 -> 2 -> 4 -> 16 -> ... <br>\n",
    "This sequence will never reach 1, and so the number 11 is called unhappy.<br>\n",
    "\n",
    "Given a positive whole number, you have to determine whether that number is happy or unhappy.\n",
    "\n",
    "Examples<br>\n",
    "happy(203) ➞ True<br>\n",
    "happy(11) ➞ False<br>\n",
    "happy(107) ➞ False<br>"
   ],
   "metadata": {}
  },
  {
   "cell_type": "code",
   "execution_count": 80,
   "source": [
    "# https://www.youtube.com/watch?v=tNOYnyPnSlk&t=833s\n",
    "# 203 --> 4+0+9=13 --> 1+9=10 --> 1+0=1 --> happy"
   ],
   "outputs": [],
   "metadata": {}
  },
  {
   "cell_type": "code",
   "execution_count": 78,
   "source": [
    "def squareSum(num):\n",
    "    res = 0\n",
    "    rem = 0\n",
    "    while num > 0:\n",
    "        rem = num % 10\n",
    "        res += rem * rem\n",
    "        num = num // 10\n",
    "    return res\n",
    "\n",
    "def isHappy(num):\n",
    "    result = num\n",
    "    while result!=1 and result!=4:\n",
    "        result = squareSum(result)\n",
    "    if result == 1:\n",
    "        return True\n",
    "    else:\n",
    "        return False\n",
    "\n",
    "print( isHappy(203) )\n",
    "print( isHappy(11) )\n",
    "print( isHappy(107) )\n"
   ],
   "outputs": [
    {
     "output_type": "stream",
     "name": "stdout",
     "text": [
      "True\n",
      "False\n",
      "False\n"
     ]
    }
   ],
   "metadata": {}
  }
 ]
}