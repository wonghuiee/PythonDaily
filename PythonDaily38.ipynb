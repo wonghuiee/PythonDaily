{
 "metadata": {
  "language_info": {
   "codemirror_mode": {
    "name": "ipython",
    "version": 3
   },
   "file_extension": ".py",
   "mimetype": "text/x-python",
   "name": "python",
   "nbconvert_exporter": "python",
   "pygments_lexer": "ipython3",
   "version": "3.8.5"
  },
  "orig_nbformat": 4,
  "kernelspec": {
   "name": "python3",
   "display_name": "Python 3.8.5 64-bit ('base': conda)"
  },
  "interpreter": {
   "hash": "dca0ade3e726a953b501b15e8e990130d2b7799f14cfd9f4271676035ebe5511"
  }
 },
 "nbformat": 4,
 "nbformat_minor": 2,
 "cells": [
  {
   "cell_type": "markdown",
   "source": [
    "## PythonDaily38\n",
    "\n",
    "There are two players, Alice and Bob, each with a 3-by-3 grid. A referee tells Alice to ﬁll out one particular row in the grid (say the second row) by putting either a 1 or a 0 in each box, such that the sum of the numbers in that row is odd. The referee tells Bob to ﬁll out one column in the grid (say the ﬁrst column) by putting either a 1 or a 0 in each box, such that the sum of the numbers in that column is even.\n",
    "\n",
    "Alice and Bob win the game if Alice’s numbers give an odd sum, Bob’s give an even sum, and (most important) they’ve each written down the same number in the one square where their row and column intersect.\n",
    "\n",
    "Examples<br>\n",
    "magic_square_game([2, \"100\"], [1, \"101\"]) ➞ False<br>\n",
    "magic_square_game([2, \"001\"], [1, \"101\"]) ➞ True<br>\n",
    "magic_square_game([3, \"111\"], [2, \"011\"]) ➞ True<br>\n",
    "magic_square_game([1, \"010\"], [3, \"101\"]) ➞ False<br>\n",
    "Two lists, Alice [row, \"her choice\"], Bob [column, \"his choice\"]\n",
    "\n",
    "http://electron6.phys.utk.edu/phys250/modules/module%203/a_pseudotelepathy_game.htm"
   ],
   "metadata": {}
  }
 ]
}