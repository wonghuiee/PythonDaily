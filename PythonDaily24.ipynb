{
 "metadata": {
  "language_info": {
   "codemirror_mode": {
    "name": "ipython",
    "version": 3
   },
   "file_extension": ".py",
   "mimetype": "text/x-python",
   "name": "python",
   "nbconvert_exporter": "python",
   "pygments_lexer": "ipython3",
   "version": "3.8.5"
  },
  "orig_nbformat": 4,
  "kernelspec": {
   "name": "python3",
   "display_name": "Python 3.8.5 64-bit ('base': conda)"
  },
  "interpreter": {
   "hash": "dca0ade3e726a953b501b15e8e990130d2b7799f14cfd9f4271676035ebe5511"
  }
 },
 "nbformat": 4,
 "nbformat_minor": 2,
 "cells": [
  {
   "cell_type": "markdown",
   "source": [
    "## PythonDaily24\n",
    "\n",
    "Given an array of number, <br>\n",
    "return the difference between the maximum and minimum numbers <br>\n",
    "that can be formed when the digits are rearranged.\n",
    "\n",
    "Input  : [4, 7, 9, 2, 3] <br>\n",
    "Find   : maximum : 97432 <br>\n",
    "         minimum : 23479 <br>\n",
    "Return : maximum - minimum = 73953\n"
   ],
   "metadata": {}
  },
  {
   "cell_type": "code",
   "execution_count": 51,
   "source": [
    "def calDiff(arr):\n",
    "\n",
    "    arr.sort()\n",
    "    minStr = [str(i) for i in arr]\n",
    "    minNum = \"\".join(minStr)\n",
    "\n",
    "    arr.sort(reverse = True)\n",
    "    maxStr = [str(i) for i in arr]\n",
    "    maxNum = \"\".join(maxStr)\n",
    "\n",
    "    return int(maxNum) - int(minNum)\n",
    "\n",
    "calDiff([4, 7, 9, 2, 3])   \n"
   ],
   "outputs": [
    {
     "output_type": "execute_result",
     "data": {
      "text/plain": [
       "73953"
      ]
     },
     "metadata": {},
     "execution_count": 51
    }
   ],
   "metadata": {}
  }
 ]
}