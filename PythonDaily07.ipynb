{
 "metadata": {
  "language_info": {
   "codemirror_mode": {
    "name": "ipython",
    "version": 3
   },
   "file_extension": ".py",
   "mimetype": "text/x-python",
   "name": "python",
   "nbconvert_exporter": "python",
   "pygments_lexer": "ipython3",
   "version": "3.8.5"
  },
  "orig_nbformat": 4,
  "kernelspec": {
   "name": "python3",
   "display_name": "Python 3.8.5 64-bit ('base': conda)"
  },
  "interpreter": {
   "hash": "dca0ade3e726a953b501b15e8e990130d2b7799f14cfd9f4271676035ebe5511"
  }
 },
 "nbformat": 4,
 "nbformat_minor": 2,
 "cells": [
  {
   "cell_type": "markdown",
   "source": [
    "## PythonDaily07\n",
    "\n",
    "Given a list of integers, create a function that finds the odd one out in the list.\n",
    "\n",
    "Example:\n",
    "\n",
    "Input: [1,1,1,1,1,1,1,2] Output: 2\n",
    "\n"
   ],
   "metadata": {}
  },
  {
   "cell_type": "code",
   "execution_count": 4,
   "source": [
    "def oddOneOut(lst):\n",
    "\n",
    "    freq = {}\n",
    "    for i in lst:\n",
    "        freq[i] = freq.get(i,0) + 1\n",
    "\n",
    "    for i in lst:\n",
    "        if freq[i] == 1:\n",
    "            return i\n",
    "    return \"There is no OddOneOut\"\n",
    "    \n",
    "oddOneOut([1,1,1,1,1,1,1,2])"
   ],
   "outputs": [
    {
     "output_type": "execute_result",
     "data": {
      "text/plain": [
       "2"
      ]
     },
     "metadata": {},
     "execution_count": 4
    }
   ],
   "metadata": {}
  },
  {
   "cell_type": "code",
   "execution_count": 37,
   "source": [
    "def oddOneOut(lst):\n",
    "\n",
    "    countDict = {}\n",
    "\n",
    "    for i in lst:\n",
    "        if i in countDict:\n",
    "            countDict[i] += 1\n",
    "        else:\n",
    "            countDict[i] = 1\n",
    "            \n",
    "    for count in countDict:\n",
    "        if countDict[count] == 1:\n",
    "            return count\n",
    "            break\n",
    "\n",
    "oddOneOut([1,1,1,1,1,1,1,2])"
   ],
   "outputs": [
    {
     "output_type": "execute_result",
     "data": {
      "text/plain": [
       "2"
      ]
     },
     "metadata": {},
     "execution_count": 37
    }
   ],
   "metadata": {}
  }
 ]
}