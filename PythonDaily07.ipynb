{
 "metadata": {
  "language_info": {
   "codemirror_mode": {
    "name": "ipython",
    "version": 3
   },
   "file_extension": ".py",
   "mimetype": "text/x-python",
   "name": "python",
   "nbconvert_exporter": "python",
   "pygments_lexer": "ipython3",
   "version": "3.8.5"
  },
  "orig_nbformat": 4,
  "kernelspec": {
   "name": "python3",
   "display_name": "Python 3.8.5 64-bit ('base': conda)"
  },
  "interpreter": {
   "hash": "dca0ade3e726a953b501b15e8e990130d2b7799f14cfd9f4271676035ebe5511"
  }
 },
 "nbformat": 4,
 "nbformat_minor": 2,
 "cells": [
  {
   "source": [
    "## pythondaily_07\n",
    "\n",
    "Given a list of integers, create a function that finds the odd one out in the list.\n",
    "\n",
    "Example:\n",
    "\n",
    "Input: [1,1,1,1,1,1,1,2] Output: 2\n",
    "\n"
   ],
   "cell_type": "markdown",
   "metadata": {}
  },
  {
   "cell_type": "code",
   "execution_count": 118,
   "metadata": {},
   "outputs": [
    {
     "output_type": "execute_result",
     "data": {
      "text/plain": [
       "2"
      ]
     },
     "metadata": {},
     "execution_count": 118
    }
   ],
   "source": [
    "# find first non-repeating number \n",
    "\n",
    "def non_repeat_no(int_list):\n",
    "\n",
    "    count_dict = {}\n",
    "\n",
    "    for i in int_list:\n",
    "        if (i in count_dict):\n",
    "            count_dict[i] += 1\n",
    "        else:\n",
    "            count_dict[i] = 1\n",
    "\n",
    "    for count in count_dict:\n",
    "        if (count_dict[count] == 1):\n",
    "            return count\n",
    "            break\n",
    "\n",
    "non_repeat_no([1, 1, 1, 1, 1, 1, 1, 2])"
   ]
  },
  {
   "cell_type": "code",
   "execution_count": null,
   "metadata": {},
   "outputs": [],
   "source": []
  }
 ]
}