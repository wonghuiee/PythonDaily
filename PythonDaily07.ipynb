{
 "metadata": {
  "language_info": {
   "codemirror_mode": {
    "name": "ipython",
    "version": 3
   },
   "file_extension": ".py",
   "mimetype": "text/x-python",
   "name": "python",
   "nbconvert_exporter": "python",
   "pygments_lexer": "ipython3",
   "version": "3.8.5"
  },
  "orig_nbformat": 4,
  "kernelspec": {
   "name": "python3",
   "display_name": "Python 3.8.5 64-bit ('base': conda)"
  },
  "interpreter": {
   "hash": "dca0ade3e726a953b501b15e8e990130d2b7799f14cfd9f4271676035ebe5511"
  }
 },
 "nbformat": 4,
 "nbformat_minor": 2,
 "cells": [
  {
   "cell_type": "markdown",
   "source": [
    "## PythonDaily07\n",
    "\n",
    "Given a list of integers, create a function that finds the odd one out in the list.\n",
    "\n",
    "Example:\n",
    "\n",
    "Input: [1,1,1,1,1,1,1,2] Output: 2\n",
    "\n"
   ],
   "metadata": {}
  },
  {
   "cell_type": "code",
   "execution_count": 29,
   "source": [
    "# solution 1 \n",
    "\n",
    "def oddOneOut(lst):\n",
    "\n",
    "    freq = {}\n",
    "    for num in lst:\n",
    "        freq[num] = lst.count(num)\n",
    "    if freq[num] == 1:\n",
    "        return num\n",
    "\n",
    "oddOneOut([1,1,1,1,1,1,1,2])\n"
   ],
   "outputs": [
    {
     "output_type": "execute_result",
     "data": {
      "text/plain": [
       "2"
      ]
     },
     "metadata": {},
     "execution_count": 29
    }
   ],
   "metadata": {}
  },
  {
   "cell_type": "code",
   "execution_count": 30,
   "source": [
    "# solution 2 \n",
    "\n",
    "def oddOneOut(lst):\n",
    "\n",
    "    freq = {}\n",
    "    for num in lst:\n",
    "        freq[num] = freq.get(num,0) + 1\n",
    "\n",
    "    for num in lst:\n",
    "        if freq[num] == 1:\n",
    "            return num\n",
    "    return \"There is no OddOneOut\"\n",
    "    \n",
    "oddOneOut([1,1,1,1,1,1,1,2])"
   ],
   "outputs": [
    {
     "output_type": "execute_result",
     "data": {
      "text/plain": [
       "2"
      ]
     },
     "metadata": {},
     "execution_count": 30
    }
   ],
   "metadata": {}
  }
 ]
}