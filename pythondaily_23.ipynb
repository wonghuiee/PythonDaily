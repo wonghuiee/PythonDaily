{
 "metadata": {
  "language_info": {
   "codemirror_mode": {
    "name": "ipython",
    "version": 3
   },
   "file_extension": ".py",
   "mimetype": "text/x-python",
   "name": "python",
   "nbconvert_exporter": "python",
   "pygments_lexer": "ipython3",
   "version": "3.8.5"
  },
  "orig_nbformat": 4,
  "kernelspec": {
   "name": "python3",
   "display_name": "Python 3.8.5 64-bit ('base': conda)"
  },
  "interpreter": {
   "hash": "dca0ade3e726a953b501b15e8e990130d2b7799f14cfd9f4271676035ebe5511"
  }
 },
 "nbformat": 4,
 "nbformat_minor": 2,
 "cells": [
  {
   "cell_type": "markdown",
   "source": [
    "## pythondaily_23\n",
    "\n",
    "Given an input integer x,<br>\n",
    "return a list of integers in which the sum is equal to x.<br>\n",
    "The integers inside the list must consist of values that are a power of 3. <br>\n",
    "\n",
    "1 is a possible number of the list because of 3^0 => 1<br>\n",
    "3 is also a possible number of the list because 3^1 => 3<br>\n",
    "and so on.\n",
    "\n",
    "Example: Input:<br>\n",
    "4<br>\n",
    "Output:<br>\n",
    "[1, 3] Because 1 +3 = 4<br>\n",
    "And 3^0 => 1 and 3^1 => 3\n",
    "\n",
    "Invalid output:<br>\n",
    "[2, 2] Even though 2 + 2 = 4, 2 is not a power of 3.<br>\n",
    "Therefore, 2 is an invalid output in the list."
   ],
   "metadata": {}
  },
  {
   "cell_type": "code",
   "execution_count": 23,
   "source": [
    "def checkSum(inputInt):\n",
    "\n",
    "    for i in range(1,5):\n",
    "        for j in range(1,5):\n",
    "            if i + j == 4 and 3 <= i :\n",
    "                return [i,j]\n",
    "\n",
    "checkSum(4)"
   ],
   "outputs": [
    {
     "output_type": "execute_result",
     "data": {
      "text/plain": [
       "[3, 1]"
      ]
     },
     "metadata": {},
     "execution_count": 23
    }
   ],
   "metadata": {}
  }
 ]
}