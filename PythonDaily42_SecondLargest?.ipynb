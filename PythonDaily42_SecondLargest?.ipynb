{
 "metadata": {
  "language_info": {
   "codemirror_mode": {
    "name": "ipython",
    "version": 3
   },
   "file_extension": ".py",
   "mimetype": "text/x-python",
   "name": "python",
   "nbconvert_exporter": "python",
   "pygments_lexer": "ipython3",
   "version": "3.8.5"
  },
  "orig_nbformat": 4,
  "kernelspec": {
   "name": "python3",
   "display_name": "Python 3.8.5 64-bit ('base': conda)"
  },
  "interpreter": {
   "hash": "dca0ade3e726a953b501b15e8e990130d2b7799f14cfd9f4271676035ebe5511"
  }
 },
 "nbformat": 4,
 "nbformat_minor": 2,
 "cells": [
  {
   "cell_type": "markdown",
   "source": [
    "## PythonDaily42\n",
    "\n",
    "Write a function that replaces each integer with the next largest in the list.<br>\n",
    "Examples<br>\n",
    "replace_next_largest([5, 7, 3, 2, 8]) ➞ [7, 8, 5, 3, -1]<br>\n",
    "replace_next_largest([2, 3, 4, 5]) ➞ [3, 4, 5, -1]<br>\n",
    "replace_next_largest([1, 0, -1, 8, -72]) ➞ [8, 1, 0, -1, -1]<br>\n",
    "\n",
    "https://afteracademy.com/blog/find-the-next-greater-element-for-every-element-in-an-array"
   ],
   "metadata": {}
  },
  {
   "cell_type": "code",
   "execution_count": 191,
   "source": [
    "# ?? did not pop after replace next largest in list \n",
    "\n",
    "def replaceNextLargest(numLst):\n",
    "\n",
    "    result = []\n",
    "\n",
    "    for i in range(0, len(numLst)):\n",
    "        found = False\n",
    "        for j in range(i+1, len(numLst)):\n",
    "            if numLst[j] > numLst[i]:\n",
    "                found = True\n",
    "                result.append(numLst[j])\n",
    "                break\n",
    "        if found == False:\n",
    "            result.append(-1)\n",
    "\n",
    "    return result\n",
    "\n",
    "print( replaceNextLargest( [5, 7, 3, 2, 8] ))\n",
    "print( replaceNextLargest( [2, 3, 4, 5] ))\n",
    "print( replaceNextLargest( [1, 0, -1, 8, -72] ))\n"
   ],
   "outputs": [
    {
     "output_type": "stream",
     "name": "stdout",
     "text": [
      "[7, 8, 8, 8, -1]\n",
      "[3, 4, 5, -1]\n",
      "[8, 8, 8, -1, -1]\n"
     ]
    }
   ],
   "metadata": {}
  },
  {
   "cell_type": "markdown",
   "source": [],
   "metadata": {}
  }
 ]
}