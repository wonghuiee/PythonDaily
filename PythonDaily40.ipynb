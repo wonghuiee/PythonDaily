{
 "metadata": {
  "language_info": {
   "codemirror_mode": {
    "name": "ipython",
    "version": 3
   },
   "file_extension": ".py",
   "mimetype": "text/x-python",
   "name": "python",
   "nbconvert_exporter": "python",
   "pygments_lexer": "ipython3",
   "version": "3.8.5"
  },
  "orig_nbformat": 4,
  "kernelspec": {
   "name": "python3",
   "display_name": "Python 3.8.5 64-bit ('base': conda)"
  },
  "interpreter": {
   "hash": "dca0ade3e726a953b501b15e8e990130d2b7799f14cfd9f4271676035ebe5511"
  }
 },
 "nbformat": 4,
 "nbformat_minor": 2,
 "cells": [
  {
   "cell_type": "markdown",
   "source": [
    "## PythonDaily40\n",
    "\n",
    "Create a function that transposes a 2D matrix.\n",
    "\n",
    "Examples<br>\n",
    "transpose_matrix([ [1, 1, 1], [2, 2, 2], [3, 3, 3] ]) ➞ [ [1, 2, 3], [1, 2, 3], [1, 2, 3] ] <br>\n",
    "transpose_matrix([ [5, 5], [6, 7], [9, 1] ]) ➞ [ [5, 6, 9], [5, 7, 1] ]"
   ],
   "metadata": {}
  },
  {
   "cell_type": "code",
   "execution_count": 9,
   "source": [
    "# solution 1\n",
    "\n",
    "# matrix = [ [5, 5]\n",
    "#            [6, 7]\n",
    "#            [9, 1] ]\n",
    "\n",
    "def transposeMatrix(matrix):\n",
    "    transLst1 = []\n",
    "    for i in range(len(matrix[0])): # 2 columns-->0,1\n",
    "        transLst2 = []\n",
    "        for j in range(len(matrix)): # 3 rows-->0,1,2\n",
    "            num = matrix[j][i]\n",
    "            # matrix[0][0] --> 5\n",
    "            # matrix[1][0] --> 6\n",
    "            # matrix[2][0] --> 9\n",
    "            transLst2.append(num)\n",
    "        transLst1.append(transLst2)\n",
    "    return transLst1\n",
    "\n",
    "print( transposeMatrix([ [1, 1, 1], [2, 2, 2], [3, 3, 3] ]) )\n",
    "print( transposeMatrix([ [5, 5], [6, 7], [9, 1] ]) )"
   ],
   "outputs": [
    {
     "output_type": "stream",
     "name": "stdout",
     "text": [
      "[[1, 2, 3], [1, 2, 3], [1, 2, 3]]\n",
      "[[5, 6, 9], [5, 7, 1]]\n"
     ]
    }
   ],
   "metadata": {}
  },
  {
   "cell_type": "code",
   "execution_count": 37,
   "source": [
    "# solution 2\n",
    "\n",
    "def transposeMatrix(matrix):\n",
    "\n",
    "    transpose = [[matrix[y][x] for y in range(len(matrix))] for x in range(len(matrix[0]))]\n",
    "    return transpose\n",
    "\n",
    "print( transposeMatrix([ [1, 1, 1], [2, 2, 2], [3, 3, 3] ]) )\n",
    "print( transposeMatrix([ [5, 5], [6, 7], [9, 1] ]) )\n"
   ],
   "outputs": [
    {
     "output_type": "stream",
     "name": "stdout",
     "text": [
      "[[1, 2, 3], [1, 2, 3], [1, 2, 3]]\n",
      "[[5, 6, 9], [5, 7, 1]]\n"
     ]
    }
   ],
   "metadata": {}
  },
  {
   "cell_type": "markdown",
   "source": [],
   "metadata": {}
  },
  {
   "cell_type": "code",
   "execution_count": 49,
   "source": [
    "# solution 3\n",
    "\n",
    "import numpy as np\n",
    "\n",
    "transposeMatrix1 = np.array([ [1, 1, 1], [2, 2, 2], [3, 3, 3] ])\n",
    "print(transposeMatrix1.transpose())\n",
    "\n",
    "transposeMatrix2 = np.array([ [5, 5], [6, 7], [9, 1] ])\n",
    "print(transposeMatrix2.transpose())"
   ],
   "outputs": [
    {
     "output_type": "stream",
     "name": "stdout",
     "text": [
      "[[1 2 3]\n",
      " [1 2 3]\n",
      " [1 2 3]]\n",
      "[[5 6 9]\n",
      " [5 7 1]]\n"
     ]
    }
   ],
   "metadata": {}
  },
  {
   "cell_type": "markdown",
   "source": [],
   "metadata": {}
  }
 ]
}