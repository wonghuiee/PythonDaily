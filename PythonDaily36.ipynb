{
 "metadata": {
  "language_info": {
   "codemirror_mode": {
    "name": "ipython",
    "version": 3
   },
   "file_extension": ".py",
   "mimetype": "text/x-python",
   "name": "python",
   "nbconvert_exporter": "python",
   "pygments_lexer": "ipython3",
   "version": "3.8.5"
  },
  "orig_nbformat": 4,
  "kernelspec": {
   "name": "python3",
   "display_name": "Python 3.8.5 64-bit ('base': conda)"
  },
  "interpreter": {
   "hash": "dca0ade3e726a953b501b15e8e990130d2b7799f14cfd9f4271676035ebe5511"
  }
 },
 "nbformat": 4,
 "nbformat_minor": 2,
 "cells": [
  {
   "cell_type": "markdown",
   "source": [
    "## PythonDaily36\n",
    "\n",
    "Write a function that returns the closest palindrome number to an integer. If two palindrome numbers tie in absolute distance, return the smaller number.\n",
    "\n",
    "Examples<br>\n",
    "closest_palindrome(887) ➞ 888<br>\n",
    "closest_palindrome(100) ➞ 99<br>\n",
    "99 and 101 are equally distant, so we return the smaller palindrome.<br>\n",
    "\n",
    "closest_palindrome(888) ➞ 888<br>\n",
    "closest_palindrome(27) ➞ 22<br>"
   ],
   "metadata": {}
  },
  {
   "cell_type": "code",
   "execution_count": 26,
   "source": [
    "# solution 1\n",
    "# https://www.w3resource.com/python-exercises/basic/python-basic-1-exercise-139.php\n",
    "\n",
    "def closestPalindrome(num):\n",
    "    x = num\n",
    "    y = num\n",
    "    while True:\n",
    "        if str(x) == str(x)[::-1]:\n",
    "            return x\n",
    "        x -=  1\n",
    "        if str(y) == str(y)[::-1]:\n",
    "            return y\n",
    "        y += 1\n",
    "        \n",
    "    return int(bin(num)[::-1][:-2], 2)\n",
    "\n",
    "print(closestPalindrome(887))\n",
    "print(closestPalindrome(100))\n",
    "print(closestPalindrome(888))\n",
    "print(closestPalindrome(27))"
   ],
   "outputs": [
    {
     "output_type": "stream",
     "name": "stdout",
     "text": [
      "888\n",
      "99\n",
      "888\n",
      "22\n"
     ]
    }
   ],
   "metadata": {}
  },
  {
   "cell_type": "code",
   "execution_count": 28,
   "source": [
    "# solution 2\n",
    "# https://www.geeksforgeeks.org/closest-palindrome-number-whose-absolute-difference-min/\n",
    "\n",
    "def isPalindrome(n):\n",
    "    for i in range(len(n)//2):\n",
    "        if n[i] != n[-1-i]:\n",
    "            return False\n",
    "    return True\n",
    "\n",
    "def convertNumStr(num):\n",
    "    numStr = str(num)\n",
    "    return numStr\n",
    "\n",
    "def closestPalindrome(num):\n",
    "    largeNum = num-1\n",
    "    while not isPalindrome(convertNumStr(abs(largeNum))):\n",
    "        largeNum -= 1\n",
    "    smallNum = num+1\n",
    "    while not isPalindrome(convertNumStr(smallNum)):\n",
    "        smallNum += 1\n",
    "    if abs(num -largeNum) > abs(num-smallNum):\n",
    "        return smallNum\n",
    "    else:\n",
    "        return largeNum\n",
    "\n",
    "print( closestPalindrome(887) )\n",
    "print( closestPalindrome(100) )\n",
    "print( closestPalindrome(888) ) # incorrect\n",
    "print( closestPalindrome(27) )"
   ],
   "outputs": [
    {
     "output_type": "stream",
     "name": "stdout",
     "text": [
      "888\n",
      "99\n",
      "878\n",
      "22\n"
     ]
    }
   ],
   "metadata": {}
  }
 ]
}