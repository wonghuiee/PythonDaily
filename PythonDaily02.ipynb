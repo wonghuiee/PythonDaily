{
 "metadata": {
  "language_info": {
   "codemirror_mode": {
    "name": "ipython",
    "version": 3
   },
   "file_extension": ".py",
   "mimetype": "text/x-python",
   "name": "python",
   "nbconvert_exporter": "python",
   "pygments_lexer": "ipython3",
   "version": "3.8.5"
  },
  "orig_nbformat": 4,
  "kernelspec": {
   "name": "python3",
   "display_name": "Python 3.8.5 64-bit ('base': conda)"
  },
  "interpreter": {
   "hash": "dca0ade3e726a953b501b15e8e990130d2b7799f14cfd9f4271676035ebe5511"
  }
 },
 "nbformat": 4,
 "nbformat_minor": 2,
 "cells": [
  {
   "cell_type": "markdown",
   "source": [
    "## pythondaily_02\n",
    "Create a function that estimates the weight loss of a person using a certain weight loss program with their gender, current weight and how many weeks they plan to do the program as input. If the person follows the weight loss program, men can lose 1.5% of their body weight per week while women can lose 1.2% of their body weight per week.<br>\n",
    "\n",
    "The possible inputs are:<br>\n",
    "\n",
    "Gender: 'M' for Male, 'F' for Female Current weight: integer above 0 Number of weeks: integer above 0<br>\n",
    "\n",
    "Return the estimated weight after the specified number of weeks."
   ],
   "metadata": {}
  },
  {
   "cell_type": "code",
   "execution_count": 19,
   "source": [
    "def weightLoss (gender, weight, duration):\n",
    "\n",
    "    if gender.upper() not in ['M', 'F']:\n",
    "        return \"Please specify 'M' or 'F' \"\n",
    "    \n",
    "    if weight<0 or type(weight)!=int:\n",
    "        return \"Please specify weight in kg (eg 53)\"\n",
    "    \n",
    "    if duration<0 or type(duration)!=int:\n",
    "        return \"Please specify number of weeks (eg 2)\"\n",
    "    \n",
    "    if gender == \"M\":\n",
    "        return weight*(1-0.015)**duration\n",
    "    else:\n",
    "        return weight*(1-0.012)**duration\n",
    "\n",
    "weightLoss('F', 53, 2)"
   ],
   "outputs": [
    {
     "output_type": "execute_result",
     "data": {
      "text/plain": [
       "51.735632"
      ]
     },
     "metadata": {},
     "execution_count": 19
    }
   ],
   "metadata": {}
  }
 ]
}