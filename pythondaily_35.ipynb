{
 "metadata": {
  "language_info": {
   "codemirror_mode": {
    "name": "ipython",
    "version": 3
   },
   "file_extension": ".py",
   "mimetype": "text/x-python",
   "name": "python",
   "nbconvert_exporter": "python",
   "pygments_lexer": "ipython3",
   "version": "3.8.5"
  },
  "orig_nbformat": 4,
  "kernelspec": {
   "name": "python3",
   "display_name": "Python 3.8.5 64-bit ('base': conda)"
  },
  "interpreter": {
   "hash": "dca0ade3e726a953b501b15e8e990130d2b7799f14cfd9f4271676035ebe5511"
  }
 },
 "nbformat": 4,
 "nbformat_minor": 2,
 "cells": [
  {
   "cell_type": "markdown",
   "source": [
    "## pythondaily_35\n",
    "\n",
    "The factorial of a positive number n is the product of all numbers from 1 to n.\n",
    "\n",
    "5! = 5 x 4 x 3 x 2 x 1 = 120 The semifactorial (also known as the double factorial) of a positive number n is the product of all numbers from 1 to n that have the same parity (i.e. odd or even) as n.\n",
    "\n",
    "12!! = 12 x 10 x 8 x 6 x 4 x 2 = 46,080 7!! = 7 x 5 x 3 x 1 = 105 The alternating factorial of a positive number n is the sum of the consecutive factorials from n to 1, where every other factorial is multiplied by -1.\n",
    "\n",
    "Alternating factorial of 1:\n",
    "\n",
    "af(1) = 1! Alternating factorial of 2:\n",
    "\n",
    "af(2) = 2! + (-1)x(1!) = 2! - 1! = 2 -1 = 1 Alternating factorial of 3:\n",
    "\n",
    "af(3) = 3! - 2! + 1! = 6 - 2 + 1 = 2 Create a function that takes a number n and returns the diﬀerence between the alternating factorial and semifactorial of n.\n",
    "\n",
    "Examples <br>\n",
    "alt_semi(1) ➞ 0 <br>\n",
    "alt_semi(2) ➞ -1 <br>\n",
    "alt_semi(3)➞ 2<br>"
   ],
   "metadata": {}
  },
  {
   "cell_type": "code",
   "execution_count": null,
   "source": [
    "\n"
   ],
   "outputs": [],
   "metadata": {}
  },
  {
   "cell_type": "code",
   "execution_count": null,
   "source": [],
   "outputs": [],
   "metadata": {}
  }
 ]
}