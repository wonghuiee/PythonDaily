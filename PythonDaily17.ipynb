{
 "metadata": {
  "language_info": {
   "codemirror_mode": {
    "name": "ipython",
    "version": 3
   },
   "file_extension": ".py",
   "mimetype": "text/x-python",
   "name": "python",
   "nbconvert_exporter": "python",
   "pygments_lexer": "ipython3",
   "version": "3.8.5"
  },
  "orig_nbformat": 4,
  "kernelspec": {
   "name": "python3",
   "display_name": "Python 3.8.5 64-bit ('base': conda)"
  },
  "interpreter": {
   "hash": "dca0ade3e726a953b501b15e8e990130d2b7799f14cfd9f4271676035ebe5511"
  }
 },
 "nbformat": 4,
 "nbformat_minor": 2,
 "cells": [
  {
   "source": [
    "## pythondaily_17\n",
    "\n",
    "Given a list of 11 integers, return a string in the form of a Hong Kong phone number in this format: +852 xxxx xxxx Only the numbers 2, 3, 5, 6, 7, and 9 can be added after the extension 852.\n",
    "\n",
    "Example 1:\n",
    "\n",
    "Input:\n",
    "\n",
    "[1, 2, 3, 4, 5, 6, 7, 8, 9, 0, 1] Returns:\n",
    "\n",
    "\"+852 9134 6701\""
   ],
   "cell_type": "markdown",
   "metadata": {}
  },
  {
   "cell_type": "code",
   "execution_count": 118,
   "metadata": {},
   "outputs": [
    {
     "output_type": "execute_result",
     "data": {
      "text/plain": [
       "'+852 31691407'"
      ]
     },
     "metadata": {},
     "execution_count": 118
    }
   ],
   "source": [
    "# solution\n",
    "\n",
    "def phoneNumber(inputLst):\n",
    "    \n",
    "    if len(inputLst) != 11:\n",
    "        return \"Wrong format is inputed\"\n",
    "    elif 8 not in inputLst or 5 not in inputLst or 2 not in inputLst:\n",
    "        return \"Wrong format is inputed\"\n",
    "    else:\n",
    "        outputStr = \"+852 \"\n",
    "        inputLst.remove(8)\n",
    "        inputLst.remove(5)\n",
    "        inputLst.remove(2)\n",
    "        \n",
    "        while len(inputLst) != 0:\n",
    "            for num in inputLst:\n",
    "                if len(outputStr) == 5:\n",
    "                    if num == 2 or num == 3 or num == 5 or num ==6 or num == 7 or num ==9:\n",
    "                        outputStr += str(num)\n",
    "                        inputLst.remove(num)\n",
    "                    else:\n",
    "                        continue\n",
    "            if len(outputStr) > 5:\n",
    "                for num in inputLst:\n",
    "                    outputStr += str(num)\n",
    "                    inputLst.remove(num)\n",
    "            else:\n",
    "                return \"Invalid format\"\n",
    "                    \n",
    "        return outputStr\n",
    "        \n",
    "phoneNumber([1, 2, 3, 4, 5, 6, 7, 8, 9, 0, 1])"
   ]
  }
 ]
}