{
 "metadata": {
  "language_info": {
   "codemirror_mode": {
    "name": "ipython",
    "version": 3
   },
   "file_extension": ".py",
   "mimetype": "text/x-python",
   "name": "python",
   "nbconvert_exporter": "python",
   "pygments_lexer": "ipython3",
   "version": "3.8.5"
  },
  "orig_nbformat": 4,
  "kernelspec": {
   "name": "python3",
   "display_name": "Python 3.8.5 64-bit ('base': conda)"
  },
  "interpreter": {
   "hash": "dca0ade3e726a953b501b15e8e990130d2b7799f14cfd9f4271676035ebe5511"
  }
 },
 "nbformat": 4,
 "nbformat_minor": 2,
 "cells": [
  {
   "cell_type": "markdown",
   "source": [
    "## pythondaily_45\n",
    "\n",
    "The goal of this challenge is to return Pascal's triangle up to number 29. Pascal's triangle is the sum of the two upper corners. 111211331 There will always be the 1 in the ﬁrst\n",
    "\n",
    "place and the row in the second.\n",
    "\n",
    "Create a function that returns a row from Pascal's triangle. To ﬁnd the row and column you can use n!/(k!*(n-k)!) where n is the row down and k is the column.\n",
    "\n",
    "Examples <br>\n",
    "pascals_triangle(1) ➞ \"1 1\"<br>\n",
    "pascals_triangle(4) ➞ \"1 4 6 4 1\"<br>\n",
    "pascals_triangle(6) ➞ \"1 6 15 20 15 6 1\"<br>\n",
    "pascals_triangle(8) ➞ \"1 8 28 56 70 56 28 8 1\"<br>"
   ],
   "metadata": {}
  },
  {
   "cell_type": "code",
   "execution_count": 56,
   "source": [
    "def pascals_triangle(rowNum): \n",
    "\n",
    "    lmt = 100\n",
    "    row = []\n",
    "    for i in range(lmt):\n",
    "        row.append([])\n",
    "        row[i].append(1)\n",
    "        for j in range(1, i):\n",
    "            row[i].append(row[i - 1][j - 1] + row[i - 1][j])\n",
    "        if (lmt != 0):\n",
    "            row[i].append(1)\n",
    "\n",
    "    for i in range(0, len(row[rowNum-1])):\n",
    "        print(row[rowNum-1][i], end=\" \")\n",
    "\n",
    "print(pascals_triangle(1))\n",
    "print(pascals_triangle(4))\n",
    "print(pascals_triangle(6))\n",
    "print(pascals_triangle(8))"
   ],
   "outputs": [
    {
     "output_type": "stream",
     "name": "stdout",
     "text": [
      "1 1 None\n",
      "1 3 3 1 None\n",
      "1 5 10 10 5 1 None\n",
      "1 7 21 35 35 21 7 1 None\n"
     ]
    }
   ],
   "metadata": {}
  },
  {
   "cell_type": "markdown",
   "source": [],
   "metadata": {}
  }
 ]
}