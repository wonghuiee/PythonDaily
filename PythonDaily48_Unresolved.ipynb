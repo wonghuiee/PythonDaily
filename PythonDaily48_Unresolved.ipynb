{
 "metadata": {
  "language_info": {
   "codemirror_mode": {
    "name": "ipython",
    "version": 3
   },
   "file_extension": ".py",
   "mimetype": "text/x-python",
   "name": "python",
   "nbconvert_exporter": "python",
   "pygments_lexer": "ipython3",
   "version": "3.8.5"
  },
  "orig_nbformat": 4,
  "kernelspec": {
   "name": "python3",
   "display_name": "Python 3.8.5 64-bit ('base': conda)"
  },
  "interpreter": {
   "hash": "dca0ade3e726a953b501b15e8e990130d2b7799f14cfd9f4271676035ebe5511"
  }
 },
 "nbformat": 4,
 "nbformat_minor": 2,
 "cells": [
  {
   "cell_type": "markdown",
   "source": [
    "## PythonDaily48\n",
    "\n",
    "Suppose any nxm matrix of 0s and 1s can be transformed into a second matrix, where each number in position (i, j) in the new matrix is the sum of 1s in row i and column j in the original matrix, excluding itself (if it is a 1).\n",
    "\n",
    "[[1, 0, 0, 0, 1], [0, 1, 0, 0, 0], [0, 0, 0, 1, 0], [0, 1, 0, 1, 0], [0, 1, 0, 0, 0]]<br>\n",
    "[1, 5, 2, 4, 1], [2, 4, 1, 3, 2], [2, 4, 1, 1, 2], [3, 2, 2, 2, 3], [2, 2, 1, 3, 2]<br>\n",
    "The 1 on the upper left corner has 1 other 1 in the same row as itself (excluding itself).<br>\n",
    "The 0 to the right of the 1 has 2 1's on the same row as itself, and 3 1's in the same column, etc.\n",
    "\n",
    "Create a function that transforms the ﬁrst matrix into its second matrix equivalent.<br>\n",
    "Examples<br>\n",
    "transform_matrix([ [1, 0, 0], [0, 1, 0], [0, 0, 1] ]) ➞ [ [0, 2, 2], [2, 0, 2], [2, 2, 0] ]<br>\n",
    "transform_matrix([ [1, 1, 1], [0, 0, 1], [0, 0, 1] ]) ➞ [ [2, 2, 4], [2, 2, 2], [2, 2, 2] ]<br>\n",
    "transform_matrix([ [1, 1, 1], [0, 1, 1], [0, 0, 1] ]) ➞ [ [2, 3, 4], [3, 2, 3], [2, 3, 2] ]"
   ],
   "metadata": {}
  },
  {
   "cell_type": "code",
   "execution_count": 2,
   "source": [
    "R = 3\n",
    "C = 4\n",
    " \n",
    "def modifyMatrix(mat):\n",
    "    row = [0] * R\n",
    "    col = [0] * C\n",
    "     \n",
    "    # Initialize all values of row[] as 0\n",
    "    for i in range(0, R):\n",
    "        row[i] = 0\n",
    "         \n",
    "    # Initialize all values of col[] as 0\n",
    "    for i in range(0, C) :\n",
    "        col[i] = 0\n",
    " \n",
    " \n",
    "    # Store the rows and columns to be marked\n",
    "    # as 1 in row[] and col[] arrays respectively\n",
    "    for i in range(0, R) :\n",
    "         \n",
    "        for j in range(0, C) :\n",
    "            if (mat[i][j] == 1) :\n",
    "                row[i] = 1\n",
    "                col[j] = 1\n",
    "             \n",
    "    # Modify the input matrix mat[] using the\n",
    "    # above constructed row[] and col[] arrays\n",
    "    for i in range(0, R) :\n",
    "         \n",
    "        for j in range(0, C):\n",
    "            if ( row[i] == 1 or col[j] == 1 ) :\n",
    "                mat[i][j] = 1\n",
    "                 \n",
    "# A utility function to print a 2D matrix\n",
    "def printMatrix(mat) :\n",
    "    for i in range(0, R):\n",
    "         \n",
    "        for j in range(0, C) :\n",
    "            print(mat[i][j], end = \" \")\n",
    "        print()\n",
    "\n",
    "        [1, 0, 0], [0, 1, 0], [0, 0, 1]\n",
    "         \n",
    "# Driver Code\n",
    "mat = [ [1, 0, 0],\n",
    "        [0, 1, 0],\n",
    "        [0, 0, ] ]\n",
    " \n",
    "print(\"Input Matrix n\")\n",
    "printMatrix(mat)\n",
    " \n",
    "modifyMatrix(mat)\n",
    " \n",
    "print(\"Matrix after modification n\")\n",
    "printMatrix(mat)"
   ],
   "outputs": [
    {
     "output_type": "stream",
     "name": "stdout",
     "text": [
      "Input Matrix n\n",
      "1 0 0 "
     ]
    },
    {
     "output_type": "error",
     "ename": "IndexError",
     "evalue": "list index out of range",
     "traceback": [
      "\u001b[0;31m---------------------------------------------------------------------------\u001b[0m",
      "\u001b[0;31mIndexError\u001b[0m                                Traceback (most recent call last)",
      "\u001b[0;32m<ipython-input-2-857fff49e842>\u001b[0m in \u001b[0;36m<module>\u001b[0;34m\u001b[0m\n\u001b[1;32m     48\u001b[0m \u001b[0;34m\u001b[0m\u001b[0m\n\u001b[1;32m     49\u001b[0m \u001b[0mprint\u001b[0m\u001b[0;34m(\u001b[0m\u001b[0;34m\"Input Matrix n\"\u001b[0m\u001b[0;34m)\u001b[0m\u001b[0;34m\u001b[0m\u001b[0;34m\u001b[0m\u001b[0m\n\u001b[0;32m---> 50\u001b[0;31m \u001b[0mprintMatrix\u001b[0m\u001b[0;34m(\u001b[0m\u001b[0mmat\u001b[0m\u001b[0;34m)\u001b[0m\u001b[0;34m\u001b[0m\u001b[0;34m\u001b[0m\u001b[0m\n\u001b[0m\u001b[1;32m     51\u001b[0m \u001b[0;34m\u001b[0m\u001b[0m\n\u001b[1;32m     52\u001b[0m \u001b[0mmodifyMatrix\u001b[0m\u001b[0;34m(\u001b[0m\u001b[0mmat\u001b[0m\u001b[0;34m)\u001b[0m\u001b[0;34m\u001b[0m\u001b[0;34m\u001b[0m\u001b[0m\n",
      "\u001b[0;32m<ipython-input-2-857fff49e842>\u001b[0m in \u001b[0;36mprintMatrix\u001b[0;34m(mat)\u001b[0m\n\u001b[1;32m     37\u001b[0m \u001b[0;34m\u001b[0m\u001b[0m\n\u001b[1;32m     38\u001b[0m         \u001b[0;32mfor\u001b[0m \u001b[0mj\u001b[0m \u001b[0;32min\u001b[0m \u001b[0mrange\u001b[0m\u001b[0;34m(\u001b[0m\u001b[0;36m0\u001b[0m\u001b[0;34m,\u001b[0m \u001b[0mC\u001b[0m\u001b[0;34m)\u001b[0m \u001b[0;34m:\u001b[0m\u001b[0;34m\u001b[0m\u001b[0;34m\u001b[0m\u001b[0m\n\u001b[0;32m---> 39\u001b[0;31m             \u001b[0mprint\u001b[0m\u001b[0;34m(\u001b[0m\u001b[0mmat\u001b[0m\u001b[0;34m[\u001b[0m\u001b[0mi\u001b[0m\u001b[0;34m]\u001b[0m\u001b[0;34m[\u001b[0m\u001b[0mj\u001b[0m\u001b[0;34m]\u001b[0m\u001b[0;34m,\u001b[0m \u001b[0mend\u001b[0m \u001b[0;34m=\u001b[0m \u001b[0;34m\" \"\u001b[0m\u001b[0;34m)\u001b[0m\u001b[0;34m\u001b[0m\u001b[0;34m\u001b[0m\u001b[0m\n\u001b[0m\u001b[1;32m     40\u001b[0m         \u001b[0mprint\u001b[0m\u001b[0;34m(\u001b[0m\u001b[0;34m)\u001b[0m\u001b[0;34m\u001b[0m\u001b[0;34m\u001b[0m\u001b[0m\n\u001b[1;32m     41\u001b[0m \u001b[0;34m\u001b[0m\u001b[0m\n",
      "\u001b[0;31mIndexError\u001b[0m: list index out of range"
     ]
    }
   ],
   "metadata": {}
  },
  {
   "cell_type": "markdown",
   "source": [],
   "metadata": {}
  },
  {
   "cell_type": "markdown",
   "source": [],
   "metadata": {}
  }
 ]
}