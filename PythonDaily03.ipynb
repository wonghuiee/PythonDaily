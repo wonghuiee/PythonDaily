{
 "metadata": {
  "language_info": {
   "codemirror_mode": {
    "name": "ipython",
    "version": 3
   },
   "file_extension": ".py",
   "mimetype": "text/x-python",
   "name": "python",
   "nbconvert_exporter": "python",
   "pygments_lexer": "ipython3",
   "version": "3.8.5"
  },
  "orig_nbformat": 4,
  "kernelspec": {
   "name": "python3",
   "display_name": "Python 3.8.5 64-bit ('base': conda)"
  },
  "interpreter": {
   "hash": "dca0ade3e726a953b501b15e8e990130d2b7799f14cfd9f4271676035ebe5511"
  }
 },
 "nbformat": 4,
 "nbformat_minor": 2,
 "cells": [
  {
   "source": [
    "## pythondaily_03\n",
    "\n",
    "Create a function that calculates how many times an integer can be divided by another given integer. If the answer of resulting divisions does not result in an integer, that division is not counted towards the number of times. As an example:\n",
    "\n",
    "If n is 10 and divisor is 3, since in the first division 10/3 doesn't return an integer, this division doesn't count towards the number of times and therefore its number of times should be 0."
   ],
   "cell_type": "markdown",
   "metadata": {}
  },
  {
   "cell_type": "code",
   "execution_count": 16,
   "metadata": {},
   "outputs": [
    {
     "output_type": "stream",
     "name": "stdout",
     "text": [
      "6\n"
     ]
    }
   ],
   "source": [
    "def divisions(n, divisor):\n",
    "\n",
    "    number_of_times = len([ divisor**i  \n",
    "                            for i in range(1, n) \n",
    "                            if divisor**i <= n and n % divisor**i == 0])\n",
    "\n",
    "    return number_of_times\n",
    "\n",
    "print(divisions(64,2))"
   ]
  },
  {
   "cell_type": "code",
   "execution_count": null,
   "metadata": {},
   "outputs": [],
   "source": []
  }
 ]
}