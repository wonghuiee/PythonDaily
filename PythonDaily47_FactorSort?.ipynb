{
 "metadata": {
  "language_info": {
   "codemirror_mode": {
    "name": "ipython",
    "version": 3
   },
   "file_extension": ".py",
   "mimetype": "text/x-python",
   "name": "python",
   "nbconvert_exporter": "python",
   "pygments_lexer": "ipython3",
   "version": "3.8.5"
  },
  "orig_nbformat": 4,
  "kernelspec": {
   "name": "python3",
   "display_name": "Python 3.8.5 64-bit ('base': conda)"
  },
  "interpreter": {
   "hash": "dca0ade3e726a953b501b15e8e990130d2b7799f14cfd9f4271676035ebe5511"
  }
 },
 "nbformat": 4,
 "nbformat_minor": 2,
 "cells": [
  {
   "cell_type": "markdown",
   "source": [
    "## PythonDaily47\n",
    "\n",
    "A numbers factor length is simply its total number of factors.\n",
    "\n",
    "For instance:\n",
    "3: 1, 3 <br>\n",
    "3's factor length = 2 <br>\n",
    "8: 1, 2, 4, 8 <br>\n",
    "8's factor length = 4<br>\n",
    "36 : 1, 2, 3, 4, 6, 9, 12, 18, 36 <br>\n",
    "36's factor length = 9\n",
    "\n",
    "Create a function that sorts a list by factor length in descending order. <br>\n",
    "If multiple numbers have the same factor length, sort these numbers in descending order, with the largest ﬁrst. <br>\n",
    "\n",
    "In the example below, since 13 and 7 both have only 2 factors, we put 13 ahead of 7. <br>\n",
    "factor_sort([9, 7, 13, 12]) ➞ [12, 9, 13, 7]<br>\n",
    "12 : 6, 9: 3, 13: 2, 7: 2\n",
    "\n",
    "Examples  <br>\n",
    "factor_sort([1, 2, 31, 4]) ➞ [4, 31, 2, 1] <br>\n",
    "factor_sort([5, 7, 9]) ➞ [9, 7, 5] <br>\n",
    "factor_sort([15, 8, 2, 3]) ➞ [15, 8, 3, 2]\n",
    "\n",
    "https://www.geeksforgeeks.org/sort-elements-basis-number-factors/"
   ],
   "metadata": {}
  },
  {
   "cell_type": "code",
   "execution_count": 179,
   "source": [
    "def getFactors(n):\n",
    "    # Create an empty list for factors\n",
    "    factors=[];\n",
    "\n",
    "    # Loop over all factors\n",
    "    for i in range(1, n + 1):\n",
    "        if n % i == 0:\n",
    "            factors.append(i)\n",
    "\n",
    "    # Return the list of factors\n",
    "    return factors\n",
    "\n",
    "# Call the function with a given value\n",
    "print (getFactors(9))"
   ],
   "outputs": [
    {
     "output_type": "stream",
     "name": "stdout",
     "text": [
      "[1, 3, 9]\n"
     ]
    }
   ],
   "metadata": {}
  },
  {
   "cell_type": "code",
   "execution_count": 143,
   "source": [
    "# test \n",
    "numLst = [9, 7, 13, 12]\n",
    "a = [i for i in range(1, numLst[0]+1) if numLst[0]%i==0]\n",
    "len(a)"
   ],
   "outputs": [
    {
     "output_type": "execute_result",
     "data": {
      "text/plain": [
       "3"
      ]
     },
     "metadata": {},
     "execution_count": 143
    }
   ],
   "metadata": {}
  },
  {
   "cell_type": "code",
   "execution_count": 181,
   "source": [
    "# test\n",
    "\n",
    "numLst = [9, 7, 13, 12]\n",
    "\n",
    "count = 0\n",
    "for i in range(1, numLst[0]+1):\n",
    "    if numLst[0]%i == 0:\n",
    "        count += 1\n",
    "print(count)\n",
    "\n",
    "count = 0\n",
    "for i in range(1, numLst[1]+1):\n",
    "    if numLst[1]%i == 0:\n",
    "        count += 1\n",
    "print(count)\n",
    "\n",
    "count = 0\n",
    "for i in range(1, numLst[2]+1):\n",
    "    if numLst[2]%i == 0:\n",
    "        count += 1\n",
    "print(count)\n",
    "\n",
    "count = 0\n",
    "for i in range(1, numLst[3]+1):\n",
    "    if numLst[3]%i == 0:\n",
    "        count += 1\n",
    "print(count)\n",
    "\n",
    "\n",
    "        \n"
   ],
   "outputs": [
    {
     "output_type": "stream",
     "name": "stdout",
     "text": [
      "3\n",
      "2\n",
      "2\n",
      "6\n"
     ]
    }
   ],
   "metadata": {}
  },
  {
   "cell_type": "markdown",
   "source": [],
   "metadata": {}
  }
 ]
}