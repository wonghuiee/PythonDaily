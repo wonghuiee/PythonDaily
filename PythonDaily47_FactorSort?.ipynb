{
 "metadata": {
  "language_info": {
   "codemirror_mode": {
    "name": "ipython",
    "version": 3
   },
   "file_extension": ".py",
   "mimetype": "text/x-python",
   "name": "python",
   "nbconvert_exporter": "python",
   "pygments_lexer": "ipython3",
   "version": "3.8.5"
  },
  "orig_nbformat": 4,
  "kernelspec": {
   "name": "python3",
   "display_name": "Python 3.8.5 64-bit ('base': conda)"
  },
  "interpreter": {
   "hash": "dca0ade3e726a953b501b15e8e990130d2b7799f14cfd9f4271676035ebe5511"
  }
 },
 "nbformat": 4,
 "nbformat_minor": 2,
 "cells": [
  {
   "cell_type": "markdown",
   "source": [
    "## PythonDaily47\n",
    "\n",
    "A numbers factor length is simply its total number of factors.\n",
    "\n",
    "For instance:\n",
    "3: 1, 3 <br>\n",
    "3's factor length = 2 <br>\n",
    "8: 1, 2, 4, 8 <br>\n",
    "8's factor length = 4<br>\n",
    "36 : 1, 2, 3, 4, 6, 9, 12, 18, 36 <br>\n",
    "36's factor length = 9\n",
    "\n",
    "Create a function that sorts a list by factor length in descending order. <br>\n",
    "If multiple numbers have the same factor length, sort these numbers in descending order, with the largest ﬁrst. <br>\n",
    "\n",
    "In the example below, since 13 and 7 both have only 2 factors, we put 13 ahead of 7. <br>\n",
    "factor_sort([9, 7, 13, 12]) ➞ [12, 9, 13, 7]<br>\n",
    "12 : 6, 9: 3, 13: 2, 7: 2\n",
    "\n",
    "Examples  <br>\n",
    "factor_sort([1, 2, 31, 4]) ➞ [4, 31, 2, 1] <br>\n",
    "factor_sort([5, 7, 9]) ➞ [9, 7, 5] <br>\n",
    "factor_sort([15, 8, 2, 3]) ➞ [15, 8, 3, 2]\n",
    "\n",
    "https://www.geeksforgeeks.org/sort-elements-basis-number-factors/"
   ],
   "metadata": {}
  },
  {
   "cell_type": "code",
   "execution_count": 83,
   "source": [
    "def factorSort(numLst):\n",
    "\n",
    "    countLst = []\n",
    "    for num in numLst:\n",
    "        count=0\n",
    "        for i in range(1, num+1):\n",
    "            if num % i == 0:\n",
    "                count += 1\n",
    "        countLst.append(count)\n",
    "\n",
    "    numDict = {}\n",
    "    for key in numLst:\n",
    "        for value in countLst:\n",
    "            numDict[key] = value\n",
    "            countLst.remove(value)\n",
    "            break\n",
    "    \n",
    "    numDict = {k: v for k,v in sorted(numDict.items(), key=lambda item: (item[1], item[0]), reverse=True)}\n",
    "    return [*numDict]\n",
    "\n",
    "print( factorSort([9, 7, 13, 12]) )\n",
    "print( factorSort([1, 2, 31, 4]) )\n",
    "print( factorSort([5, 7, 9]) )\n",
    "print( factorSort([15, 8, 2, 3]) )\n"
   ],
   "outputs": [
    {
     "output_type": "stream",
     "name": "stdout",
     "text": [
      "[12, 9, 13, 7]\n",
      "[4, 31, 2, 1]\n",
      "[9, 7, 5]\n",
      "[15, 8, 3, 2]\n"
     ]
    }
   ],
   "metadata": {}
  }
 ]
}