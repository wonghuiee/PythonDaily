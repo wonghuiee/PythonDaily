{
 "metadata": {
  "language_info": {
   "codemirror_mode": {
    "name": "ipython",
    "version": 3
   },
   "file_extension": ".py",
   "mimetype": "text/x-python",
   "name": "python",
   "nbconvert_exporter": "python",
   "pygments_lexer": "ipython3",
   "version": "3.8.5"
  },
  "orig_nbformat": 4,
  "kernelspec": {
   "name": "python3",
   "display_name": "Python 3.8.5 64-bit ('base': conda)"
  },
  "interpreter": {
   "hash": "dca0ade3e726a953b501b15e8e990130d2b7799f14cfd9f4271676035ebe5511"
  }
 },
 "nbformat": 4,
 "nbformat_minor": 2,
 "cells": [
  {
   "cell_type": "markdown",
   "source": [
    "## PythonDaily34\n",
    "\n",
    "In this challenge, you have to establish if a positive integer is a Modest number, accordingly to the following algorithm:\n",
    "\n",
    "Divide the number into two left and right partitions. For each combination of left and right parts, you have to check if a condition is true: the remainder of the number divided by the right part is equal to the left part. If at least a combination of two parts satisﬁes the above condition, the number is Modest, otherwise, it's not. Given an integer num, implement a function that returns True if num is a Modest number, or False if it's not.\n",
    "\n",
    "Example #1 <br>\n",
    "is_modest(2036) ➞ True <br>\n",
    "Combination 1: Left = 2 | Right = 036 = 36 (Leading zeros are not considered) <br>Number (2036) % Right (36) = 20 != Left (2) <br> Combination 2: Left = 20 | Right = 36<br>\n",
    "Number (2036) % Right (36) = 20 = Left (20) <br>\n",
    "At least a combination satisﬁes the condition <br>\n",
    "It's a Modest number \n",
    "\n",
    "Example #2<br>\n",
    "is_modest(3412) ➞ False  <br>\n",
    "Combination 1: Left = 3 | Right = 412\n",
    "3412 % 412 = 116 != Left  <br>\n",
    "Combination 2: Left = 34 | Right = 12 <br>\n",
    "3412 % 12 = 4 != Left <br> \n",
    "Combination 3: Left = 341 | Right = 2 <br>\n",
    "3412 % 2 = 0 != Left  <br>\n",
    "It's not a Modest number  <br>\n",
    "Notice how left and right parts are made: <br>\n",
    "They are not permutations or combinations... <br>\n",
    "..but partitions of consecutive digits. <br>\n",
    "\n",
    "Example #3 <br>\n",
    "is_modest(21333) ➞ True  <br>\n",
    "Combination 1: Left = 2 | Right = 1333 21333 % 1333 = 5 != Left  <br>\n",
    "Combination 2: Left = 21 | Right = 333 21333 % 333 = 21 = Left  <br>\n",
    "At least a combination satisﬁes the condition  <br>\n",
    "It's a Modest number \n",
    "\n",
    "Example #4 is_modest(8) ➞ False  <br>\n",
    "An integer with less than two digits can't be partitioned. <br>"
   ],
   "metadata": {}
  },
  {
   "cell_type": "code",
   "execution_count": null,
   "source": [
    "# visualise\n",
    "\n",
    "2 .. 1333\n",
    "21333 % 1333 = 5\n",
    "\n",
    "21 .. 333\n",
    "21333 % 333 = 21\n",
    "\n",
    "213 .. 33\n",
    "21333 % 33 = 15\n",
    "\n",
    "2133 .. 3\n",
    "21333 % 3 = 0"
   ],
   "outputs": [],
   "metadata": {}
  },
  {
   "cell_type": "code",
   "execution_count": 1,
   "source": [
    "# stackoverflow solution\n",
    "\n",
    "def isModest(num):\n",
    "\n",
    "    if num<10: \n",
    "        return \"cannot split\"\n",
    "\n",
    "    p10 = 10\n",
    "    while p10 < num:\n",
    "        a,b = divmod(num,p10) # first iteration 2133, 3\n",
    "        if b and num%b == a:\n",
    "            return True\n",
    "        p10 *= 10 # first iteration p10=10*10=100\n",
    "    return False\n",
    "\n",
    "print(isModest(2036))\n",
    "print(isModest(3412))\n",
    "print(isModest(21333))\n",
    "print(isModest(8))\n",
    "\n",
    "# for n in range(1,100):\n",
    "#     if isModest(n) is True: print(n)"
   ],
   "outputs": [
    {
     "output_type": "stream",
     "name": "stdout",
     "text": [
      "True\n",
      "False\n",
      "True\n",
      "cannot split\n"
     ]
    }
   ],
   "metadata": {}
  },
  {
   "cell_type": "code",
   "execution_count": 4,
   "source": [
    "# solution\n",
    "\n",
    "def isModest(num):\n",
    "    \n",
    "    numStr = str(num)\n",
    "    numLen = len(numStr)\n",
    "    if num<10:\n",
    "        return \"cannot split\"\n",
    "        \n",
    "    while numLen > 1:\n",
    "        for i in range(1, numLen):\n",
    "            rem = num % (int(numStr[i:])) # 5, 21, 15, 0\n",
    "            if rem == int(numStr[:i]):\n",
    "                return True\n",
    "        else:\n",
    "            return False\n",
    "        \n",
    "print(isModest(2036))\n",
    "print(isModest(3412))\n",
    "print(isModest(21333))\n",
    "print(isModest(8))"
   ],
   "outputs": [
    {
     "output_type": "stream",
     "name": "stdout",
     "text": [
      "True\n",
      "False\n",
      "True\n",
      "cannot split\n"
     ]
    }
   ],
   "metadata": {}
  }
 ]
}