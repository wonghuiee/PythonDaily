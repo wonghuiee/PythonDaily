{
 "metadata": {
  "language_info": {
   "codemirror_mode": {
    "name": "ipython",
    "version": 3
   },
   "file_extension": ".py",
   "mimetype": "text/x-python",
   "name": "python",
   "nbconvert_exporter": "python",
   "pygments_lexer": "ipython3",
   "version": "3.8.5"
  },
  "orig_nbformat": 4,
  "kernelspec": {
   "name": "python3",
   "display_name": "Python 3.8.5 64-bit ('base': conda)"
  },
  "interpreter": {
   "hash": "dca0ade3e726a953b501b15e8e990130d2b7799f14cfd9f4271676035ebe5511"
  }
 },
 "nbformat": 4,
 "nbformat_minor": 2,
 "cells": [
  {
   "cell_type": "markdown",
   "source": [
    "## PythonDaily21\n",
    "\n",
    "Given a list of mixed integers of different representations, add up the non-string integers and subtract this from the total of string integers.\n",
    "\n",
    "Example:\n",
    "\n",
    "Input:<br>\n",
    "[1, '2', 3, '4', 5] <br>\n",
    "Output:<br>\n",
    "-3, \n",
    "\n",
    "because:<br>\n",
    "total of non-string integers = 1+3+5 = 9 <br>\n",
    "total of string integers = 2+4 = 6 <br>\n",
    "total of string integers - total of non-string integers = -3"
   ],
   "metadata": {}
  },
  {
   "cell_type": "code",
   "execution_count": 9,
   "source": [
    "def outputTot(inputLst):\n",
    "\n",
    "    totalNonStr = 0\n",
    "    totalStr = 0\n",
    "\n",
    "    for i in inputLst:\n",
    "        if type(i) == int:\n",
    "        # if isinstance(i, int):\n",
    "            totalNonStr += i\n",
    "        if type(i) == str:\n",
    "        # if isinstance(i, str):\n",
    "            totalStr += int(i)\n",
    "\n",
    "    return totalStr - totalNonStr\n",
    "\n",
    "outputTot([1, '2', 3, '4', 5])\n"
   ],
   "outputs": [
    {
     "output_type": "execute_result",
     "data": {
      "text/plain": [
       "-3"
      ]
     },
     "metadata": {},
     "execution_count": 9
    }
   ],
   "metadata": {}
  }
 ]
}