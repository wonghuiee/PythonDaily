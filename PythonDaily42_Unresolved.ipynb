{
 "metadata": {
  "language_info": {
   "codemirror_mode": {
    "name": "ipython",
    "version": 3
   },
   "file_extension": ".py",
   "mimetype": "text/x-python",
   "name": "python",
   "nbconvert_exporter": "python",
   "pygments_lexer": "ipython3",
   "version": "3.8.5"
  },
  "orig_nbformat": 4,
  "kernelspec": {
   "name": "python3",
   "display_name": "Python 3.8.5 64-bit ('base': conda)"
  },
  "interpreter": {
   "hash": "dca0ade3e726a953b501b15e8e990130d2b7799f14cfd9f4271676035ebe5511"
  }
 },
 "nbformat": 4,
 "nbformat_minor": 2,
 "cells": [
  {
   "cell_type": "markdown",
   "source": [
    "## PythonDaily42\n",
    "\n",
    "Write a function that replaces each integer with the next largest in the list.<br>\n",
    "Examples<br>\n",
    "replace_next_largest([5, 7, 3, 2, 8]) ➞ [7, 8, 5, 3, -1]<br>\n",
    "replace_next_largest([2, 3, 4, 5]) ➞ [3, 4, 5, -1]<br>\n",
    "replace_next_largest([1, 0, -1, 8, -72]) ➞ [8, 1, 0, -1, -1]<br>"
   ],
   "metadata": {}
  },
  {
   "cell_type": "code",
   "execution_count": 117,
   "source": [
    "def replace_next_largest(arr):\n",
    "    n = len(arr)\n",
    "  \n",
    "    for i in range(n-1):\n",
    "        for j in range(0, n-i-1):\n",
    "            # print(arr[i], arr[j])\n",
    "            if arr[j] > arr[i] :\n",
    "                arr[i] = arr[j]\n",
    "\n",
    "    return arr\n",
    "  \n",
    "# Driver code to test above\n",
    "arr = [5, 7, 3, 2, 8]\n",
    "replace_next_largest(arr)"
   ],
   "outputs": [
    {
     "output_type": "execute_result",
     "data": {
      "text/plain": [
       "[7, 7, 7, 7, 8]"
      ]
     },
     "metadata": {},
     "execution_count": 117
    }
   ],
   "metadata": {}
  },
  {
   "cell_type": "markdown",
   "source": [],
   "metadata": {}
  }
 ]
}