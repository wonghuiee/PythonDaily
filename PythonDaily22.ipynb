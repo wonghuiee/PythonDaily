{
 "metadata": {
  "language_info": {
   "codemirror_mode": {
    "name": "ipython",
    "version": 3
   },
   "file_extension": ".py",
   "mimetype": "text/x-python",
   "name": "python",
   "nbconvert_exporter": "python",
   "pygments_lexer": "ipython3",
   "version": "3.8.5"
  },
  "orig_nbformat": 4,
  "kernelspec": {
   "name": "python3",
   "display_name": "Python 3.8.5 64-bit ('base': conda)"
  },
  "interpreter": {
   "hash": "dca0ade3e726a953b501b15e8e990130d2b7799f14cfd9f4271676035ebe5511"
  }
 },
 "nbformat": 4,
 "nbformat_minor": 2,
 "cells": [
  {
   "cell_type": "markdown",
   "source": [
    "## PythonDaily22\n",
    "\n",
    "Given a string of decimal digits, output an integer of its binary representation like below:\n",
    "\n",
    "Example:\n",
    "\n",
    "Input:<br>\n",
    "\"2973\" <br>\n",
    "\"2\" => 10 <br>\n",
    "\"9\" => 1001<br>\n",
    "\"7\" => 111<br>\n",
    "\"3\" => 11<br>\n",
    "Therefore output is 10100111111,<br>\n",
    "because of 10+1001+111+11."
   ],
   "metadata": {}
  },
  {
   "cell_type": "code",
   "execution_count": 28,
   "source": [
    "def binaryCombo(inputStr):\n",
    "\n",
    "    outputStr = \"\"\n",
    "    for i in inputStr:\n",
    "        binary = bin(int(i))[2:]\n",
    "        outputStr += binary\n",
    "    return outputStr\n",
    "\n",
    "binaryCombo(\"2973\")"
   ],
   "outputs": [
    {
     "output_type": "execute_result",
     "data": {
      "text/plain": [
       "'10100111111'"
      ]
     },
     "metadata": {},
     "execution_count": 28
    }
   ],
   "metadata": {}
  }
 ]
}