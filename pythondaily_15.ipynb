{
 "metadata": {
  "language_info": {
   "codemirror_mode": {
    "name": "ipython",
    "version": 3
   },
   "file_extension": ".py",
   "mimetype": "text/x-python",
   "name": "python",
   "nbconvert_exporter": "python",
   "pygments_lexer": "ipython3",
   "version": "3.8.5"
  },
  "orig_nbformat": 4,
  "kernelspec": {
   "name": "python3",
   "display_name": "Python 3.8.5 64-bit ('base': conda)"
  },
  "interpreter": {
   "hash": "dca0ade3e726a953b501b15e8e990130d2b7799f14cfd9f4271676035ebe5511"
  }
 },
 "nbformat": 4,
 "nbformat_minor": 2,
 "cells": [
  {
   "source": [
    "## pythondaily_15\n",
    "\n",
    "Given two lists of any data type, return a list that combines the two lists by alternating the elements passed. The input lists can be of different lengths.\n",
    "\n",
    "Example 1:\n",
    "\n",
    "Input lists:\n",
    "\n",
    "[1, 2, 3, 4, 5] ['a', 'b', 'c', 'd', 'e'] Returns:\n",
    "\n",
    "[1, 'a', 2, b', 3, 'c', 4, 'd', 5, 'e']\n",
    "\n",
    "Example 2:\n",
    "\n",
    "Input lists:\n",
    "\n",
    "[1, 2, 3] ['a', 'b', 'c', 'd', 'e'] Returns:\n",
    "\n",
    "[1, 'a', 2, 'b', 3, 'c', 'd', 'e']\n",
    "\n",
    "Example 3: Input lists:\n",
    "\n",
    "[1, 2, 3, 4, 5] ['a', 'b'] Returns:\n",
    "\n",
    "[1, 'a', 2, 'b', 3, 4, 5]"
   ],
   "cell_type": "markdown",
   "metadata": {}
  },
  {
   "cell_type": "code",
   "execution_count": 30,
   "metadata": {},
   "outputs": [
    {
     "output_type": "stream",
     "name": "stdout",
     "text": [
      "[1, 'a', 2, 'b', 3, 'c', 4, 'd', 5, 'e']\n[1, 'a', 2, 'b', 3, 'c', 'd', 'e']\n[1, 'a', 2, 'b', 3, 4, 5]\n"
     ]
    }
   ],
   "source": [
    "def alternateLst(lst1, lst2):\n",
    "\n",
    "    outputLst = []\n",
    "\n",
    "    for x, y in zip(lst1, lst2):\n",
    "        outputLst.append(x)\n",
    "        outputLst.append(y)\n",
    "    \n",
    "    outputLst.extend(lst1[len(lst2):])\n",
    "    outputLst.extend(lst2[len(lst1):])\n",
    "\n",
    "    return outputLst\n",
    "\n",
    "print(alternateLst([1, 2, 3, 4, 5], ['a', 'b', 'c', 'd', 'e']))\n",
    "print(alternateLst([1, 2, 3],['a', 'b', 'c', 'd', 'e'] ))\n",
    "print(alternateLst([1, 2, 3, 4, 5], ['a', 'b'] ))\n"
   ]
  }
 ]
}