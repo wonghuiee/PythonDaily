{
 "metadata": {
  "language_info": {
   "codemirror_mode": {
    "name": "ipython",
    "version": 3
   },
   "file_extension": ".py",
   "mimetype": "text/x-python",
   "name": "python",
   "nbconvert_exporter": "python",
   "pygments_lexer": "ipython3",
   "version": "3.8.5"
  },
  "orig_nbformat": 4,
  "kernelspec": {
   "name": "python3",
   "display_name": "Python 3.8.5 64-bit ('base': conda)"
  },
  "interpreter": {
   "hash": "dca0ade3e726a953b501b15e8e990130d2b7799f14cfd9f4271676035ebe5511"
  }
 },
 "nbformat": 4,
 "nbformat_minor": 2,
 "cells": [
  {
   "source": [
    "## pythondaily_05\n",
    "\n",
    "Create a function that given an n positive integer, it sums all the cubed values from 1 to n. Return the sum."
   ],
   "cell_type": "markdown",
   "metadata": {}
  },
  {
   "cell_type": "code",
   "execution_count": null,
   "metadata": {},
   "outputs": [],
   "source": [
    "#test\n",
    "sum = 0\n",
    "sum = 0 + (1**3) = 1\n",
    "sum = 1 + (2**3) = 8\n",
    "sum = 8 + (3**3) = 27"
   ]
  },
  {
   "cell_type": "code",
   "execution_count": 31,
   "metadata": {},
   "outputs": [
    {
     "output_type": "execute_result",
     "data": {
      "text/plain": [
       "36"
      ]
     },
     "metadata": {},
     "execution_count": 31
    }
   ],
   "source": [
    "sum = 0\n",
    "\n",
    "def sum_cubes(n):\n",
    "    sum = 0\n",
    "    for i in range(1, n+1):\n",
    "        sum += (i**3)\n",
    "    return sum\n",
    "\n",
    "sum_cubes(3)"
   ]
  }
 ]
}