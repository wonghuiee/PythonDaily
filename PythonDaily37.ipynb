{
 "metadata": {
  "language_info": {
   "codemirror_mode": {
    "name": "ipython",
    "version": 3
   },
   "file_extension": ".py",
   "mimetype": "text/x-python",
   "name": "python",
   "nbconvert_exporter": "python",
   "pygments_lexer": "ipython3",
   "version": "3.8.5"
  },
  "orig_nbformat": 4,
  "kernelspec": {
   "name": "python3",
   "display_name": "Python 3.8.5 64-bit ('base': conda)"
  },
  "interpreter": {
   "hash": "dca0ade3e726a953b501b15e8e990130d2b7799f14cfd9f4271676035ebe5511"
  }
 },
 "nbformat": 4,
 "nbformat_minor": 2,
 "cells": [
  {
   "cell_type": "markdown",
   "source": [
    "## PythonDaily37\n",
    "https://iamketan.wordpress.com/2020/10/03/standard-competition-ranking-edabit/\n",
    "\n",
    "Standard competition ranking (also known as \"1224\" ranking) assigns the same rank to matching values. Rank numbers are increased each time, so ranks are sometimes skipped. If we have 5 scores (the highest score having a rank of 1):\n",
    "\n",
    "No matching values:\n",
    "\n",
    "Scores = [99, 98, 97, 96, 95] Rank = 1, 2, 3, 4, 5 With matching values:\n",
    "\n",
    "Scores = [99, 98, 98, 96, 95] Rank = 1, 2, 2, 4, 5 Second and third scores are equal, so rank \"3\" is skipped.\n",
    "\n",
    "Given a dictionary containing the names and scores of 5 competitors, and a competitor name, return the rank of that competitor after applying competition ranking.\n",
    "\n",
    "Examples<br>\n",
    "competition_rank({ \"George\": 96, \"Emily\": 95, \"Susan\": 93, \"Jane\": 89, \"Brett\": 82 }, \"Jane\") ➞ 4<br>\n",
    "competition_rank({ \"Kate\": 92, \"Carol\": 92, \"Jess\": 87, \"Bruce\": 87, \"Scott\": 84 }, \"Bruce\") ➞ 3<br>"
   ],
   "metadata": {}
  },
  {
   "cell_type": "code",
   "execution_count": 72,
   "source": [
    "# test -- sort ranking without tied scores\n",
    "\n",
    "scoresDict = { \"George\": 96, \"Emily\": 95, \"Susan\": 93, \"Jane\": 89, \"Brett\": 82 }\n",
    "scoresDictRank = { key: rank for rank, key in enumerate(sorted(scoresDict, key=scoresDict.get, reverse=True), 1) }\n",
    "# scoresDictRank --> {'George': 1, 'Emily': 2, 'Susan': 3, 'Jane': 4, 'Brett': 5}\n",
    "scoresDictRank.get(\"Jane\")"
   ],
   "outputs": [
    {
     "output_type": "execute_result",
     "data": {
      "text/plain": [
       "4"
      ]
     },
     "metadata": {},
     "execution_count": 72
    }
   ],
   "metadata": {}
  },
  {
   "cell_type": "code",
   "execution_count": 77,
   "source": [
    "# test - sort ranking with tied scores\n",
    "\n",
    "scoresDict = { \"Kate\": 92, \"Carol\": 92, \"Jess\": 87, \"Bruce\": 87, \"Scott\": 84 }\n",
    "scoresKeyRank = { key: rank for rank, key in enumerate(sorted(set(scoresDict.values()), reverse=True), 1) }\n",
    "# scoresDictRank --> {92: 1, 87: 2, 84: 3}\n",
    "scoresDictRank = {key: scoresKeyRank[value] for key, value in scoresDict.items()}\n",
    "# scoresDictRank --> {'Kate': 1, 'Carol': 1, 'Jess': 2, 'Bruce': 2, 'Scott': 3}\n",
    "scoresDictRank.get(\"Bruce\")"
   ],
   "outputs": [
    {
     "output_type": "execute_result",
     "data": {
      "text/plain": [
       "2"
      ]
     },
     "metadata": {},
     "execution_count": 77
    }
   ],
   "metadata": {}
  },
  {
   "cell_type": "code",
   "execution_count": 184,
   "source": [
    "# test -- sort ranking in list format\n",
    "\n",
    "score = [99, 98, 98, 96, 95]\n",
    "rank = lambda arr: list(map(lambda i: sorted(arr, reverse=True).index(i)+1, arr))\n",
    "rank(score)"
   ],
   "outputs": [
    {
     "output_type": "execute_result",
     "data": {
      "text/plain": [
       "[1, 2, 2, 4, 5]"
      ]
     },
     "metadata": {},
     "execution_count": 184
    }
   ],
   "metadata": {}
  },
  {
   "cell_type": "code",
   "execution_count": 214,
   "source": [
    "scoresDict = { \"Kate\": 92, \"Carol\": 92, \"Jess\": 87, \"Bruce\": 87, \"Scott\": 84 }\n",
    "print(scoresDict.values())\n",
    "scoresKeyRank = { key: rank for rank, key in enumerate(sorted(scoresDict.values(), reverse=True), 1) }\n",
    "scoresKeyRank\n",
    "# scoresDictRank = {key: scoresKeyRank[value] for key, value in scoresDict.items()}\n",
    "# # scoresDictRank --> {'Kate': 1, 'Carol': 1, 'Jess': 2, 'Bruce': 2, 'Scott': 3}\n",
    "# scoresDictRank.get(\"Bruce\")\n",
    "\n",
    "for rank, key in enumerate(sorted(scoresDict.values(), reverse=True), 1):\n",
    "    print(rank, key)\n",
    "    \n",
    "    "
   ],
   "outputs": [
    {
     "output_type": "stream",
     "name": "stdout",
     "text": [
      "dict_values([92, 92, 87, 87, 84])\n",
      "1 92\n",
      "2 92\n",
      "3 87\n",
      "4 87\n",
      "5 84\n"
     ]
    }
   ],
   "metadata": {}
  },
  {
   "cell_type": "code",
   "execution_count": 149,
   "source": [
    "# reference\n",
    "# https://stackoverflow.com/questions/3071415/efficient-method-to-calculate-the-rank-vector-of-a-list-in-python\n",
    "\n",
    "def rank_simple(vector):\n",
    "    return sorted(range(len(vector)), key=vector.__getitem__)\n",
    "\n",
    "def rankdata(a):\n",
    "    n = len(a)\n",
    "    ivec=rank_simple(a)\n",
    "    svec=[a[rank] for rank in ivec]\n",
    "    sumranks = 0\n",
    "    dupcount = 0\n",
    "    newarray = [0]*n\n",
    "    for i in range(n):\n",
    "        sumranks += i\n",
    "        dupcount += 1\n",
    "        if i==n-1 or svec[i] != svec[i+1]:\n",
    "            averank = sumranks / float(dupcount) + 1\n",
    "            for j in range(i-dupcount+1,i+1):\n",
    "                newarray[ivec[j]] = averank\n",
    "            sumranks = 0\n",
    "            dupcount = 0\n",
    "    return newarray\n",
    "\n",
    "print(rankdata([1, 2, 3, 3, 3, 4, 5]))\n",
    "# [1.0, 2.0, 4.0, 4.0, 4.0, 6.0, 7.0]"
   ],
   "outputs": [
    {
     "output_type": "stream",
     "name": "stdout",
     "text": [
      "[1.0, 2.0, 4.0, 4.0, 4.0, 6.0, 7.0]\n"
     ]
    }
   ],
   "metadata": {}
  }
 ]
}