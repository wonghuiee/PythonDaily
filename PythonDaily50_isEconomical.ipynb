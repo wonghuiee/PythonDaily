{
 "metadata": {
  "language_info": {
   "codemirror_mode": {
    "name": "ipython",
    "version": 3
   },
   "file_extension": ".py",
   "mimetype": "text/x-python",
   "name": "python",
   "nbconvert_exporter": "python",
   "pygments_lexer": "ipython3",
   "version": "3.8.5"
  },
  "orig_nbformat": 4,
  "kernelspec": {
   "name": "python3",
   "display_name": "Python 3.8.5 64-bit ('base': conda)"
  },
  "interpreter": {
   "hash": "dca0ade3e726a953b501b15e8e990130d2b7799f14cfd9f4271676035ebe5511"
  }
 },
 "nbformat": 4,
 "nbformat_minor": 2,
 "cells": [
  {
   "cell_type": "markdown",
   "source": [
    "## PythonDaily50\n",
    "\n",
    "A number is Economical if the quantity of digits of its prime factorization (including exponents greater than 1) is equal to or lower than the digit quantity of the number itself.\n",
    "\n",
    "Given an integer n, implement a function that returns a string:\n",
    "\n",
    "\"Equidigital\" if the quantity of digits of the prime factorization (including exponents greater than 1) is equal to the quantity of digits of n;<br>\n",
    "\"Frugal\" if the quantity of digits of the prime factorization (including exponents greater than 1) is lower than the quantity of digits of n;<br>\n",
    "\"Wasteful\" if none of the two above conditions is true. \n",
    "\n",
    "Examples<br>\n",
    "is_economical(14) ➞ \"Equidigital\" <br>\n",
    "The prime factorization of 14 (2 digits) is [2, 7] (2 digits)\n",
    "\n",
    "Exponents equal to 1 are not counted\n",
    "\n",
    "is_economical(125) ➞ \"Frugal\" \n",
    "The prime factorization of 125 (3 digits) is [5^3] (2 digits)<br>\n",
    "Notice how exponents greater than 1 are counted\n",
    "\n",
    "is_economical(1024) ➞ \"Frugal\" <br>\n",
    "The prime factorization of 1024 (4 digits) is [2^10] (3 digits)\n",
    "\n",
    "is_economical(30) ➞ \"Wasteful\" <br>\n",
    "The prime factorization of 30 (2 digits) is [2, 3, 5] (3 digits)\n",
    "\n",
    "REF<br>\n",
    "https://www.geeksforgeeks.org/print-all-prime-factors-of-a-given-number/"
   ],
   "metadata": {}
  },
  {
   "cell_type": "code",
   "execution_count": 24,
   "source": [
    "# prime factor list\n",
    "def primeFactor(num):\n",
    "\n",
    "    i = 2\n",
    "    factLst = []\n",
    "\n",
    "    while i * i <= num:\n",
    "        if num % i:\n",
    "            i += 1\n",
    "        else:\n",
    "            num //= i\n",
    "            factLst.append(i)\n",
    "    if num > 1:\n",
    "        factLst.append(num)\n",
    "\n",
    "    return factLst\n",
    "    # [2, 2, 2, 2, 2, 2, 2, 2, 2, 2]\n",
    "\n",
    "# check isEconomical\n",
    "def isEconomical(num):\n",
    "\n",
    "    # sum of digits of the prime factorisation -- dictionary format\n",
    "    count = {i: primeFactor(num).count(i) for i in primeFactor(num)} # {2: 10}\n",
    "    print(\"Sum of Digits of Prime Factorisation\", count, \"Sum of Digits of Num\", num)\n",
    "\n",
    "    # sum of digits of the prime factorisation\n",
    "    lenSum = 0\n",
    "    for k, v in count.items():\n",
    "        lenSum += len(str(k)) + len(str(v)) # 3\n",
    "        # remove exponants greater than 1\n",
    "        if len(str(v)) == 1:\n",
    "            lenSum -= 1\n",
    "\n",
    "    # check isEconomical\n",
    "    if lenSum == len(str(num)):\n",
    "        return \"Equidigital\", lenSum, len(str(num))\n",
    "    elif lenSum < len(str(num)):\n",
    "        return \"Frugal\", lenSum, len(str(num))\n",
    "    else:\n",
    "        return \"Wasteful\", lenSum, len(str(num))\n",
    "\n",
    "print( isEconomical(14) )\n",
    "print( isEconomical(125) ) # wrong\n",
    "print( isEconomical(1024) )\n",
    "print( isEconomical(30) )\n"
   ],
   "outputs": [
    {
     "output_type": "stream",
     "name": "stdout",
     "text": [
      "Sum of Digits of Prime Factorisation {2: 1, 7: 1} Sum of Digits of Num 14\n",
      "('Equidigital', 2, 2)\n",
      "Sum of Digits of Prime Factorisation {5: 3} Sum of Digits of Num 125\n",
      "('Frugal', 1, 3)\n",
      "Sum of Digits of Prime Factorisation {2: 10} Sum of Digits of Num 1024\n",
      "('Frugal', 3, 4)\n",
      "Sum of Digits of Prime Factorisation {2: 1, 3: 1, 5: 1} Sum of Digits of Num 30\n",
      "('Wasteful', 3, 2)\n"
     ]
    }
   ],
   "metadata": {}
  }
 ]
}