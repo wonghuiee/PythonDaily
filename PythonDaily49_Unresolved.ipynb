{
 "metadata": {
  "language_info": {
   "codemirror_mode": {
    "name": "ipython",
    "version": 3
   },
   "file_extension": ".py",
   "mimetype": "text/x-python",
   "name": "python",
   "nbconvert_exporter": "python",
   "pygments_lexer": "ipython3",
   "version": "3.8.5"
  },
  "orig_nbformat": 4,
  "kernelspec": {
   "name": "python3",
   "display_name": "Python 3.8.5 64-bit ('base': conda)"
  },
  "interpreter": {
   "hash": "dca0ade3e726a953b501b15e8e990130d2b7799f14cfd9f4271676035ebe5511"
  }
 },
 "nbformat": 4,
 "nbformat_minor": 2,
 "cells": [
  {
   "cell_type": "markdown",
   "source": [
    "## pythondaily_49\n",
    "\n",
    "A billboard is an m x n list, where each list element consists of either one letter or a blank space. You are given a phrase and the billboard dimensions. Create a function that determines whether you can place the complete phrase on the billboard.\n",
    "\n",
    "There are two rules:\n",
    "\n",
    "If there is a space between two words: <br>\n",
    "If they are on the same row, you must put a space. <br>\n",
    "If they are two diﬀerent rows, the space is optional. <br>\n",
    "You can only put COMPLETE words on a row. <br>\n",
    "To illustrate, can_put(\"GOOD MORN\", [2, 4]) should yield True, <br>\n",
    "since while there is a space between \"GOOD\" and \"MORN\", <br>\n",
    "it's not needed since both words are on separate rows.\n",
    "\n",
    "[ [\"G\", \"O\", \"O\", \"D\"], [\"M\", \"O\", \"R\", \"N\"] <br>\n",
    "On the other hand can_put(\"GOOD MORN\", [1, 8]) should yield False. <br>\n",
    "Since both words reside in the ﬁrst row, we require nine spots, <br>\n",
    "and eight would yield the incomplete phrase \"GOOD MOR\".\n",
    "\n",
    "[ [\"G\", \"O\", \"O\", \"D\", \"_\", \"M\", \"O\", \"R\"] ]<br>\n",
    "We would also return False if we could not ﬁt a word on a row.<br>\n",
    "So can_put(\"GOOD MORN\", [3,3]) should yield False,<br>\n",
    "since we can only ﬁt \"GOO\" on the ﬁrst row.\n",
    "\n",
    "[ [\"G\", \"O\", \"O\"], [\"D\", \"_\", \"M\"], [\"O\", \"R\", \"N\"] ] No good!\n",
    "\n",
    "Examples<br>\n",
    "can_put(\"HEY JUDE\", [2, 4]) ➞ True<br>\n",
    "can_put(\"HEY JUDE\", [1, 8]) ➞ True<br>\n",
    "can_put(\"HEY JUDE\", [1, 7]) ➞ False<br>\n",
    "can_put(\"HEY JUDE\", [4, 3]) ➞ False"
   ],
   "metadata": {}
  },
  {
   "cell_type": "markdown",
   "source": [],
   "metadata": {}
  },
  {
   "cell_type": "markdown",
   "source": [],
   "metadata": {}
  }
 ]
}